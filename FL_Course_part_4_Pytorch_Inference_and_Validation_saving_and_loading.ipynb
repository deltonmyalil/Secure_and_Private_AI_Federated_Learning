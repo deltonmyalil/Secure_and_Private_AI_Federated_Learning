{
  "nbformat": 4,
  "nbformat_minor": 0,
  "metadata": {
    "colab": {
      "name": "FL_Course_part_4_Pytorch_Inference_and_Validation_saving_and_loading.ipynb",
      "provenance": [],
      "authorship_tag": "ABX9TyPsAVph6Ztyw5xkK3NvYB9B"
    },
    "kernelspec": {
      "name": "python3",
      "display_name": "Python 3"
    },
    "widgets": {
      "application/vnd.jupyter.widget-state+json": {
        "0e88cbe0a5e44087bc848bb5daacfaa5": {
          "model_module": "@jupyter-widgets/controls",
          "model_name": "HBoxModel",
          "state": {
            "_view_name": "HBoxView",
            "_dom_classes": [],
            "_model_name": "HBoxModel",
            "_view_module": "@jupyter-widgets/controls",
            "_model_module_version": "1.5.0",
            "_view_count": null,
            "_view_module_version": "1.5.0",
            "box_style": "",
            "layout": "IPY_MODEL_25df2ce909be4d2ab8ba7a67d71ee6a4",
            "_model_module": "@jupyter-widgets/controls",
            "children": [
              "IPY_MODEL_12500bd954e843acbe838c12e2fc8fa7",
              "IPY_MODEL_6b652edb1e9c4d3aa5a44499c2923df7"
            ]
          }
        },
        "25df2ce909be4d2ab8ba7a67d71ee6a4": {
          "model_module": "@jupyter-widgets/base",
          "model_name": "LayoutModel",
          "state": {
            "_view_name": "LayoutView",
            "grid_template_rows": null,
            "right": null,
            "justify_content": null,
            "_view_module": "@jupyter-widgets/base",
            "overflow": null,
            "_model_module_version": "1.2.0",
            "_view_count": null,
            "flex_flow": null,
            "width": null,
            "min_width": null,
            "border": null,
            "align_items": null,
            "bottom": null,
            "_model_module": "@jupyter-widgets/base",
            "top": null,
            "grid_column": null,
            "overflow_y": null,
            "overflow_x": null,
            "grid_auto_flow": null,
            "grid_area": null,
            "grid_template_columns": null,
            "flex": null,
            "_model_name": "LayoutModel",
            "justify_items": null,
            "grid_row": null,
            "max_height": null,
            "align_content": null,
            "visibility": null,
            "align_self": null,
            "height": null,
            "min_height": null,
            "padding": null,
            "grid_auto_rows": null,
            "grid_gap": null,
            "max_width": null,
            "order": null,
            "_view_module_version": "1.2.0",
            "grid_template_areas": null,
            "object_position": null,
            "object_fit": null,
            "grid_auto_columns": null,
            "margin": null,
            "display": null,
            "left": null
          }
        },
        "12500bd954e843acbe838c12e2fc8fa7": {
          "model_module": "@jupyter-widgets/controls",
          "model_name": "FloatProgressModel",
          "state": {
            "_view_name": "ProgressView",
            "style": "IPY_MODEL_b496df9c82834262b4235abe82a05132",
            "_dom_classes": [],
            "description": "",
            "_model_name": "FloatProgressModel",
            "bar_style": "info",
            "max": 1,
            "_view_module": "@jupyter-widgets/controls",
            "_model_module_version": "1.5.0",
            "value": 1,
            "_view_count": null,
            "_view_module_version": "1.5.0",
            "orientation": "horizontal",
            "min": 0,
            "description_tooltip": null,
            "_model_module": "@jupyter-widgets/controls",
            "layout": "IPY_MODEL_f9a74404dafa4bf19035c472db418d1a"
          }
        },
        "6b652edb1e9c4d3aa5a44499c2923df7": {
          "model_module": "@jupyter-widgets/controls",
          "model_name": "HTMLModel",
          "state": {
            "_view_name": "HTMLView",
            "style": "IPY_MODEL_ffd909b1e2344e56a6e01b571023848d",
            "_dom_classes": [],
            "description": "",
            "_model_name": "HTMLModel",
            "placeholder": "​",
            "_view_module": "@jupyter-widgets/controls",
            "_model_module_version": "1.5.0",
            "value": " 26427392/? [00:20&lt;00:00, 6692995.69it/s]",
            "_view_count": null,
            "_view_module_version": "1.5.0",
            "description_tooltip": null,
            "_model_module": "@jupyter-widgets/controls",
            "layout": "IPY_MODEL_e5a91c8b1769415dbd5aa3aeaa59f582"
          }
        },
        "b496df9c82834262b4235abe82a05132": {
          "model_module": "@jupyter-widgets/controls",
          "model_name": "ProgressStyleModel",
          "state": {
            "_view_name": "StyleView",
            "_model_name": "ProgressStyleModel",
            "description_width": "initial",
            "_view_module": "@jupyter-widgets/base",
            "_model_module_version": "1.5.0",
            "_view_count": null,
            "_view_module_version": "1.2.0",
            "bar_color": null,
            "_model_module": "@jupyter-widgets/controls"
          }
        },
        "f9a74404dafa4bf19035c472db418d1a": {
          "model_module": "@jupyter-widgets/base",
          "model_name": "LayoutModel",
          "state": {
            "_view_name": "LayoutView",
            "grid_template_rows": null,
            "right": null,
            "justify_content": null,
            "_view_module": "@jupyter-widgets/base",
            "overflow": null,
            "_model_module_version": "1.2.0",
            "_view_count": null,
            "flex_flow": null,
            "width": null,
            "min_width": null,
            "border": null,
            "align_items": null,
            "bottom": null,
            "_model_module": "@jupyter-widgets/base",
            "top": null,
            "grid_column": null,
            "overflow_y": null,
            "overflow_x": null,
            "grid_auto_flow": null,
            "grid_area": null,
            "grid_template_columns": null,
            "flex": null,
            "_model_name": "LayoutModel",
            "justify_items": null,
            "grid_row": null,
            "max_height": null,
            "align_content": null,
            "visibility": null,
            "align_self": null,
            "height": null,
            "min_height": null,
            "padding": null,
            "grid_auto_rows": null,
            "grid_gap": null,
            "max_width": null,
            "order": null,
            "_view_module_version": "1.2.0",
            "grid_template_areas": null,
            "object_position": null,
            "object_fit": null,
            "grid_auto_columns": null,
            "margin": null,
            "display": null,
            "left": null
          }
        },
        "ffd909b1e2344e56a6e01b571023848d": {
          "model_module": "@jupyter-widgets/controls",
          "model_name": "DescriptionStyleModel",
          "state": {
            "_view_name": "StyleView",
            "_model_name": "DescriptionStyleModel",
            "description_width": "",
            "_view_module": "@jupyter-widgets/base",
            "_model_module_version": "1.5.0",
            "_view_count": null,
            "_view_module_version": "1.2.0",
            "_model_module": "@jupyter-widgets/controls"
          }
        },
        "e5a91c8b1769415dbd5aa3aeaa59f582": {
          "model_module": "@jupyter-widgets/base",
          "model_name": "LayoutModel",
          "state": {
            "_view_name": "LayoutView",
            "grid_template_rows": null,
            "right": null,
            "justify_content": null,
            "_view_module": "@jupyter-widgets/base",
            "overflow": null,
            "_model_module_version": "1.2.0",
            "_view_count": null,
            "flex_flow": null,
            "width": null,
            "min_width": null,
            "border": null,
            "align_items": null,
            "bottom": null,
            "_model_module": "@jupyter-widgets/base",
            "top": null,
            "grid_column": null,
            "overflow_y": null,
            "overflow_x": null,
            "grid_auto_flow": null,
            "grid_area": null,
            "grid_template_columns": null,
            "flex": null,
            "_model_name": "LayoutModel",
            "justify_items": null,
            "grid_row": null,
            "max_height": null,
            "align_content": null,
            "visibility": null,
            "align_self": null,
            "height": null,
            "min_height": null,
            "padding": null,
            "grid_auto_rows": null,
            "grid_gap": null,
            "max_width": null,
            "order": null,
            "_view_module_version": "1.2.0",
            "grid_template_areas": null,
            "object_position": null,
            "object_fit": null,
            "grid_auto_columns": null,
            "margin": null,
            "display": null,
            "left": null
          }
        },
        "16987618f23c4fb783b25b7774f89e4e": {
          "model_module": "@jupyter-widgets/controls",
          "model_name": "HBoxModel",
          "state": {
            "_view_name": "HBoxView",
            "_dom_classes": [],
            "_model_name": "HBoxModel",
            "_view_module": "@jupyter-widgets/controls",
            "_model_module_version": "1.5.0",
            "_view_count": null,
            "_view_module_version": "1.5.0",
            "box_style": "",
            "layout": "IPY_MODEL_d14453336ebb4da3b2f37ae4ae7d0107",
            "_model_module": "@jupyter-widgets/controls",
            "children": [
              "IPY_MODEL_8d6ad0fda4b441899790f7a739bd02dc",
              "IPY_MODEL_360fae3f31674d5abbd8c48f321cd826"
            ]
          }
        },
        "d14453336ebb4da3b2f37ae4ae7d0107": {
          "model_module": "@jupyter-widgets/base",
          "model_name": "LayoutModel",
          "state": {
            "_view_name": "LayoutView",
            "grid_template_rows": null,
            "right": null,
            "justify_content": null,
            "_view_module": "@jupyter-widgets/base",
            "overflow": null,
            "_model_module_version": "1.2.0",
            "_view_count": null,
            "flex_flow": null,
            "width": null,
            "min_width": null,
            "border": null,
            "align_items": null,
            "bottom": null,
            "_model_module": "@jupyter-widgets/base",
            "top": null,
            "grid_column": null,
            "overflow_y": null,
            "overflow_x": null,
            "grid_auto_flow": null,
            "grid_area": null,
            "grid_template_columns": null,
            "flex": null,
            "_model_name": "LayoutModel",
            "justify_items": null,
            "grid_row": null,
            "max_height": null,
            "align_content": null,
            "visibility": null,
            "align_self": null,
            "height": null,
            "min_height": null,
            "padding": null,
            "grid_auto_rows": null,
            "grid_gap": null,
            "max_width": null,
            "order": null,
            "_view_module_version": "1.2.0",
            "grid_template_areas": null,
            "object_position": null,
            "object_fit": null,
            "grid_auto_columns": null,
            "margin": null,
            "display": null,
            "left": null
          }
        },
        "8d6ad0fda4b441899790f7a739bd02dc": {
          "model_module": "@jupyter-widgets/controls",
          "model_name": "FloatProgressModel",
          "state": {
            "_view_name": "ProgressView",
            "style": "IPY_MODEL_2d3cc997b37c43249897a1c392b17815",
            "_dom_classes": [],
            "description": "",
            "_model_name": "FloatProgressModel",
            "bar_style": "success",
            "max": 1,
            "_view_module": "@jupyter-widgets/controls",
            "_model_module_version": "1.5.0",
            "value": 1,
            "_view_count": null,
            "_view_module_version": "1.5.0",
            "orientation": "horizontal",
            "min": 0,
            "description_tooltip": null,
            "_model_module": "@jupyter-widgets/controls",
            "layout": "IPY_MODEL_d30a6560e11448d0be408bee73e3d6f8"
          }
        },
        "360fae3f31674d5abbd8c48f321cd826": {
          "model_module": "@jupyter-widgets/controls",
          "model_name": "HTMLModel",
          "state": {
            "_view_name": "HTMLView",
            "style": "IPY_MODEL_b9e935a1c87e47aa8607a705d7ecdbfc",
            "_dom_classes": [],
            "description": "",
            "_model_name": "HTMLModel",
            "placeholder": "​",
            "_view_module": "@jupyter-widgets/controls",
            "_model_module_version": "1.5.0",
            "value": " 32768/? [00:00&lt;00:00, 63330.26it/s]",
            "_view_count": null,
            "_view_module_version": "1.5.0",
            "description_tooltip": null,
            "_model_module": "@jupyter-widgets/controls",
            "layout": "IPY_MODEL_6a16bbf8404d44afa20dc8942f78fd18"
          }
        },
        "2d3cc997b37c43249897a1c392b17815": {
          "model_module": "@jupyter-widgets/controls",
          "model_name": "ProgressStyleModel",
          "state": {
            "_view_name": "StyleView",
            "_model_name": "ProgressStyleModel",
            "description_width": "initial",
            "_view_module": "@jupyter-widgets/base",
            "_model_module_version": "1.5.0",
            "_view_count": null,
            "_view_module_version": "1.2.0",
            "bar_color": null,
            "_model_module": "@jupyter-widgets/controls"
          }
        },
        "d30a6560e11448d0be408bee73e3d6f8": {
          "model_module": "@jupyter-widgets/base",
          "model_name": "LayoutModel",
          "state": {
            "_view_name": "LayoutView",
            "grid_template_rows": null,
            "right": null,
            "justify_content": null,
            "_view_module": "@jupyter-widgets/base",
            "overflow": null,
            "_model_module_version": "1.2.0",
            "_view_count": null,
            "flex_flow": null,
            "width": null,
            "min_width": null,
            "border": null,
            "align_items": null,
            "bottom": null,
            "_model_module": "@jupyter-widgets/base",
            "top": null,
            "grid_column": null,
            "overflow_y": null,
            "overflow_x": null,
            "grid_auto_flow": null,
            "grid_area": null,
            "grid_template_columns": null,
            "flex": null,
            "_model_name": "LayoutModel",
            "justify_items": null,
            "grid_row": null,
            "max_height": null,
            "align_content": null,
            "visibility": null,
            "align_self": null,
            "height": null,
            "min_height": null,
            "padding": null,
            "grid_auto_rows": null,
            "grid_gap": null,
            "max_width": null,
            "order": null,
            "_view_module_version": "1.2.0",
            "grid_template_areas": null,
            "object_position": null,
            "object_fit": null,
            "grid_auto_columns": null,
            "margin": null,
            "display": null,
            "left": null
          }
        },
        "b9e935a1c87e47aa8607a705d7ecdbfc": {
          "model_module": "@jupyter-widgets/controls",
          "model_name": "DescriptionStyleModel",
          "state": {
            "_view_name": "StyleView",
            "_model_name": "DescriptionStyleModel",
            "description_width": "",
            "_view_module": "@jupyter-widgets/base",
            "_model_module_version": "1.5.0",
            "_view_count": null,
            "_view_module_version": "1.2.0",
            "_model_module": "@jupyter-widgets/controls"
          }
        },
        "6a16bbf8404d44afa20dc8942f78fd18": {
          "model_module": "@jupyter-widgets/base",
          "model_name": "LayoutModel",
          "state": {
            "_view_name": "LayoutView",
            "grid_template_rows": null,
            "right": null,
            "justify_content": null,
            "_view_module": "@jupyter-widgets/base",
            "overflow": null,
            "_model_module_version": "1.2.0",
            "_view_count": null,
            "flex_flow": null,
            "width": null,
            "min_width": null,
            "border": null,
            "align_items": null,
            "bottom": null,
            "_model_module": "@jupyter-widgets/base",
            "top": null,
            "grid_column": null,
            "overflow_y": null,
            "overflow_x": null,
            "grid_auto_flow": null,
            "grid_area": null,
            "grid_template_columns": null,
            "flex": null,
            "_model_name": "LayoutModel",
            "justify_items": null,
            "grid_row": null,
            "max_height": null,
            "align_content": null,
            "visibility": null,
            "align_self": null,
            "height": null,
            "min_height": null,
            "padding": null,
            "grid_auto_rows": null,
            "grid_gap": null,
            "max_width": null,
            "order": null,
            "_view_module_version": "1.2.0",
            "grid_template_areas": null,
            "object_position": null,
            "object_fit": null,
            "grid_auto_columns": null,
            "margin": null,
            "display": null,
            "left": null
          }
        },
        "bd4a39e522a146c5ad22c7e76bf323f8": {
          "model_module": "@jupyter-widgets/controls",
          "model_name": "HBoxModel",
          "state": {
            "_view_name": "HBoxView",
            "_dom_classes": [],
            "_model_name": "HBoxModel",
            "_view_module": "@jupyter-widgets/controls",
            "_model_module_version": "1.5.0",
            "_view_count": null,
            "_view_module_version": "1.5.0",
            "box_style": "",
            "layout": "IPY_MODEL_7ef6299ff3ce4986861fbdee323703de",
            "_model_module": "@jupyter-widgets/controls",
            "children": [
              "IPY_MODEL_d80119a88bbe4c58b45de0f6cc74a1c6",
              "IPY_MODEL_1387fead2ba8499c97463c9454350971"
            ]
          }
        },
        "7ef6299ff3ce4986861fbdee323703de": {
          "model_module": "@jupyter-widgets/base",
          "model_name": "LayoutModel",
          "state": {
            "_view_name": "LayoutView",
            "grid_template_rows": null,
            "right": null,
            "justify_content": null,
            "_view_module": "@jupyter-widgets/base",
            "overflow": null,
            "_model_module_version": "1.2.0",
            "_view_count": null,
            "flex_flow": null,
            "width": null,
            "min_width": null,
            "border": null,
            "align_items": null,
            "bottom": null,
            "_model_module": "@jupyter-widgets/base",
            "top": null,
            "grid_column": null,
            "overflow_y": null,
            "overflow_x": null,
            "grid_auto_flow": null,
            "grid_area": null,
            "grid_template_columns": null,
            "flex": null,
            "_model_name": "LayoutModel",
            "justify_items": null,
            "grid_row": null,
            "max_height": null,
            "align_content": null,
            "visibility": null,
            "align_self": null,
            "height": null,
            "min_height": null,
            "padding": null,
            "grid_auto_rows": null,
            "grid_gap": null,
            "max_width": null,
            "order": null,
            "_view_module_version": "1.2.0",
            "grid_template_areas": null,
            "object_position": null,
            "object_fit": null,
            "grid_auto_columns": null,
            "margin": null,
            "display": null,
            "left": null
          }
        },
        "d80119a88bbe4c58b45de0f6cc74a1c6": {
          "model_module": "@jupyter-widgets/controls",
          "model_name": "FloatProgressModel",
          "state": {
            "_view_name": "ProgressView",
            "style": "IPY_MODEL_b3f1b976749b45bd875e0b7021f72072",
            "_dom_classes": [],
            "description": "",
            "_model_name": "FloatProgressModel",
            "bar_style": "info",
            "max": 1,
            "_view_module": "@jupyter-widgets/controls",
            "_model_module_version": "1.5.0",
            "value": 1,
            "_view_count": null,
            "_view_module_version": "1.5.0",
            "orientation": "horizontal",
            "min": 0,
            "description_tooltip": null,
            "_model_module": "@jupyter-widgets/controls",
            "layout": "IPY_MODEL_bffbfc5ffc8d4087b9c60ea66b1c09d1"
          }
        },
        "1387fead2ba8499c97463c9454350971": {
          "model_module": "@jupyter-widgets/controls",
          "model_name": "HTMLModel",
          "state": {
            "_view_name": "HTMLView",
            "style": "IPY_MODEL_5a4698e8053b4c70944eaac543bf821a",
            "_dom_classes": [],
            "description": "",
            "_model_name": "HTMLModel",
            "placeholder": "​",
            "_view_module": "@jupyter-widgets/controls",
            "_model_module_version": "1.5.0",
            "value": " 4423680/? [00:16&lt;00:00, 791887.27it/s]",
            "_view_count": null,
            "_view_module_version": "1.5.0",
            "description_tooltip": null,
            "_model_module": "@jupyter-widgets/controls",
            "layout": "IPY_MODEL_da9beae47f1440ea9f200227ea27963e"
          }
        },
        "b3f1b976749b45bd875e0b7021f72072": {
          "model_module": "@jupyter-widgets/controls",
          "model_name": "ProgressStyleModel",
          "state": {
            "_view_name": "StyleView",
            "_model_name": "ProgressStyleModel",
            "description_width": "initial",
            "_view_module": "@jupyter-widgets/base",
            "_model_module_version": "1.5.0",
            "_view_count": null,
            "_view_module_version": "1.2.0",
            "bar_color": null,
            "_model_module": "@jupyter-widgets/controls"
          }
        },
        "bffbfc5ffc8d4087b9c60ea66b1c09d1": {
          "model_module": "@jupyter-widgets/base",
          "model_name": "LayoutModel",
          "state": {
            "_view_name": "LayoutView",
            "grid_template_rows": null,
            "right": null,
            "justify_content": null,
            "_view_module": "@jupyter-widgets/base",
            "overflow": null,
            "_model_module_version": "1.2.0",
            "_view_count": null,
            "flex_flow": null,
            "width": null,
            "min_width": null,
            "border": null,
            "align_items": null,
            "bottom": null,
            "_model_module": "@jupyter-widgets/base",
            "top": null,
            "grid_column": null,
            "overflow_y": null,
            "overflow_x": null,
            "grid_auto_flow": null,
            "grid_area": null,
            "grid_template_columns": null,
            "flex": null,
            "_model_name": "LayoutModel",
            "justify_items": null,
            "grid_row": null,
            "max_height": null,
            "align_content": null,
            "visibility": null,
            "align_self": null,
            "height": null,
            "min_height": null,
            "padding": null,
            "grid_auto_rows": null,
            "grid_gap": null,
            "max_width": null,
            "order": null,
            "_view_module_version": "1.2.0",
            "grid_template_areas": null,
            "object_position": null,
            "object_fit": null,
            "grid_auto_columns": null,
            "margin": null,
            "display": null,
            "left": null
          }
        },
        "5a4698e8053b4c70944eaac543bf821a": {
          "model_module": "@jupyter-widgets/controls",
          "model_name": "DescriptionStyleModel",
          "state": {
            "_view_name": "StyleView",
            "_model_name": "DescriptionStyleModel",
            "description_width": "",
            "_view_module": "@jupyter-widgets/base",
            "_model_module_version": "1.5.0",
            "_view_count": null,
            "_view_module_version": "1.2.0",
            "_model_module": "@jupyter-widgets/controls"
          }
        },
        "da9beae47f1440ea9f200227ea27963e": {
          "model_module": "@jupyter-widgets/base",
          "model_name": "LayoutModel",
          "state": {
            "_view_name": "LayoutView",
            "grid_template_rows": null,
            "right": null,
            "justify_content": null,
            "_view_module": "@jupyter-widgets/base",
            "overflow": null,
            "_model_module_version": "1.2.0",
            "_view_count": null,
            "flex_flow": null,
            "width": null,
            "min_width": null,
            "border": null,
            "align_items": null,
            "bottom": null,
            "_model_module": "@jupyter-widgets/base",
            "top": null,
            "grid_column": null,
            "overflow_y": null,
            "overflow_x": null,
            "grid_auto_flow": null,
            "grid_area": null,
            "grid_template_columns": null,
            "flex": null,
            "_model_name": "LayoutModel",
            "justify_items": null,
            "grid_row": null,
            "max_height": null,
            "align_content": null,
            "visibility": null,
            "align_self": null,
            "height": null,
            "min_height": null,
            "padding": null,
            "grid_auto_rows": null,
            "grid_gap": null,
            "max_width": null,
            "order": null,
            "_view_module_version": "1.2.0",
            "grid_template_areas": null,
            "object_position": null,
            "object_fit": null,
            "grid_auto_columns": null,
            "margin": null,
            "display": null,
            "left": null
          }
        },
        "0564d29077194cc29a30998a8b9a42b6": {
          "model_module": "@jupyter-widgets/controls",
          "model_name": "HBoxModel",
          "state": {
            "_view_name": "HBoxView",
            "_dom_classes": [],
            "_model_name": "HBoxModel",
            "_view_module": "@jupyter-widgets/controls",
            "_model_module_version": "1.5.0",
            "_view_count": null,
            "_view_module_version": "1.5.0",
            "box_style": "",
            "layout": "IPY_MODEL_04c861394b1a4754911c7601b777bbda",
            "_model_module": "@jupyter-widgets/controls",
            "children": [
              "IPY_MODEL_968736eae5614691bb361d4550ebc003",
              "IPY_MODEL_c1bf1dd40efe4742934f2df4967b88d1"
            ]
          }
        },
        "04c861394b1a4754911c7601b777bbda": {
          "model_module": "@jupyter-widgets/base",
          "model_name": "LayoutModel",
          "state": {
            "_view_name": "LayoutView",
            "grid_template_rows": null,
            "right": null,
            "justify_content": null,
            "_view_module": "@jupyter-widgets/base",
            "overflow": null,
            "_model_module_version": "1.2.0",
            "_view_count": null,
            "flex_flow": null,
            "width": null,
            "min_width": null,
            "border": null,
            "align_items": null,
            "bottom": null,
            "_model_module": "@jupyter-widgets/base",
            "top": null,
            "grid_column": null,
            "overflow_y": null,
            "overflow_x": null,
            "grid_auto_flow": null,
            "grid_area": null,
            "grid_template_columns": null,
            "flex": null,
            "_model_name": "LayoutModel",
            "justify_items": null,
            "grid_row": null,
            "max_height": null,
            "align_content": null,
            "visibility": null,
            "align_self": null,
            "height": null,
            "min_height": null,
            "padding": null,
            "grid_auto_rows": null,
            "grid_gap": null,
            "max_width": null,
            "order": null,
            "_view_module_version": "1.2.0",
            "grid_template_areas": null,
            "object_position": null,
            "object_fit": null,
            "grid_auto_columns": null,
            "margin": null,
            "display": null,
            "left": null
          }
        },
        "968736eae5614691bb361d4550ebc003": {
          "model_module": "@jupyter-widgets/controls",
          "model_name": "FloatProgressModel",
          "state": {
            "_view_name": "ProgressView",
            "style": "IPY_MODEL_90216acd0c83432fa592c764a65d4976",
            "_dom_classes": [],
            "description": "  0%",
            "_model_name": "FloatProgressModel",
            "bar_style": "info",
            "max": 1,
            "_view_module": "@jupyter-widgets/controls",
            "_model_module_version": "1.5.0",
            "value": 0,
            "_view_count": null,
            "_view_module_version": "1.5.0",
            "orientation": "horizontal",
            "min": 0,
            "description_tooltip": null,
            "_model_module": "@jupyter-widgets/controls",
            "layout": "IPY_MODEL_b17d90708cce47bdb38b41d4356c4aa8"
          }
        },
        "c1bf1dd40efe4742934f2df4967b88d1": {
          "model_module": "@jupyter-widgets/controls",
          "model_name": "HTMLModel",
          "state": {
            "_view_name": "HTMLView",
            "style": "IPY_MODEL_c634e421a49e425b8a2e0bdd953ce75c",
            "_dom_classes": [],
            "description": "",
            "_model_name": "HTMLModel",
            "placeholder": "​",
            "_view_module": "@jupyter-widgets/controls",
            "_model_module_version": "1.5.0",
            "value": " 0/5148 [00:00&lt;?, ?it/s]",
            "_view_count": null,
            "_view_module_version": "1.5.0",
            "description_tooltip": null,
            "_model_module": "@jupyter-widgets/controls",
            "layout": "IPY_MODEL_fde398b4f4ff4d42a795f7296aa0012f"
          }
        },
        "90216acd0c83432fa592c764a65d4976": {
          "model_module": "@jupyter-widgets/controls",
          "model_name": "ProgressStyleModel",
          "state": {
            "_view_name": "StyleView",
            "_model_name": "ProgressStyleModel",
            "description_width": "initial",
            "_view_module": "@jupyter-widgets/base",
            "_model_module_version": "1.5.0",
            "_view_count": null,
            "_view_module_version": "1.2.0",
            "bar_color": null,
            "_model_module": "@jupyter-widgets/controls"
          }
        },
        "b17d90708cce47bdb38b41d4356c4aa8": {
          "model_module": "@jupyter-widgets/base",
          "model_name": "LayoutModel",
          "state": {
            "_view_name": "LayoutView",
            "grid_template_rows": null,
            "right": null,
            "justify_content": null,
            "_view_module": "@jupyter-widgets/base",
            "overflow": null,
            "_model_module_version": "1.2.0",
            "_view_count": null,
            "flex_flow": null,
            "width": null,
            "min_width": null,
            "border": null,
            "align_items": null,
            "bottom": null,
            "_model_module": "@jupyter-widgets/base",
            "top": null,
            "grid_column": null,
            "overflow_y": null,
            "overflow_x": null,
            "grid_auto_flow": null,
            "grid_area": null,
            "grid_template_columns": null,
            "flex": null,
            "_model_name": "LayoutModel",
            "justify_items": null,
            "grid_row": null,
            "max_height": null,
            "align_content": null,
            "visibility": null,
            "align_self": null,
            "height": null,
            "min_height": null,
            "padding": null,
            "grid_auto_rows": null,
            "grid_gap": null,
            "max_width": null,
            "order": null,
            "_view_module_version": "1.2.0",
            "grid_template_areas": null,
            "object_position": null,
            "object_fit": null,
            "grid_auto_columns": null,
            "margin": null,
            "display": null,
            "left": null
          }
        },
        "c634e421a49e425b8a2e0bdd953ce75c": {
          "model_module": "@jupyter-widgets/controls",
          "model_name": "DescriptionStyleModel",
          "state": {
            "_view_name": "StyleView",
            "_model_name": "DescriptionStyleModel",
            "description_width": "",
            "_view_module": "@jupyter-widgets/base",
            "_model_module_version": "1.5.0",
            "_view_count": null,
            "_view_module_version": "1.2.0",
            "_model_module": "@jupyter-widgets/controls"
          }
        },
        "fde398b4f4ff4d42a795f7296aa0012f": {
          "model_module": "@jupyter-widgets/base",
          "model_name": "LayoutModel",
          "state": {
            "_view_name": "LayoutView",
            "grid_template_rows": null,
            "right": null,
            "justify_content": null,
            "_view_module": "@jupyter-widgets/base",
            "overflow": null,
            "_model_module_version": "1.2.0",
            "_view_count": null,
            "flex_flow": null,
            "width": null,
            "min_width": null,
            "border": null,
            "align_items": null,
            "bottom": null,
            "_model_module": "@jupyter-widgets/base",
            "top": null,
            "grid_column": null,
            "overflow_y": null,
            "overflow_x": null,
            "grid_auto_flow": null,
            "grid_area": null,
            "grid_template_columns": null,
            "flex": null,
            "_model_name": "LayoutModel",
            "justify_items": null,
            "grid_row": null,
            "max_height": null,
            "align_content": null,
            "visibility": null,
            "align_self": null,
            "height": null,
            "min_height": null,
            "padding": null,
            "grid_auto_rows": null,
            "grid_gap": null,
            "max_width": null,
            "order": null,
            "_view_module_version": "1.2.0",
            "grid_template_areas": null,
            "object_position": null,
            "object_fit": null,
            "grid_auto_columns": null,
            "margin": null,
            "display": null,
            "left": null
          }
        }
      }
    }
  },
  "cells": [
    {
      "cell_type": "code",
      "metadata": {
        "colab": {
          "base_uri": "https://localhost:8080/",
          "height": 386,
          "referenced_widgets": [
            "0e88cbe0a5e44087bc848bb5daacfaa5",
            "25df2ce909be4d2ab8ba7a67d71ee6a4",
            "12500bd954e843acbe838c12e2fc8fa7",
            "6b652edb1e9c4d3aa5a44499c2923df7",
            "b496df9c82834262b4235abe82a05132",
            "f9a74404dafa4bf19035c472db418d1a",
            "ffd909b1e2344e56a6e01b571023848d",
            "e5a91c8b1769415dbd5aa3aeaa59f582",
            "16987618f23c4fb783b25b7774f89e4e",
            "d14453336ebb4da3b2f37ae4ae7d0107",
            "8d6ad0fda4b441899790f7a739bd02dc",
            "360fae3f31674d5abbd8c48f321cd826",
            "2d3cc997b37c43249897a1c392b17815",
            "d30a6560e11448d0be408bee73e3d6f8",
            "b9e935a1c87e47aa8607a705d7ecdbfc",
            "6a16bbf8404d44afa20dc8942f78fd18",
            "bd4a39e522a146c5ad22c7e76bf323f8",
            "7ef6299ff3ce4986861fbdee323703de",
            "d80119a88bbe4c58b45de0f6cc74a1c6",
            "1387fead2ba8499c97463c9454350971",
            "b3f1b976749b45bd875e0b7021f72072",
            "bffbfc5ffc8d4087b9c60ea66b1c09d1",
            "5a4698e8053b4c70944eaac543bf821a",
            "da9beae47f1440ea9f200227ea27963e",
            "0564d29077194cc29a30998a8b9a42b6",
            "04c861394b1a4754911c7601b777bbda",
            "968736eae5614691bb361d4550ebc003",
            "c1bf1dd40efe4742934f2df4967b88d1",
            "90216acd0c83432fa592c764a65d4976",
            "b17d90708cce47bdb38b41d4356c4aa8",
            "c634e421a49e425b8a2e0bdd953ce75c",
            "fde398b4f4ff4d42a795f7296aa0012f"
          ]
        },
        "id": "0ZIk3HqGR0AU",
        "outputId": "78d1e1c4-f047-497d-91d5-ab64a06dd142"
      },
      "source": [
        "import torch\r\n",
        "import torch.nn as nn\r\n",
        "import torch.optim as optim\r\n",
        "import torch.nn.functional as F\r\n",
        "from torchvision import datasets, transforms\r\n",
        "\r\n",
        "import numpy as np\r\n",
        "import pandas as pd\r\n",
        "import matplotlib.pyplot as plt\r\n",
        "\r\n",
        "transform = transforms.Compose([\r\n",
        "                                transforms.ToTensor(),\r\n",
        "                                transforms.Normalize(mean=(.5), std=(.5))\r\n",
        "])\r\n",
        "\r\n",
        "trainset = datasets.FashionMNIST('~/.pytorch/F_MNIST_data/', download=True, train=True, transform=transform)\r\n",
        "trainloader = torch.utils.data.DataLoader(trainset, batch_size=64, shuffle=True)\r\n",
        "\r\n",
        "# Download and load the test data\r\n",
        "testset = datasets.FashionMNIST('~/.pytorch/F_MNIST_data/', download=True, train=False, transform=transform)\r\n",
        "testloader = torch.utils.data.DataLoader(testset, batch_size=64, shuffle=True)\r\n",
        "\r\n",
        "class Classifier(nn.Module):\r\n",
        "    def __init__(self):\r\n",
        "        super().__init__()\r\n",
        "        self.fc1 = nn.Linear(784, 256)\r\n",
        "        self.fc2 = nn.Linear(256, 128)\r\n",
        "        self.fc3 = nn.Linear(128, 64)\r\n",
        "        self.fc4 = nn.Linear(64, 10)\r\n",
        "    \r\n",
        "    def forward(self, x):\r\n",
        "        x = x.view(x.shape[0], -1)\r\n",
        "        x = F.relu(self.fc1(x))\r\n",
        "        x = F.relu(self.fc2(x))\r\n",
        "        x = F.relu(self.fc3(x))\r\n",
        "        x = F.log_softmax(self.fc4(x), dim=1)\r\n",
        "        return x"
      ],
      "execution_count": null,
      "outputs": [
        {
          "output_type": "stream",
          "text": [
            "Downloading http://fashion-mnist.s3-website.eu-central-1.amazonaws.com/train-images-idx3-ubyte.gz to /root/.pytorch/F_MNIST_data/FashionMNIST/raw/train-images-idx3-ubyte.gz\n"
          ],
          "name": "stdout"
        },
        {
          "output_type": "display_data",
          "data": {
            "application/vnd.jupyter.widget-view+json": {
              "model_id": "0e88cbe0a5e44087bc848bb5daacfaa5",
              "version_minor": 0,
              "version_major": 2
            },
            "text/plain": [
              "HBox(children=(FloatProgress(value=1.0, bar_style='info', max=1.0), HTML(value='')))"
            ]
          },
          "metadata": {
            "tags": []
          }
        },
        {
          "output_type": "stream",
          "text": [
            "Extracting /root/.pytorch/F_MNIST_data/FashionMNIST/raw/train-images-idx3-ubyte.gz to /root/.pytorch/F_MNIST_data/FashionMNIST/raw\n",
            "Downloading http://fashion-mnist.s3-website.eu-central-1.amazonaws.com/train-labels-idx1-ubyte.gz to /root/.pytorch/F_MNIST_data/FashionMNIST/raw/train-labels-idx1-ubyte.gz\n"
          ],
          "name": "stdout"
        },
        {
          "output_type": "display_data",
          "data": {
            "application/vnd.jupyter.widget-view+json": {
              "model_id": "16987618f23c4fb783b25b7774f89e4e",
              "version_minor": 0,
              "version_major": 2
            },
            "text/plain": [
              "HBox(children=(FloatProgress(value=1.0, bar_style='info', max=1.0), HTML(value='')))"
            ]
          },
          "metadata": {
            "tags": []
          }
        },
        {
          "output_type": "stream",
          "text": [
            "Extracting /root/.pytorch/F_MNIST_data/FashionMNIST/raw/train-labels-idx1-ubyte.gz to /root/.pytorch/F_MNIST_data/FashionMNIST/raw\n",
            "Downloading http://fashion-mnist.s3-website.eu-central-1.amazonaws.com/t10k-images-idx3-ubyte.gz to /root/.pytorch/F_MNIST_data/FashionMNIST/raw/t10k-images-idx3-ubyte.gz\n",
            "\n"
          ],
          "name": "stdout"
        },
        {
          "output_type": "display_data",
          "data": {
            "application/vnd.jupyter.widget-view+json": {
              "model_id": "bd4a39e522a146c5ad22c7e76bf323f8",
              "version_minor": 0,
              "version_major": 2
            },
            "text/plain": [
              "HBox(children=(FloatProgress(value=1.0, bar_style='info', max=1.0), HTML(value='')))"
            ]
          },
          "metadata": {
            "tags": []
          }
        },
        {
          "output_type": "stream",
          "text": [
            "Extracting /root/.pytorch/F_MNIST_data/FashionMNIST/raw/t10k-images-idx3-ubyte.gz to /root/.pytorch/F_MNIST_data/FashionMNIST/raw\n",
            "Downloading http://fashion-mnist.s3-website.eu-central-1.amazonaws.com/t10k-labels-idx1-ubyte.gz to /root/.pytorch/F_MNIST_data/FashionMNIST/raw/t10k-labels-idx1-ubyte.gz\n"
          ],
          "name": "stdout"
        },
        {
          "output_type": "display_data",
          "data": {
            "application/vnd.jupyter.widget-view+json": {
              "model_id": "0564d29077194cc29a30998a8b9a42b6",
              "version_minor": 0,
              "version_major": 2
            },
            "text/plain": [
              "HBox(children=(FloatProgress(value=1.0, bar_style='info', max=1.0), HTML(value='')))"
            ]
          },
          "metadata": {
            "tags": []
          }
        },
        {
          "output_type": "stream",
          "text": [
            "Extracting /root/.pytorch/F_MNIST_data/FashionMNIST/raw/t10k-labels-idx1-ubyte.gz to /root/.pytorch/F_MNIST_data/FashionMNIST/raw\n",
            "Processing...\n",
            "Done!\n"
          ],
          "name": "stdout"
        },
        {
          "output_type": "stream",
          "text": [
            "/usr/local/lib/python3.6/dist-packages/torchvision/datasets/mnist.py:480: UserWarning: The given NumPy array is not writeable, and PyTorch does not support non-writeable tensors. This means you can write to the underlying (supposedly non-writeable) NumPy array using the tensor. You may want to copy the array to protect its data or make it writeable before converting it to a tensor. This type of warning will be suppressed for the rest of this program. (Triggered internally at  /pytorch/torch/csrc/utils/tensor_numpy.cpp:141.)\n",
            "  return torch.from_numpy(parsed.astype(m[2], copy=False)).view(*s)\n"
          ],
          "name": "stderr"
        }
      ]
    },
    {
      "cell_type": "markdown",
      "metadata": {
        "id": "yXWqRkfvT6Rb"
      },
      "source": [
        "### Trials before training"
      ]
    },
    {
      "cell_type": "code",
      "metadata": {
        "colab": {
          "base_uri": "https://localhost:8080/"
        },
        "id": "KRFaaUZ4UCZM",
        "outputId": "40f2055a-de83-48b3-acdf-5e31b89399e9"
      },
      "source": [
        "model = Classifier()\r\n",
        "\r\n",
        "images, labels = next(iter(trainloader))\r\n",
        "ps = torch.exp(model(images)) # get softmax probabilities\r\n",
        "ps.shape"
      ],
      "execution_count": null,
      "outputs": [
        {
          "output_type": "execute_result",
          "data": {
            "text/plain": [
              "torch.Size([64, 10])"
            ]
          },
          "metadata": {
            "tags": []
          },
          "execution_count": 3
        }
      ]
    },
    {
      "cell_type": "markdown",
      "metadata": {
        "id": "KvtlB02nUS55"
      },
      "source": [
        "We are getting 10 columns ie one softmax probability per label\r\n"
      ]
    },
    {
      "cell_type": "code",
      "metadata": {
        "id": "g8BhXfrGUW3D",
        "colab": {
          "base_uri": "https://localhost:8080/"
        },
        "outputId": "ee26c619-4de8-45d3-e1f0-d4a2e9bb2a3a"
      },
      "source": [
        "top_p, top_class = ps.topk(1, dim=1) # returns the prob and index of the top k values (here top 1)\r\n",
        "# Check for the first 10 examples\r\n",
        "print(top_class[:10, :]) # [first ten rows, all columns]"
      ],
      "execution_count": null,
      "outputs": [
        {
          "output_type": "stream",
          "text": [
            "tensor([[5],\n",
            "        [5],\n",
            "        [5],\n",
            "        [5],\n",
            "        [5],\n",
            "        [5],\n",
            "        [5],\n",
            "        [5],\n",
            "        [5],\n",
            "        [5]])\n"
          ],
          "name": "stdout"
        }
      ]
    },
    {
      "cell_type": "markdown",
      "metadata": {
        "id": "pwB-hLuuVm5-"
      },
      "source": [
        "## Training"
      ]
    },
    {
      "cell_type": "code",
      "metadata": {
        "colab": {
          "base_uri": "https://localhost:8080/"
        },
        "id": "Hoab_4pDVpHU",
        "outputId": "a7166574-b52b-423c-9273-d0f4e7529580"
      },
      "source": [
        "model = Classifier()\r\n",
        "criterion = nn.NLLLoss()\r\n",
        "optimizer = optim.Adam(model.parameters(), lr=0.001)\r\n",
        "\r\n",
        "epochs = 30\r\n",
        "steps = 0\r\n",
        "train_losses = []\r\n",
        "test_losses = []\r\n",
        "\r\n",
        "for e in range(epochs):\r\n",
        "    running_loss = 0\r\n",
        "    for images, labels in trainloader:\r\n",
        "        optimizer.zero_grad()\r\n",
        "        log_ps = model(images)\r\n",
        "        loss = criterion(log_ps, labels)\r\n",
        "        loss.backward()\r\n",
        "        optimizer.step()\r\n",
        "        running_loss += loss.item()\r\n",
        "    else:\r\n",
        "        # Else block executes once per completion of all the iteration of the for loop above\r\n",
        "        test_loss = 0\r\n",
        "        accuracy = 0\r\n",
        "        # turn off gradients for validation\r\n",
        "        with torch.no_grad():\r\n",
        "            for images, labels in testloader:\r\n",
        "                log_ps = model(images)\r\n",
        "                test_loss += criterion(log_ps, labels)\r\n",
        "                ps = torch.exp(log_ps) # softmax from logits\r\n",
        "                top_p, top_class = ps.topk(1, dim=1)\r\n",
        "                equals = top_class == labels.view(*top_class.shape)\r\n",
        "                accuracy += torch.mean(equals.type(torch.FloatTensor))\r\n",
        "        train_losses.append(running_loss/len(trainloader))\r\n",
        "        test_losses.append(test_loss/len(testloader))\r\n",
        "\r\n",
        "        print(\"Epoch: {}/{}.. \".format(e+1, epochs),\r\n",
        "              \"Training Loss: {:.3f}.. \".format(running_loss/len(trainloader)),\r\n",
        "              \"Test Loss: {:.3f}.. \".format(test_loss/len(testloader)),\r\n",
        "              \"Test Accuracy: {:.3f}\".format(accuracy/len(testloader)))"
      ],
      "execution_count": null,
      "outputs": [
        {
          "output_type": "stream",
          "text": [
            "Epoch: 1/30..  Training Loss: 0.518..  Test Loss: 0.416..  Test Accuracy: 0.848\n",
            "Epoch: 2/30..  Training Loss: 0.377..  Test Loss: 0.406..  Test Accuracy: 0.852\n",
            "Epoch: 3/30..  Training Loss: 0.338..  Test Loss: 0.365..  Test Accuracy: 0.870\n",
            "Epoch: 4/30..  Training Loss: 0.311..  Test Loss: 0.363..  Test Accuracy: 0.870\n",
            "Epoch: 5/30..  Training Loss: 0.294..  Test Loss: 0.342..  Test Accuracy: 0.877\n",
            "Epoch: 6/30..  Training Loss: 0.278..  Test Loss: 0.339..  Test Accuracy: 0.879\n",
            "Epoch: 7/30..  Training Loss: 0.264..  Test Loss: 0.345..  Test Accuracy: 0.876\n",
            "Epoch: 8/30..  Training Loss: 0.248..  Test Loss: 0.367..  Test Accuracy: 0.869\n",
            "Epoch: 9/30..  Training Loss: 0.238..  Test Loss: 0.352..  Test Accuracy: 0.880\n",
            "Epoch: 10/30..  Training Loss: 0.229..  Test Loss: 0.345..  Test Accuracy: 0.887\n",
            "Epoch: 11/30..  Training Loss: 0.219..  Test Loss: 0.348..  Test Accuracy: 0.887\n",
            "Epoch: 12/30..  Training Loss: 0.211..  Test Loss: 0.335..  Test Accuracy: 0.889\n",
            "Epoch: 13/30..  Training Loss: 0.203..  Test Loss: 0.366..  Test Accuracy: 0.879\n",
            "Epoch: 14/30..  Training Loss: 0.192..  Test Loss: 0.371..  Test Accuracy: 0.876\n",
            "Epoch: 15/30..  Training Loss: 0.186..  Test Loss: 0.355..  Test Accuracy: 0.887\n",
            "Epoch: 16/30..  Training Loss: 0.181..  Test Loss: 0.360..  Test Accuracy: 0.883\n",
            "Epoch: 17/30..  Training Loss: 0.173..  Test Loss: 0.363..  Test Accuracy: 0.888\n",
            "Epoch: 18/30..  Training Loss: 0.166..  Test Loss: 0.368..  Test Accuracy: 0.890\n",
            "Epoch: 19/30..  Training Loss: 0.156..  Test Loss: 0.381..  Test Accuracy: 0.892\n",
            "Epoch: 20/30..  Training Loss: 0.155..  Test Loss: 0.399..  Test Accuracy: 0.888\n",
            "Epoch: 21/30..  Training Loss: 0.153..  Test Loss: 0.379..  Test Accuracy: 0.883\n",
            "Epoch: 22/30..  Training Loss: 0.141..  Test Loss: 0.417..  Test Accuracy: 0.881\n",
            "Epoch: 23/30..  Training Loss: 0.138..  Test Loss: 0.418..  Test Accuracy: 0.892\n",
            "Epoch: 24/30..  Training Loss: 0.132..  Test Loss: 0.411..  Test Accuracy: 0.890\n",
            "Epoch: 25/30..  Training Loss: 0.131..  Test Loss: 0.411..  Test Accuracy: 0.895\n",
            "Epoch: 26/30..  Training Loss: 0.125..  Test Loss: 0.408..  Test Accuracy: 0.895\n",
            "Epoch: 27/30..  Training Loss: 0.121..  Test Loss: 0.432..  Test Accuracy: 0.890\n",
            "Epoch: 28/30..  Training Loss: 0.115..  Test Loss: 0.467..  Test Accuracy: 0.890\n",
            "Epoch: 29/30..  Training Loss: 0.111..  Test Loss: 0.443..  Test Accuracy: 0.891\n",
            "Epoch: 30/30..  Training Loss: 0.108..  Test Loss: 0.432..  Test Accuracy: 0.893\n"
          ],
          "name": "stdout"
        }
      ]
    },
    {
      "cell_type": "code",
      "metadata": {
        "colab": {
          "base_uri": "https://localhost:8080/",
          "height": 282
        },
        "id": "56mHizHJX8Uc",
        "outputId": "79d1f141-6c68-4d46-a116-f7651328d6ab"
      },
      "source": [
        "%matplotlib inline\r\n",
        "plt.plot(train_losses, label='Training loss')\r\n",
        "plt.plot(test_losses, label='Validation loss')\r\n",
        "plt.legend(frameon=False)"
      ],
      "execution_count": null,
      "outputs": [
        {
          "output_type": "execute_result",
          "data": {
            "text/plain": [
              "<matplotlib.legend.Legend at 0x7fe39efe5198>"
            ]
          },
          "metadata": {
            "tags": []
          },
          "execution_count": 8
        },
        {
          "output_type": "display_data",
          "data": {
            "image/png": "[encoded data removed]",
            "text/plain": [
              "<Figure size 432x288 with 1 Axes>"
            ]
          },
          "metadata": {
            "tags": [],
            "needs_background": "light"
          }
        }
      ]
    },
    {
      "cell_type": "markdown",
      "metadata": {
        "id": "zfPBVX8naGnb"
      },
      "source": [
        "It's overfitting (My greatest nemesis, we meet again!)"
      ]
    },
    {
      "cell_type": "code",
      "metadata": {
        "colab": {
          "base_uri": "https://localhost:8080/",
          "height": 792
        },
        "id": "Ddb85gxmaMHD",
        "outputId": "b8a1f0f1-aa2e-4421-9523-2e7af2b1ee1e"
      },
      "source": [
        "class Classifier(nn.Module):\r\n",
        "    def __init__(self):\r\n",
        "        super().__init__()\r\n",
        "        self.fc1 = nn.Linear(784, 256)\r\n",
        "        self.fc2 = nn.Linear(256, 128)\r\n",
        "        self.fc3 = nn.Linear(128, 64)\r\n",
        "        self.fc4 = nn.Linear(64, 10)\r\n",
        "\r\n",
        "        self.dropout = nn.Dropout(p=0.2)\r\n",
        "\r\n",
        "    def forward(self, x):\r\n",
        "        x = x.view(x.shape[0], -1)\r\n",
        "\r\n",
        "        x = self.dropout(F.relu(self.fc1(x)))\r\n",
        "        x = self.dropout(F.relu(self.fc2(x)))\r\n",
        "        x = self.dropout(F.relu(self.fc3(x)))\r\n",
        "        x = F.log_softmax(self.fc4(x), dim=1)\r\n",
        "        return x\r\n",
        "\r\n",
        "model = Classifier()\r\n",
        "criterion = nn.NLLLoss()\r\n",
        "optimizer = optim.Adam(model.parameters(), lr=0.003)\r\n",
        "epochs = 30\r\n",
        "steps = 0\r\n",
        "\r\n",
        "train_losses, test_losses = [], []\r\n",
        "\r\n",
        "for e in range(epochs):\r\n",
        "    running_loss = 0\r\n",
        "    for images, labels in trainloader:\r\n",
        "        optimizer.zero_grad()\r\n",
        "\r\n",
        "        log_ps = model(images)\r\n",
        "        loss = criterion(log_ps, labels)\r\n",
        "        loss.backward()\r\n",
        "        optimizer.step()\r\n",
        "\r\n",
        "        running_loss += loss.item()\r\n",
        "    else:\r\n",
        "        test_loss = 0\r\n",
        "        accuracy = 0\r\n",
        "\r\n",
        "        # turn off gradients\r\n",
        "        with torch.no_grad():\r\n",
        "            model.eval() # setting model to evaluation mode to prevent dropout during validation/inference\r\n",
        "            for images, labels in testloader:\r\n",
        "                log_ps = model(images)\r\n",
        "                test_loss += criterion(log_ps, labels)\r\n",
        "\r\n",
        "                ps = torch.exp(log_ps) # raw prob instead of log probs\r\n",
        "                top_p, top_class = ps.topk(1, dim=1)\r\n",
        "                equals = top_class == labels.view(*top_class.shape)\r\n",
        "                accuracy += torch.mean(equals.type(torch.FloatTensor))\r\n",
        "        model.train() # setting back to training mode, turning dropout back on\r\n",
        "        train_losses.append(running_loss/len(trainloader))\r\n",
        "        test_losses.append(test_loss/len(testloader))\r\n",
        "\r\n",
        "        print(\"Epoch: {}/{}.. \".format(e+1, epochs),\r\n",
        "              \"Training Loss: {:.3f}.. \".format(running_loss/len(trainloader)),\r\n",
        "              \"Test Loss: {:.3f}.. \".format(test_loss/len(testloader)),\r\n",
        "              \"Test Accuracy: {:.3f}\".format(accuracy/len(testloader)))\r\n",
        "        \r\n",
        "plt.plot(train_losses, label='Training loss')\r\n",
        "plt.plot(test_losses, label='Validation loss')\r\n",
        "plt.legend(frameon=False)"
      ],
      "execution_count": null,
      "outputs": [
        {
          "output_type": "stream",
          "text": [
            "Epoch: 1/30..  Training Loss: 0.608..  Test Loss: 0.484..  Test Accuracy: 0.833\n",
            "Epoch: 2/30..  Training Loss: 0.488..  Test Loss: 0.437..  Test Accuracy: 0.842\n",
            "Epoch: 3/30..  Training Loss: 0.453..  Test Loss: 0.431..  Test Accuracy: 0.849\n",
            "Epoch: 4/30..  Training Loss: 0.431..  Test Loss: 0.409..  Test Accuracy: 0.853\n",
            "Epoch: 5/30..  Training Loss: 0.421..  Test Loss: 0.398..  Test Accuracy: 0.859\n",
            "Epoch: 6/30..  Training Loss: 0.412..  Test Loss: 0.377..  Test Accuracy: 0.867\n",
            "Epoch: 7/30..  Training Loss: 0.405..  Test Loss: 0.405..  Test Accuracy: 0.857\n",
            "Epoch: 8/30..  Training Loss: 0.398..  Test Loss: 0.397..  Test Accuracy: 0.858\n",
            "Epoch: 9/30..  Training Loss: 0.399..  Test Loss: 0.399..  Test Accuracy: 0.857\n",
            "Epoch: 10/30..  Training Loss: 0.388..  Test Loss: 0.386..  Test Accuracy: 0.867\n",
            "Epoch: 11/30..  Training Loss: 0.384..  Test Loss: 0.379..  Test Accuracy: 0.870\n",
            "Epoch: 12/30..  Training Loss: 0.381..  Test Loss: 0.396..  Test Accuracy: 0.864\n",
            "Epoch: 13/30..  Training Loss: 0.381..  Test Loss: 0.378..  Test Accuracy: 0.861\n",
            "Epoch: 14/30..  Training Loss: 0.373..  Test Loss: 0.386..  Test Accuracy: 0.865\n",
            "Epoch: 15/30..  Training Loss: 0.372..  Test Loss: 0.400..  Test Accuracy: 0.864\n",
            "Epoch: 16/30..  Training Loss: 0.373..  Test Loss: 0.401..  Test Accuracy: 0.866\n",
            "Epoch: 17/30..  Training Loss: 0.371..  Test Loss: 0.371..  Test Accuracy: 0.872\n",
            "Epoch: 18/30..  Training Loss: 0.364..  Test Loss: 0.372..  Test Accuracy: 0.873\n",
            "Epoch: 19/30..  Training Loss: 0.363..  Test Loss: 0.378..  Test Accuracy: 0.867\n",
            "Epoch: 20/30..  Training Loss: 0.356..  Test Loss: 0.396..  Test Accuracy: 0.864\n",
            "Epoch: 21/30..  Training Loss: 0.362..  Test Loss: 0.392..  Test Accuracy: 0.870\n",
            "Epoch: 22/30..  Training Loss: 0.358..  Test Loss: 0.381..  Test Accuracy: 0.870\n",
            "Epoch: 23/30..  Training Loss: 0.358..  Test Loss: 0.373..  Test Accuracy: 0.875\n",
            "Epoch: 24/30..  Training Loss: 0.356..  Test Loss: 0.381..  Test Accuracy: 0.869\n",
            "Epoch: 25/30..  Training Loss: 0.351..  Test Loss: 0.411..  Test Accuracy: 0.854\n",
            "Epoch: 26/30..  Training Loss: 0.354..  Test Loss: 0.401..  Test Accuracy: 0.857\n",
            "Epoch: 27/30..  Training Loss: 0.344..  Test Loss: 0.379..  Test Accuracy: 0.869\n",
            "Epoch: 28/30..  Training Loss: 0.344..  Test Loss: 0.381..  Test Accuracy: 0.870\n",
            "Epoch: 29/30..  Training Loss: 0.344..  Test Loss: 0.364..  Test Accuracy: 0.875\n",
            "Epoch: 30/30..  Training Loss: 0.343..  Test Loss: 0.366..  Test Accuracy: 0.874\n"
          ],
          "name": "stdout"
        },
        {
          "output_type": "execute_result",
          "data": {
            "text/plain": [
              "<matplotlib.legend.Legend at 0x7fe39f193a90>"
            ]
          },
          "metadata": {
            "tags": []
          },
          "execution_count": 9
        },
        {
          "output_type": "display_data",
          "data": {
            "image/png": "[encoded data removed]",
            "text/plain": [
              "<Figure size 432x288 with 1 Axes>"
            ]
          },
          "metadata": {
            "tags": [],
            "needs_background": "light"
          }
        }
      ]
    },
    {
      "cell_type": "code",
      "metadata": {
        "id": "nqzRRqX4gbGU"
      },
      "source": [
        "# https://github.com/udacity/deep-learning-v2-pytorch/blob/master/intro-to-pytorch/helper.py\r\n",
        "def view_classify(img, ps, version=\"MNIST\"):\r\n",
        "    ''' Function for viewing an image and it's predicted classes.\r\n",
        "    '''\r\n",
        "    ps = ps.data.numpy().squeeze()\r\n",
        "\r\n",
        "    fig, (ax1, ax2) = plt.subplots(figsize=(6,9), ncols=2)\r\n",
        "    ax1.imshow(img.resize_(1, 28, 28).numpy().squeeze())\r\n",
        "    ax1.axis('off')\r\n",
        "    ax2.barh(np.arange(10), ps)\r\n",
        "    ax2.set_aspect(0.1)\r\n",
        "    ax2.set_yticks(np.arange(10))\r\n",
        "    if version == \"MNIST\":\r\n",
        "        ax2.set_yticklabels(np.arange(10))\r\n",
        "    elif version == \"Fashion\":\r\n",
        "        ax2.set_yticklabels(['T-shirt/top',\r\n",
        "                            'Trouser',\r\n",
        "                            'Pullover',\r\n",
        "                            'Dress',\r\n",
        "                            'Coat',\r\n",
        "                            'Sandal',\r\n",
        "                            'Shirt',\r\n",
        "                            'Sneaker',\r\n",
        "                            'Bag',\r\n",
        "                            'Ankle Boot'], size='small');\r\n",
        "    ax2.set_title('Class Probability')\r\n",
        "    ax2.set_xlim(0, 1.1)\r\n",
        "\r\n",
        "    plt.tight_layout()\r\n",
        "\r\n"
      ],
      "execution_count": null,
      "outputs": []
    },
    {
      "cell_type": "markdown",
      "metadata": {
        "id": "aOGqHB3cgm-f"
      },
      "source": [
        "## Model Inference"
      ]
    },
    {
      "cell_type": "code",
      "metadata": {
        "colab": {
          "base_uri": "https://localhost:8080/",
          "height": 234
        },
        "id": "I5e0R-sbgoza",
        "outputId": "cad79dd8-c1c5-47be-901f-c914f5dccc4b"
      },
      "source": [
        "# Test out your network!\r\n",
        "\r\n",
        "model.eval()\r\n",
        "\r\n",
        "dataiter = iter(testloader)\r\n",
        "images, labels = dataiter.next()\r\n",
        "img = images[0]\r\n",
        "# Convert 2D image to 1D vector\r\n",
        "img = img.view(1, 784)\r\n",
        "\r\n",
        "# Calculate the class probabilities (softmax) for img\r\n",
        "with torch.no_grad():\r\n",
        "    output = model.forward(img)\r\n",
        "\r\n",
        "ps = torch.exp(output)\r\n",
        "\r\n",
        "# Plot the image and probabilities\r\n",
        "view_classify(img.view(1, 28, 28), ps, version='Fashion')"
      ],
      "execution_count": null,
      "outputs": [
        {
          "output_type": "display_data",
          "data": {
            "image/png": "[encoded data removed]",
            "text/plain": [
              "<Figure size 432x648 with 2 Axes>"
            ]
          },
          "metadata": {
            "tags": [],
            "needs_background": "light"
          }
        }
      ]
    },
    {
      "cell_type": "markdown",
      "metadata": {
        "id": "6XzCwX9A2lZg"
      },
      "source": [
        "## Saving and Loading the Model"
      ]
    },
    {
      "cell_type": "markdown",
      "metadata": {
        "id": "hB_k7vXQ2nS2"
      },
      "source": [
        "The parameters for PyTorch networks are stored in a model's state_dict. We can see the state dict contains the weight and bias matrices for each of our layers."
      ]
    },
    {
      "cell_type": "code",
      "metadata": {
        "colab": {
          "base_uri": "https://localhost:8080/"
        },
        "id": "234y69ql2txf",
        "outputId": "be5a6fbb-12ed-4cc4-9184-d376a6f34d9a"
      },
      "source": [
        "print(model)"
      ],
      "execution_count": null,
      "outputs": [
        {
          "output_type": "stream",
          "text": [
            "Classifier(\n",
            "  (fc1): Linear(in_features=784, out_features=256, bias=True)\n",
            "  (fc2): Linear(in_features=256, out_features=128, bias=True)\n",
            "  (fc3): Linear(in_features=128, out_features=64, bias=True)\n",
            "  (fc4): Linear(in_features=64, out_features=10, bias=True)\n",
            "  (dropout): Dropout(p=0.2, inplace=False)\n",
            ")\n"
          ],
          "name": "stdout"
        }
      ]
    },
    {
      "cell_type": "code",
      "metadata": {
        "colab": {
          "base_uri": "https://localhost:8080/"
        },
        "id": "J5tNiVmh2xBG",
        "outputId": "20686547-c69a-4ac9-eac7-76b06acfc7e7"
      },
      "source": [
        "print(type(model.state_dict()))\r\n",
        "print(model.state_dict().keys())"
      ],
      "execution_count": null,
      "outputs": [
        {
          "output_type": "stream",
          "text": [
            "<class 'collections.OrderedDict'>\n",
            "odict_keys(['fc1.weight', 'fc1.bias', 'fc2.weight', 'fc2.bias', 'fc3.weight', 'fc3.bias', 'fc4.weight', 'fc4.bias'])\n"
          ],
          "name": "stdout"
        }
      ]
    },
    {
      "cell_type": "code",
      "metadata": {
        "colab": {
          "base_uri": "https://localhost:8080/"
        },
        "id": "P1TPFinj25ha",
        "outputId": "62586680-1b45-4c1c-8c74-56ce0d539fa0"
      },
      "source": [
        "print(model.state_dict()['fc1.weight'])"
      ],
      "execution_count": null,
      "outputs": [
        {
          "output_type": "stream",
          "text": [
            "tensor([[ 0.3008,  0.2932,  0.2927,  ...,  0.3808,  0.3484,  0.3346],\n",
            "        [ 0.2416,  0.2840,  0.2202,  ...,  0.2554,  0.2827,  0.2509],\n",
            "        [ 0.0412,  0.0347,  0.0656,  ...,  0.0120,  0.0243,  0.0489],\n",
            "        ...,\n",
            "        [ 0.0833,  0.0425,  0.0906,  ...,  0.0884,  0.2004,  0.0748],\n",
            "        [ 0.0563,  0.0816,  0.0125,  ...,  0.0228, -0.0115,  0.0567],\n",
            "        [ 0.1245,  0.1422,  0.1974,  ...,  0.1516,  0.1105,  0.1569]])\n"
          ],
          "name": "stdout"
        }
      ]
    },
    {
      "cell_type": "code",
      "metadata": {
        "colab": {
          "base_uri": "https://localhost:8080/"
        },
        "id": "PRjATj1-2-90",
        "outputId": "9b69224e-8895-439a-e6e4-321695b3ae25"
      },
      "source": [
        "print(model.state_dict()['fc1.bias'])"
      ],
      "execution_count": null,
      "outputs": [
        {
          "output_type": "stream",
          "text": [
            "tensor([-0.3252, -0.2989, -0.0525, -0.0780, -0.2208, -0.1977, -0.0147, -0.2239,\n",
            "        -0.0547,  0.0338, -0.4430, -0.3806, -0.1467, -0.3854, -0.0461, -0.0679,\n",
            "        -0.0981, -0.0725, -0.0595, -0.0569, -0.0555, -0.2095, -0.1094, -0.2521,\n",
            "        -0.0252, -0.0451, -0.2293, -0.0752, -0.3522, -0.4472, -0.3958, -0.0455,\n",
            "        -0.0680, -0.3999, -0.0413, -0.0607, -0.0391, -0.3028,  0.0082, -0.2333,\n",
            "        -0.0577, -0.0995, -0.0041, -0.1012, -0.1348, -0.0775, -0.1795, -0.4969,\n",
            "        -0.1479, -0.0562, -0.1672, -0.1742, -0.2999, -0.2075, -0.3147, -0.0471,\n",
            "        -0.3334, -0.2461, -0.2495, -0.0393, -0.0769, -0.1451, -0.0973, -0.2900,\n",
            "        -0.0296, -0.0955, -0.2738, -0.1522, -0.3725,  0.1272, -0.2561, -0.2505,\n",
            "        -0.1662, -0.3345, -0.1665, -0.2507, -0.0997, -0.3084, -0.0656, -0.3367,\n",
            "        -0.1537, -0.1430, -0.2034, -0.1082, -0.2045, -0.0541, -0.4163, -0.3780,\n",
            "        -0.2829, -0.1366, -0.1265, -0.1753, -0.1582, -0.2218, -0.2371, -0.0286,\n",
            "        -0.0073, -0.3792, -0.1238, -0.2350, -0.0707, -0.0842,  0.1854, -0.3310,\n",
            "        -0.4543, -0.0409, -0.1872, -0.3279, -0.2514, -0.2074, -0.2028, -0.1409,\n",
            "        -0.0671, -0.0567, -0.0589, -0.2008, -0.2831, -0.2645, -0.4055, -0.1608,\n",
            "        -0.0235, -0.4274, -0.0112, -0.0876, -0.2181, -0.1851, -0.3666,  0.3823,\n",
            "        -0.1818, -0.2049, -0.2021, -0.2115, -0.1120,  0.0343, -0.0242, -0.3415,\n",
            "        -0.1850, -0.3730, -0.3616, -0.3772, -0.4000, -0.1569, -0.3054, -0.2909,\n",
            "        -0.1078, -0.2046, -0.1081, -0.1743, -0.0426,  0.0155, -0.2268, -0.2864,\n",
            "        -0.2876, -0.2227, -0.2128, -0.1185, -0.3385, -0.1827, -0.2722, -0.1087,\n",
            "         0.2207,  0.0573,  0.2434,  0.0652, -0.3359, -0.1610, -0.3237, -0.0526,\n",
            "        -0.0987, -0.2079, -0.0690, -0.1037, -0.3046, -0.0605, -0.3136, -0.2889,\n",
            "        -0.0194, -0.0291, -0.1313, -0.2629, -0.3782, -0.5196, -0.1887, -0.2494,\n",
            "        -0.1719, -0.0471,  0.0436, -0.0220, -0.2898, -0.0157, -0.3578, -0.0708,\n",
            "        -0.0329, -0.2394, -0.3839, -0.0236, -0.1699, -0.2459, -0.1177, -0.2682,\n",
            "        -0.1633, -0.3846, -0.1729, -0.0269, -0.3260, -0.1345, -0.0651, -0.2481,\n",
            "        -0.3724, -0.4232, -0.0789, -0.2907, -0.3038, -0.2838, -0.1104, -0.2669,\n",
            "         0.1859, -0.2859, -0.2048, -0.0524, -0.4045, -0.1430, -0.1476, -0.2182,\n",
            "        -0.3317, -0.2720, -0.0579, -0.5574, -0.1549, -0.1918, -0.2189, -0.2944,\n",
            "        -0.0500, -0.4735, -0.1682, -0.1510, -0.0361, -0.3284, -0.2696, -0.3484,\n",
            "        -0.0741, -0.3634, -0.1469, -0.1240, -0.0742, -0.1635, -0.4413,  0.0073,\n",
            "        -0.2353, -0.2914, -0.2010, -0.2157, -0.1451, -0.0662, -0.0631, -0.1160])\n"
          ],
          "name": "stdout"
        }
      ]
    },
    {
      "cell_type": "markdown",
      "metadata": {
        "id": "jTPfhTFK3zzh"
      },
      "source": [
        "### Use torch.save() to save the model\r\n",
        "\r\n",
        "Save the model's state_dictionary"
      ]
    },
    {
      "cell_type": "code",
      "metadata": {
        "id": "_N1khcTm38sV"
      },
      "source": [
        "torch.save(model.state_dict(), 'checkpoint.pth')"
      ],
      "execution_count": null,
      "outputs": []
    },
    {
      "cell_type": "code",
      "metadata": {
        "id": "le7ZYzWp5CXp",
        "colab": {
          "base_uri": "https://localhost:8080/"
        },
        "outputId": "bfc76f61-861f-4bc2-a5fc-f8d8982ad56e"
      },
      "source": [
        "# Load the state dict with torch.load()\r\n",
        "state_dict = torch.load('checkpoint.pth')\r\n",
        "print(state_dict.keys())"
      ],
      "execution_count": null,
      "outputs": [
        {
          "output_type": "stream",
          "text": [
            "odict_keys(['fc1.weight', 'fc1.bias', 'fc2.weight', 'fc2.bias', 'fc3.weight', 'fc3.bias', 'fc4.weight', 'fc4.bias'])\n"
          ],
          "name": "stdout"
        }
      ]
    },
    {
      "cell_type": "code",
      "metadata": {
        "colab": {
          "base_uri": "https://localhost:8080/"
        },
        "id": "O0MOvN275e5c",
        "outputId": "689dc6e4-a971-4aa8-9529-62903c30e59c"
      },
      "source": [
        "# now, to load state dict into the network, use model.load_state_dict()\r\n",
        "model.load_state_dict(state_dict)\r\n",
        "# Note that the model architecture should be exactly the same as the checkpoint's architecture"
      ],
      "execution_count": null,
      "outputs": [
        {
          "output_type": "execute_result",
          "data": {
            "text/plain": [
              "<All keys matched successfully>"
            ]
          },
          "metadata": {
            "tags": []
          },
          "execution_count": 31
        }
      ]
    },
    {
      "cell_type": "code",
      "metadata": {
        "id": "HGZpxsZM7JgM"
      },
      "source": [
        "# if we do not have the object model beforehand, make it\r\n",
        "checkpoint = {'input_size': 784,\r\n",
        "              'output_size': 10,\r\n",
        "              'hidden_layers': [each.out_features for each in [model.fc1, model.fc2, model.fc3]],\r\n",
        "              'state_dict': model.state_dict()}\r\n",
        "torch.save(checkpoint, 'checkpoint.pth')"
      ],
      "execution_count": null,
      "outputs": []
    },
    {
      "cell_type": "code",
      "metadata": {
        "colab": {
          "base_uri": "https://localhost:8080/"
        },
        "id": "iTgN1C4V8t7O",
        "outputId": "009c3758-d6f7-47d0-abec-b148e83895ed"
      },
      "source": [
        ""
      ],
      "execution_count": null,
      "outputs": [
        {
          "output_type": "execute_result",
          "data": {
            "text/plain": [
              "Linear(in_features=784, out_features=256, bias=True)"
            ]
          },
          "metadata": {
            "tags": []
          },
          "execution_count": 34
        }
      ]
    },
    {
      "cell_type": "code",
      "metadata": {
        "id": "f28JcRDX8ubz"
      },
      "source": [
        ""
      ],
      "execution_count": null,
      "outputs": []
    }
  ]
}
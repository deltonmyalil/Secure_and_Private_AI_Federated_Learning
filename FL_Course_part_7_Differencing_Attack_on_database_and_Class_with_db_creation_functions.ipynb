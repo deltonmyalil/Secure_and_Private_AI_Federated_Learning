{
  "nbformat": 4,
  "nbformat_minor": 0,
  "metadata": {
    "colab": {
      "name": "FL_Course_part_7_Differencing_Attack_on_database_and_Class_with_db_creation_functions",
      "provenance": [],
      "authorship_tag": "ABX9TyOovbNFuyuqF0Y9vRqGu/hC"
    },
    "kernelspec": {
      "name": "python3",
      "display_name": "Python 3"
    }
  },
  "cells": [
    {
      "cell_type": "markdown",
      "metadata": {
        "id": "pre_CrkjJam4"
      },
      "source": [
        "# Performing Differencing Attacks\r\n",
        "\r\n",
        "Construct a database and demo how you can use two different sum queries to expose the value of the person represented by the row K (say, 10) in the db"
      ]
    },
    {
      "cell_type": "code",
      "metadata": {
        "id": "6O8RT_ciIv2P"
      },
      "source": [
        "!pip install syft==0.2.9"
      ],
      "execution_count": null,
      "outputs": []
    },
    {
      "cell_type": "code",
      "metadata": {
        "id": "le0pMbJCJX57"
      },
      "source": [
        "\r\n",
        "import torch\r\n",
        "\r\n",
        "class CalculateSensitivity:\r\n",
        "    \"This is a class that contains reusable methods for initializing parallel dbs \\\r\n",
        "with number of entries. Use classObject.create_db_and_parallels(num_entries) to \\\r\n",
        "get db and parallel db list. Use classObject.sensitivity(query, num_entries, verbose) \\\r\n",
        "to find the sensitivity of the query function\"\r\n",
        "\r\n",
        "    def get_parallel_db(self, db, remove_index):\r\n",
        "        return torch.cat((db[0:remove_index], db[remove_index+1:]))\r\n",
        "\r\n",
        "    def get_parallel_dbs(self, db):\r\n",
        "        parallel_dbs = list()\r\n",
        "        for i in range(len(db)):\r\n",
        "            pdb = self.get_parallel_db(db, i)\r\n",
        "            parallel_dbs.append(pdb)\r\n",
        "        return parallel_dbs\r\n",
        "\r\n",
        "    def create_db_and_parallels(self, num_entries):\r\n",
        "        db = torch.rand(num_entries).gt(0.5).to(torch.uint8)\r\n",
        "        pdbs = self.get_parallel_dbs(db)\r\n",
        "        return db, pdbs\r\n",
        "\r\n",
        "    def sensitivity(self, query, num_entries, verbose):\r\n",
        "\r\n",
        "        db, pdbs = self.create_db_and_parallels(num_entries)\r\n",
        "\r\n",
        "        if verbose:\r\n",
        "            print('Centralized data is: ', db)\r\n",
        "            print('Parallel data are: ', pdbs)\r\n",
        "\r\n",
        "        centralized_result = query(db)\r\n",
        "        parallel_results = [query(temp_db) for temp_db in pdbs]\r\n",
        "\r\n",
        "        if verbose:\r\n",
        "            print('Centralized result: ', centralized_result)\r\n",
        "            print('Parallel results: ', parallel_results)\r\n",
        "\r\n",
        "        max_distance = 0\r\n",
        "        for parallel_result in parallel_results:\r\n",
        "            if max_distance < torch.abs(centralized_result - parallel_result): \r\n",
        "                max_distance = torch.abs(centralized_result - parallel_result)\r\n",
        "        L1_sensitivity = max_distance\r\n",
        "        return L1_sensitivity\r\n",
        "\r\n",
        "# sens = CalculateSensitivity()\r\n",
        "# sens.sensitivity(lambda x:x.sum(), num_entries=10, verbose=True)"
      ],
      "execution_count": 32,
      "outputs": []
    },
    {
      "cell_type": "code",
      "metadata": {
        "colab": {
          "base_uri": "https://localhost:8080/"
        },
        "id": "6Fl8oT5SRiOX",
        "outputId": "c7fd17fa-0b00-49c7-8546-999facbeaac2"
      },
      "source": [
        "sens = CalculateSensitivity()\r\n",
        "\r\n",
        "db, _ = sens.create_db_and_parallels(num_entries=100)\r\n",
        "pdb = sens.get_parallel_db(db=db, remove_index=10)\r\n",
        "\r\n",
        "db[10]"
      ],
      "execution_count": 35,
      "outputs": [
        {
          "output_type": "execute_result",
          "data": {
            "text/plain": [
              "tensor(1, dtype=torch.uint8)"
            ]
          },
          "metadata": {
            "tags": []
          },
          "execution_count": 35
        }
      ]
    },
    {
      "cell_type": "markdown",
      "metadata": {
        "id": "cG8UDQmyUk8v"
      },
      "source": [
        "Now we know that the 10th element of db is 1\r\n",
        "\r\n",
        "Let's see if we can find it out using a query on pdb whose 10th element is removed."
      ]
    },
    {
      "cell_type": "code",
      "metadata": {
        "colab": {
          "base_uri": "https://localhost:8080/"
        },
        "id": "uBWxpYkcU_HV",
        "outputId": "910e1642-961c-4730-d49c-8de6ef1ebeaa"
      },
      "source": [
        "# Differencing attack using sum query\r\n",
        "sum(db) - sum(pdb)"
      ],
      "execution_count": 36,
      "outputs": [
        {
          "output_type": "execute_result",
          "data": {
            "text/plain": [
              "tensor(1, dtype=torch.uint8)"
            ]
          },
          "metadata": {
            "tags": []
          },
          "execution_count": 36
        }
      ]
    },
    {
      "cell_type": "code",
      "metadata": {
        "colab": {
          "base_uri": "https://localhost:8080/"
        },
        "id": "rZDzE20zVF2W",
        "outputId": "6460cdf6-7536-48f6-bd0f-0f05a06e4afe"
      },
      "source": [
        "# Differencing attack using mean query\r\n",
        "def mean_query(db):\r\n",
        "    return sum(db).float() / len(db)\r\n",
        "\r\n",
        "# If mean query returns non zero, then the missing element was 1\r\n",
        "print('1') if (mean_query(db) - mean_query(pdb)) > 0 else print('0')"
      ],
      "execution_count": 40,
      "outputs": [
        {
          "output_type": "stream",
          "text": [
            "1\n"
          ],
          "name": "stdout"
        }
      ]
    },
    {
      "cell_type": "code",
      "metadata": {
        "colab": {
          "base_uri": "https://localhost:8080/"
        },
        "id": "OZQcv0ebVPMm",
        "outputId": "777cecf6-312f-4bc6-c308-afab3bd50c10"
      },
      "source": [
        "# Differencing attack using threshold\r\n",
        "# with threshold = sum(db).item()\r\n",
        "sum(db).float() > (sum(db).item()-1) - sum(pdb).float() > (sum(db).item()-1)"
      ],
      "execution_count": 53,
      "outputs": [
        {
          "output_type": "execute_result",
          "data": {
            "text/plain": [
              "tensor(False)"
            ]
          },
          "metadata": {
            "tags": []
          },
          "execution_count": 53
        }
      ]
    },
    {
      "cell_type": "code",
      "metadata": {
        "colab": {
          "base_uri": "https://localhost:8080/"
        },
        "id": "5NcA_N5GXFPn",
        "outputId": "73900d90-aadb-4506-f87c-3728b5d155d9"
      },
      "source": [
        "sum(db).float() > sum(db).item() - sum(pdb.float() > sum(db).item())"
      ],
      "execution_count": 50,
      "outputs": [
        {
          "output_type": "execute_result",
          "data": {
            "text/plain": [
              "tensor(False)"
            ]
          },
          "metadata": {
            "tags": []
          },
          "execution_count": 50
        }
      ]
    },
    {
      "cell_type": "markdown",
      "metadata": {
        "id": "GImGtstrXgDk"
      },
      "source": [
        "So differential privacy should be immune to differential attacks."
      ]
    },
    {
      "cell_type": "code",
      "metadata": {
        "id": "lRE9M0RtY7EC"
      },
      "source": [
        ""
      ],
      "execution_count": null,
      "outputs": []
    }
  ]
}
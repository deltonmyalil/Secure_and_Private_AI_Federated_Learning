{
  "nbformat": 4,
  "nbformat_minor": 0,
  "metadata": {
    "colab": {
      "name": "FL_Course_part_16_Encrypted_Deep_Learning_prerequisites.ipynb",
      "provenance": [],
      "authorship_tag": "ABX9TyOkFEKBxGm62Jf3lnJ3AcHI"
    },
    "kernelspec": {
      "name": "python3",
      "display_name": "Python 3"
    }
  },
  "cells": [
    {
      "cell_type": "code",
      "metadata": {
        "id": "jtFCo0lyBdpB"
      },
      "source": [
        "# See https://mortendahl.github.io/\r\n",
        "\r\n",
        "import numpy as np\r\n",
        "import random\r\n",
        "\r\n",
        "BASE = 10\r\n",
        "PRECISION_INTEGRAL = 8\r\n",
        "PRECISION_FRACTIONAL = 8\r\n",
        "Q = 63207562083765982736 # Ideally a large number\r\n",
        "# You cannot represent any number that is greater than Q\r\n",
        "\r\n",
        "PRECISION = PRECISION_INTEGRAL + PRECISION_FRACTIONAL\r\n",
        "\r\n",
        "assert(Q > BASE**PRECISION)\r\n",
        "\r\n",
        "# Fixed Precision Encoding\r\n",
        "def encode(rational):\r\n",
        "    upscaled = int(rational * BASE**PRECISION_FRACTIONAL)\r\n",
        "    field_element = upscaled % Q\r\n",
        "    return field_element\r\n",
        "\r\n",
        "# Decoding back to floats\r\n",
        "def decode(field_element):\r\n",
        "    upscaled = field_element if field_element <= Q/2 else field_element - Q\r\n",
        "    rational = upscaled / BASE**PRECISION_FRACTIONAL\r\n",
        "    return rational\r\n",
        "\r\n",
        "# secret sharing between three parties\r\n",
        "def encrypt(secret):\r\n",
        "    first  = random.randrange(Q)\r\n",
        "    second = random.randrange(Q)\r\n",
        "    third  = (secret - first - second) % Q\r\n",
        "    return [first, second, third]\r\n",
        "\r\n",
        "# arg is a list/tuple\r\n",
        "def decrypt(sharing):\r\n",
        "    return sum(sharing) % Q\r\n",
        "\r\n",
        "def add(a, b):\r\n",
        "    c = list()\r\n",
        "    for i in range(len(a)):\r\n",
        "        c.append((a[i] + b[i]) % Q)\r\n",
        "    return tuple(c)"
      ],
      "execution_count": null,
      "outputs": []
    },
    {
      "cell_type": "code",
      "metadata": {
        "colab": {
          "base_uri": "https://localhost:8080/"
        },
        "id": "vdej17WnFbeT",
        "outputId": "4ce26777-588f-471b-edbe-ff2a6fb9f6eb"
      },
      "source": [
        "x = encrypt(encode(0.5)); x"
      ],
      "execution_count": null,
      "outputs": [
        {
          "output_type": "execute_result",
          "data": {
            "text/plain": [
              "[34378441793392086147, 49578971404501726239, 42457710969688153086]"
            ]
          },
          "metadata": {
            "tags": []
          },
          "execution_count": 3
        }
      ]
    },
    {
      "cell_type": "markdown",
      "metadata": {
        "id": "dXtUJt1xFh8y"
      },
      "source": [
        "We get the fixed precision representation of x decomposed into three splits to be shared with three parties."
      ]
    },
    {
      "cell_type": "code",
      "metadata": {
        "colab": {
          "base_uri": "https://localhost:8080/"
        },
        "id": "kAA_hikeFqBy",
        "outputId": "9d9f964a-50e2-41fb-e93c-57edcad388d8"
      },
      "source": [
        "y = encrypt(encode(0.75)); y"
      ],
      "execution_count": null,
      "outputs": [
        {
          "output_type": "execute_result",
          "data": {
            "text/plain": [
              "[929353981137251951, 2160434064255737490, 60117774038447993295]"
            ]
          },
          "metadata": {
            "tags": []
          },
          "execution_count": 4
        }
      ]
    },
    {
      "cell_type": "code",
      "metadata": {
        "colab": {
          "base_uri": "https://localhost:8080/"
        },
        "id": "ivtRFFnIFtVs",
        "outputId": "36cd2376-4b59-4f55-aae8-0453bdd7d121"
      },
      "source": [
        "z = add(x, y); z"
      ],
      "execution_count": null,
      "outputs": [
        {
          "output_type": "execute_result",
          "data": {
            "text/plain": [
              "(35307795774529338098, 51739405468757463729, 39367922924370163645)"
            ]
          },
          "metadata": {
            "tags": []
          },
          "execution_count": 5
        }
      ]
    },
    {
      "cell_type": "code",
      "metadata": {
        "colab": {
          "base_uri": "https://localhost:8080/"
        },
        "id": "xYtkTUyWF89P",
        "outputId": "da36f178-958f-4c04-aaf9-eab81c949151"
      },
      "source": [
        "decrypt(z)"
      ],
      "execution_count": null,
      "outputs": [
        {
          "output_type": "execute_result",
          "data": {
            "text/plain": [
              "125000000"
            ]
          },
          "metadata": {
            "tags": []
          },
          "execution_count": 6
        }
      ]
    },
    {
      "cell_type": "code",
      "metadata": {
        "colab": {
          "base_uri": "https://localhost:8080/"
        },
        "id": "oAuRpQhjGAx6",
        "outputId": "b1bee02d-e7f1-41b6-de17-cb7af62e373b"
      },
      "source": [
        "decode(decrypt(z))"
      ],
      "execution_count": null,
      "outputs": [
        {
          "output_type": "execute_result",
          "data": {
            "text/plain": [
              "1.25"
            ]
          },
          "metadata": {
            "tags": []
          },
          "execution_count": 7
        }
      ]
    },
    {
      "cell_type": "markdown",
      "metadata": {
        "id": "qSI5vG8ZGF1w"
      },
      "source": [
        "## Encrypted Subtraction and Scalar/Public Multiplication"
      ]
    },
    {
      "cell_type": "code",
      "metadata": {
        "id": "gnm53ixKGk4e"
      },
      "source": [
        "field = 4283765287436502436\r\n",
        "\r\n",
        "x = 5\r\n",
        "bobs_x_share = 74567658 # Some random number\r\n",
        "alices_x_share = field - bobs_x_share + x"
      ],
      "execution_count": null,
      "outputs": []
    },
    {
      "cell_type": "code",
      "metadata": {
        "colab": {
          "base_uri": "https://localhost:8080/"
        },
        "id": "TrvvIUs4HZBs",
        "outputId": "5ae48f00-13b1-469b-ae07-3d929278b068"
      },
      "source": [
        "(bobs_x_share + alices_x_share) % field"
      ],
      "execution_count": null,
      "outputs": [
        {
          "output_type": "execute_result",
          "data": {
            "text/plain": [
              "5"
            ]
          },
          "metadata": {
            "tags": []
          },
          "execution_count": 9
        }
      ]
    },
    {
      "cell_type": "markdown",
      "metadata": {
        "id": "PR1PF41sHdUJ"
      },
      "source": [
        "#### What if we have a field size of 10?"
      ]
    },
    {
      "cell_type": "code",
      "metadata": {
        "id": "T3dEBj22IjD7"
      },
      "source": [
        "field = 10\r\n",
        "\r\n",
        "x = 5\r\n",
        "\r\n",
        "bobs_x_share = 8\r\n",
        "alices_x_share = field - bobs_x_share + x\r\n",
        "\r\n",
        "y = 1\r\n",
        "\r\n",
        "bobs_y_share = 9\r\n",
        "alices_y_share = field - bobs_y_share + y"
      ],
      "execution_count": null,
      "outputs": []
    },
    {
      "cell_type": "code",
      "metadata": {
        "colab": {
          "base_uri": "https://localhost:8080/"
        },
        "id": "-YQzDRMgMoIZ",
        "outputId": "693e2e5e-7393-4a73-8e30-78f4cf9b3632"
      },
      "source": [
        "((bobs_x_share + alices_x_share) + (bobs_y_share + alices_y_share)) % field"
      ],
      "execution_count": null,
      "outputs": [
        {
          "output_type": "execute_result",
          "data": {
            "text/plain": [
              "6"
            ]
          },
          "metadata": {
            "tags": []
          },
          "execution_count": 11
        }
      ]
    },
    {
      "cell_type": "code",
      "metadata": {
        "colab": {
          "base_uri": "https://localhost:8080/"
        },
        "id": "IBdvAlGUI6kB",
        "outputId": "17f1875a-e80f-4ec3-86f7-4b19707df26f"
      },
      "source": [
        "((bobs_x_share + alices_x_share) - (bobs_y_share + alices_y_share)) % field"
      ],
      "execution_count": null,
      "outputs": [
        {
          "output_type": "execute_result",
          "data": {
            "text/plain": [
              "4"
            ]
          },
          "metadata": {
            "tags": []
          },
          "execution_count": 12
        }
      ]
    },
    {
      "cell_type": "markdown",
      "metadata": {
        "id": "G9pdV8iiJJiF"
      },
      "source": [
        "When we add two numers inside a field (modulo), whatever the remainder is, also adds up in the process. Subtraction works the same way but in reverse."
      ]
    },
    {
      "cell_type": "markdown",
      "metadata": {
        "id": "z6pE_zW0tozY"
      },
      "source": [
        "### Subtraction"
      ]
    },
    {
      "cell_type": "code",
      "metadata": {
        "id": "n5LVsONSMBUW"
      },
      "source": [
        "def sub(a, b):\r\n",
        "    c = []\r\n",
        "    for i in range(len(a)):\r\n",
        "        c.append((a[i]-b[i]) % Q)\r\n",
        "    return tuple(c)"
      ],
      "execution_count": null,
      "outputs": []
    },
    {
      "cell_type": "code",
      "metadata": {
        "colab": {
          "base_uri": "https://localhost:8080/"
        },
        "id": "FT-iv4NYqKwk",
        "outputId": "1b182d3e-31dd-46d8-d550-9f622d185b75"
      },
      "source": [
        "decode(decrypt(sub(encrypt(encode(0.8)), encrypt(encode(0.2)))))"
      ],
      "execution_count": null,
      "outputs": [
        {
          "output_type": "execute_result",
          "data": {
            "text/plain": [
              "0.6"
            ]
          },
          "metadata": {
            "tags": []
          },
          "execution_count": 20
        }
      ]
    },
    {
      "cell_type": "markdown",
      "metadata": {
        "id": "_oMlKniKs62P"
      },
      "source": [
        "### Scalar Multiplication"
      ]
    },
    {
      "cell_type": "markdown",
      "metadata": {
        "id": "7eO04Me7unZo"
      },
      "source": [
        "(a+b)*2 = 2a + 2b"
      ]
    },
    {
      "cell_type": "code",
      "metadata": {
        "id": "YmCzIPQ4tHlx"
      },
      "source": [
        "def imul(a, scalar):\r\n",
        "    'a is tuple of encrypted shares \\\r\n",
        "    scalar is a plaintext real number'\r\n",
        "    \r\n",
        "    c = []\r\n",
        "    for i in range(len(a)):\r\n",
        "        c.append((a[i]*scalar) % Q)\r\n",
        "    return tuple(c)"
      ],
      "execution_count": null,
      "outputs": []
    },
    {
      "cell_type": "code",
      "metadata": {
        "colab": {
          "base_uri": "https://localhost:8080/"
        },
        "id": "pdoTSEXTt75w",
        "outputId": "eed676e3-6a47-4456-f609-abdc22b5d2b7"
      },
      "source": [
        "x = encrypt(encode(2.5)); x"
      ],
      "execution_count": null,
      "outputs": [
        {
          "output_type": "execute_result",
          "data": {
            "text/plain": [
              "[15421408681201468554, 61636925121536912936, 49356790365043583982]"
            ]
          },
          "metadata": {
            "tags": []
          },
          "execution_count": 22
        }
      ]
    },
    {
      "cell_type": "code",
      "metadata": {
        "colab": {
          "base_uri": "https://localhost:8080/"
        },
        "id": "0uhghsmouFPW",
        "outputId": "b6650c46-b29d-4d43-8ae5-72573c02ee74"
      },
      "source": [
        "imul(x, 10)"
      ],
      "execution_count": null,
      "outputs": [
        {
          "output_type": "execute_result",
          "data": {
            "text/plain": [
              "(27798962644482720068, 47501192461475284736, 51114969064073960668)"
            ]
          },
          "metadata": {
            "tags": []
          },
          "execution_count": 23
        }
      ]
    },
    {
      "cell_type": "code",
      "metadata": {
        "colab": {
          "base_uri": "https://localhost:8080/"
        },
        "id": "870JrKyTuJ3b",
        "outputId": "a4210169-1382-4003-981c-af7972901441"
      },
      "source": [
        "decrypt(imul(x, 10))"
      ],
      "execution_count": null,
      "outputs": [
        {
          "output_type": "execute_result",
          "data": {
            "text/plain": [
              "2500000000"
            ]
          },
          "metadata": {
            "tags": []
          },
          "execution_count": 24
        }
      ]
    },
    {
      "cell_type": "code",
      "metadata": {
        "colab": {
          "base_uri": "https://localhost:8080/"
        },
        "id": "McG9axdzuMkv",
        "outputId": "63e0262c-8a1a-4ff9-820f-744d58bbab2a"
      },
      "source": [
        "decode(decrypt(imul(x, 10)))"
      ],
      "execution_count": null,
      "outputs": [
        {
          "output_type": "execute_result",
          "data": {
            "text/plain": [
              "25.0"
            ]
          },
          "metadata": {
            "tags": []
          },
          "execution_count": 25
        }
      ]
    },
    {
      "cell_type": "code",
      "metadata": {
        "id": "Vl3H8VWCuOos"
      },
      "source": [
        ""
      ],
      "execution_count": null,
      "outputs": []
    }
  ]
}
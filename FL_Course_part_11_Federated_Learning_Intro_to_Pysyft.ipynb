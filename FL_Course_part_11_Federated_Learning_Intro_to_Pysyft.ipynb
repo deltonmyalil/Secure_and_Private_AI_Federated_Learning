{
  "nbformat": 4,
  "nbformat_minor": 0,
  "metadata": {
    "colab": {
      "name": "FL_Course_part_11_Federated_Learning_Intro_to_Pysyft.ipynb",
      "provenance": [],
      "toc_visible": true,
      "authorship_tag": "ABX9TyOZ81s1Nd7xjckJGZAq63v2"
    },
    "kernelspec": {
      "name": "python3",
      "display_name": "Python 3"
    }
  },
  "cells": [
    {
      "cell_type": "markdown",
      "metadata": {
        "id": "OSE2fapjt8Yc"
      },
      "source": [
        "# Introduction to Pysyft\r\n",
        "\r\n",
        "Pysyft is an extension to major deep learning toolkits (here focus on pytorch). Right now version 0.3.0 is going on through some kind of an identity crisis with pysyft duet. So I am gonna focus on pysyft v0.2.9.\r\n",
        "\r\n",
        "Officially, Udacity Secure and Private AI course supports syft==0.1.2a1 , but I am gonna run on 0.2.9 and see if I can adjust to the later version."
      ]
    },
    {
      "cell_type": "code",
      "metadata": {
        "colab": {
          "base_uri": "https://localhost:8080/"
        },
        "id": "EG65Xvyo2xJX",
        "outputId": "b970a42e-ddc2-49d9-975d-5498ce8804d3"
      },
      "source": [
        "!pip install syft==0.2.9 >/dev/null"
      ],
      "execution_count": null,
      "outputs": [
        {
          "output_type": "stream",
          "text": [
            "\u001b[31mERROR: tensorflow 2.4.1 has requirement numpy~=1.19.2, but you'll have numpy 1.18.5 which is incompatible.\u001b[0m\n",
            "\u001b[31mERROR: google-colab 1.0.0 has requirement notebook~=5.3.0; python_version >= \"3.0\", but you'll have notebook 5.7.8 which is incompatible.\u001b[0m\n",
            "\u001b[31mERROR: google-colab 1.0.0 has requirement requests~=2.23.0, but you'll have requests 2.22.0 which is incompatible.\u001b[0m\n",
            "\u001b[31mERROR: google-colab 1.0.0 has requirement tornado~=5.1.0; python_version >= \"3.0\", but you'll have tornado 4.5.3 which is incompatible.\u001b[0m\n",
            "\u001b[31mERROR: datascience 0.10.6 has requirement folium==0.2.1, but you'll have folium 0.8.3 which is incompatible.\u001b[0m\n",
            "\u001b[31mERROR: bokeh 2.1.1 has requirement tornado>=5.1, but you'll have tornado 4.5.3 which is incompatible.\u001b[0m\n",
            "\u001b[31mERROR: albumentations 0.1.12 has requirement imgaug<0.2.7,>=0.2.5, but you'll have imgaug 0.2.9 which is incompatible.\u001b[0m\n"
          ],
          "name": "stdout"
        }
      ]
    },
    {
      "cell_type": "code",
      "metadata": {
        "id": "uOFiP2Wj9--u"
      },
      "source": [
        "import torch\r\n",
        "import syft as sy"
      ],
      "execution_count": null,
      "outputs": []
    },
    {
      "cell_type": "code",
      "metadata": {
        "colab": {
          "base_uri": "https://localhost:8080/"
        },
        "id": "nxfxRUM6kCom",
        "outputId": "5ee6ec18-c6dd-4879-ba47-083f6afbd362"
      },
      "source": [
        "\r\n",
        "x = torch.tensor([1,2,3,4,5])\r\n",
        "y = x+x\r\n",
        "\r\n",
        "print(y)\r\n",
        "\r\n",
        "hook = sy.TorchHook(torch)\r\n",
        "\r\n",
        "torch.tensor([2,3,4,5,6])"
      ],
      "execution_count": null,
      "outputs": [
        {
          "output_type": "stream",
          "text": [
            "tensor([ 2,  4,  6,  8, 10])\n"
          ],
          "name": "stdout"
        },
        {
          "output_type": "execute_result",
          "data": {
            "text/plain": [
              "tensor([2, 3, 4, 5, 6])"
            ]
          },
          "metadata": {
            "tags": []
          },
          "execution_count": 2
        }
      ]
    },
    {
      "cell_type": "markdown",
      "metadata": {
        "id": "5d2TJWP3-nGt"
      },
      "source": [
        "## Basic Remote Execution in PySyft\r\n",
        "Instead of torch tensors we are gonna create pointers to tensors. \r\n",
        "\r\n",
        "First create a pretend machine owned by a pretend person say, Bob."
      ]
    },
    {
      "cell_type": "code",
      "metadata": {
        "id": "swAC3Y2x_CG0"
      },
      "source": [
        "bob = sy.VirtualWorker(hook, id='bob')"
      ],
      "execution_count": null,
      "outputs": []
    },
    {
      "cell_type": "code",
      "metadata": {
        "colab": {
          "base_uri": "https://localhost:8080/"
        },
        "id": "yYQkv39OgFgK",
        "outputId": "93f916ed-fa50-4d73-ab1c-e46f2b7500ea"
      },
      "source": [
        "# Now it is empty\r\n",
        "bob._objects"
      ],
      "execution_count": null,
      "outputs": [
        {
          "output_type": "execute_result",
          "data": {
            "text/plain": [
              "{}"
            ]
          },
          "metadata": {
            "tags": []
          },
          "execution_count": 4
        }
      ]
    },
    {
      "cell_type": "code",
      "metadata": {
        "colab": {
          "base_uri": "https://localhost:8080/"
        },
        "id": "fDslfz6lgI9q",
        "outputId": "6d934714-9d0b-4ad4-9d6c-903b3d1a5d20"
      },
      "source": [
        "x = torch.tensor([1,2,3,4,5])\r\n",
        "# Sending the tensor to bob\r\n",
        "x = x.send(bob) # If initially this throws error, restart runtime and run again... Weird.\r\n",
        "\r\n",
        "bob._objects"
      ],
      "execution_count": null,
      "outputs": [
        {
          "output_type": "execute_result",
          "data": {
            "text/plain": [
              "{98010569556: tensor([1, 2, 3, 4, 5])}"
            ]
          },
          "metadata": {
            "tags": []
          },
          "execution_count": 5
        }
      ]
    },
    {
      "cell_type": "markdown",
      "metadata": {
        "id": "4N2p5pgvggGi"
      },
      "source": [
        "What was returned when I did x.send(bob)?\r\n",
        "\r\n",
        "Now, x.send() will return a pointer to a remote object. Pointer is a tensor and has all the tensor api's with it.\r\n",
        "\r\n",
        "However, when you do some tensor op on it, each op is serialized into something internal like json and then sent to bob. Then the virtual worker bob will execute those ops and then returns the pointer to the result."
      ]
    },
    {
      "cell_type": "code",
      "metadata": {
        "colab": {
          "base_uri": "https://localhost:8080/"
        },
        "id": "twUtYpdNg6FC",
        "outputId": "86528a28-7d0e-4c4a-c6a3-4ca9535ff54a"
      },
      "source": [
        "x"
      ],
      "execution_count": null,
      "outputs": [
        {
          "output_type": "execute_result",
          "data": {
            "text/plain": [
              "(Wrapper)>[PointerTensor | me:67098642563 -> bob:98010569556]"
            ]
          },
          "metadata": {
            "tags": []
          },
          "execution_count": 6
        }
      ]
    },
    {
      "cell_type": "code",
      "metadata": {
        "colab": {
          "base_uri": "https://localhost:8080/"
        },
        "id": "AMLGN0aThfN6",
        "outputId": "232b5b5b-e3b9-491a-f2c6-806a7063cdb1"
      },
      "source": [
        "x.id"
      ],
      "execution_count": null,
      "outputs": [
        {
          "output_type": "execute_result",
          "data": {
            "text/plain": [
              "67098642563"
            ]
          },
          "metadata": {
            "tags": []
          },
          "execution_count": 7
        }
      ]
    },
    {
      "cell_type": "code",
      "metadata": {
        "colab": {
          "base_uri": "https://localhost:8080/"
        },
        "id": "IwqD2mKKkM2-",
        "outputId": "ef61e840-9720-4217-adeb-b26f7b6dfc7f"
      },
      "source": [
        "x.id_at_location"
      ],
      "execution_count": null,
      "outputs": [
        {
          "output_type": "execute_result",
          "data": {
            "text/plain": [
              "98010569556"
            ]
          },
          "metadata": {
            "tags": []
          },
          "execution_count": 8
        }
      ]
    },
    {
      "cell_type": "code",
      "metadata": {
        "colab": {
          "base_uri": "https://localhost:8080/"
        },
        "id": "4jC7WsSfhl5S",
        "outputId": "e0d8db87-6dc8-4900-caad-f2c374adc63b"
      },
      "source": [
        "x.owner"
      ],
      "execution_count": null,
      "outputs": [
        {
          "output_type": "execute_result",
          "data": {
            "text/plain": [
              "<VirtualWorker id:me #objects:0>"
            ]
          },
          "metadata": {
            "tags": []
          },
          "execution_count": 9
        }
      ]
    },
    {
      "cell_type": "code",
      "metadata": {
        "colab": {
          "base_uri": "https://localhost:8080/"
        },
        "id": "tVvN2YbTkVz6",
        "outputId": "a4e4ac01-79ab-4315-e404-524fa9281bf0"
      },
      "source": [
        "x.location"
      ],
      "execution_count": null,
      "outputs": [
        {
          "output_type": "execute_result",
          "data": {
            "text/plain": [
              "<VirtualWorker id:bob #objects:1>"
            ]
          },
          "metadata": {
            "tags": []
          },
          "execution_count": 10
        }
      ]
    },
    {
      "cell_type": "markdown",
      "metadata": {
        "id": "rhdwqV0Chupy"
      },
      "source": [
        "Owner 'me' is the local worker that was created when we hooked :)\r\n",
        "\r\n",
        "So now all commands are done on the device 'me'. AKA local worker."
      ]
    },
    {
      "cell_type": "code",
      "metadata": {
        "colab": {
          "base_uri": "https://localhost:8080/"
        },
        "id": "dS5RZX_KkfcN",
        "outputId": "034be33e-05d8-4d53-c1f4-7402a29b3064"
      },
      "source": [
        "x # x is a pointer"
      ],
      "execution_count": null,
      "outputs": [
        {
          "output_type": "execute_result",
          "data": {
            "text/plain": [
              "(Wrapper)>[PointerTensor | me:67098642563 -> bob:98010569556]"
            ]
          },
          "metadata": {
            "tags": []
          },
          "execution_count": 11
        }
      ]
    },
    {
      "cell_type": "code",
      "metadata": {
        "colab": {
          "base_uri": "https://localhost:8080/"
        },
        "id": "A0ualJ1ejrpA",
        "outputId": "1b6f23c9-6012-4a92-db73-32e37e2e4a16"
      },
      "source": [
        "x = x.get()\r\n",
        "x"
      ],
      "execution_count": null,
      "outputs": [
        {
          "output_type": "execute_result",
          "data": {
            "text/plain": [
              "tensor([1, 2, 3, 4, 5])"
            ]
          },
          "metadata": {
            "tags": []
          },
          "execution_count": 12
        }
      ]
    },
    {
      "cell_type": "code",
      "metadata": {
        "colab": {
          "base_uri": "https://localhost:8080/"
        },
        "id": "fv8IJAv8kkjD",
        "outputId": "21fc25dd-9845-40ee-c191-b876be6af2b5"
      },
      "source": [
        "bob._objects"
      ],
      "execution_count": null,
      "outputs": [
        {
          "output_type": "execute_result",
          "data": {
            "text/plain": [
              "{}"
            ]
          },
          "metadata": {
            "tags": []
          },
          "execution_count": 13
        }
      ]
    },
    {
      "cell_type": "code",
      "metadata": {
        "colab": {
          "base_uri": "https://localhost:8080/",
          "height": 333
        },
        "id": "rgz5NzOGkrWQ",
        "outputId": "b32c7f0c-e486-44f6-fb55-6ed92cd4f5bd"
      },
      "source": [
        "# Now bob does not contain any object anymore.\r\n",
        "# So another x.get() will give you this error\r\n",
        "x.get()"
      ],
      "execution_count": null,
      "outputs": [
        {
          "output_type": "error",
          "ename": "AttributeError",
          "evalue": "ignored",
          "traceback": [
            "\u001b[0;31m---------------------------------------------------------------------------\u001b[0m",
            "\u001b[0;31mAttributeError\u001b[0m                            Traceback (most recent call last)",
            "\u001b[0;32m<ipython-input-14-b7e4d36cdeb5>\u001b[0m in \u001b[0;36m<module>\u001b[0;34m()\u001b[0m\n\u001b[1;32m      1\u001b[0m \u001b[0;31m# Now bob does not contain any object anymore.\u001b[0m\u001b[0;34m\u001b[0m\u001b[0;34m\u001b[0m\u001b[0;34m\u001b[0m\u001b[0m\n\u001b[1;32m      2\u001b[0m \u001b[0;31m# So another x.get() will give you this error\u001b[0m\u001b[0;34m\u001b[0m\u001b[0;34m\u001b[0m\u001b[0;34m\u001b[0m\u001b[0m\n\u001b[0;32m----> 3\u001b[0;31m \u001b[0mx\u001b[0m\u001b[0;34m.\u001b[0m\u001b[0mget\u001b[0m\u001b[0;34m(\u001b[0m\u001b[0;34m)\u001b[0m\u001b[0;34m\u001b[0m\u001b[0;34m\u001b[0m\u001b[0m\n\u001b[0m",
            "\u001b[0;32m/usr/local/lib/python3.6/dist-packages/syft/frameworks/torch/tensors/interpreters/native.py\u001b[0m in \u001b[0;36mget\u001b[0;34m(self, inplace, user, reason, *args, **kwargs)\u001b[0m\n\u001b[1;32m    643\u001b[0m \u001b[0;34m\u001b[0m\u001b[0m\n\u001b[1;32m    644\u001b[0m         \u001b[0;31m# If it is a local tensor/chain, we don't need to verify permissions\u001b[0m\u001b[0;34m\u001b[0m\u001b[0;34m\u001b[0m\u001b[0;34m\u001b[0m\u001b[0m\n\u001b[0;32m--> 645\u001b[0;31m         \u001b[0;32mif\u001b[0m \u001b[0;32mnot\u001b[0m \u001b[0misinstance\u001b[0m\u001b[0;34m(\u001b[0m\u001b[0mself\u001b[0m\u001b[0;34m.\u001b[0m\u001b[0mchild\u001b[0m\u001b[0;34m,\u001b[0m \u001b[0msyft\u001b[0m\u001b[0;34m.\u001b[0m\u001b[0mPointerTensor\u001b[0m\u001b[0;34m)\u001b[0m\u001b[0;34m:\u001b[0m\u001b[0;34m\u001b[0m\u001b[0;34m\u001b[0m\u001b[0m\n\u001b[0m\u001b[1;32m    646\u001b[0m             \u001b[0mtensor\u001b[0m \u001b[0;34m=\u001b[0m \u001b[0mself\u001b[0m\u001b[0;34m.\u001b[0m\u001b[0mchild\u001b[0m\u001b[0;34m.\u001b[0m\u001b[0mget\u001b[0m\u001b[0;34m(\u001b[0m\u001b[0;34m*\u001b[0m\u001b[0margs\u001b[0m\u001b[0;34m,\u001b[0m \u001b[0;34m**\u001b[0m\u001b[0mkwargs\u001b[0m\u001b[0;34m)\u001b[0m\u001b[0;34m\u001b[0m\u001b[0;34m\u001b[0m\u001b[0m\n\u001b[1;32m    647\u001b[0m         \u001b[0;32melse\u001b[0m\u001b[0;34m:\u001b[0m  \u001b[0;31m# Remote tensor/chain\u001b[0m\u001b[0;34m\u001b[0m\u001b[0;34m\u001b[0m\u001b[0m\n",
            "\u001b[0;31mAttributeError\u001b[0m: 'Tensor' object has no attribute 'child'"
          ]
        }
      ]
    },
    {
      "cell_type": "markdown",
      "metadata": {
        "id": "NsLJ4VU0kzRi"
      },
      "source": [
        "## Multipe workers at a time"
      ]
    },
    {
      "cell_type": "code",
      "metadata": {
        "colab": {
          "base_uri": "https://localhost:8080/"
        },
        "id": "w5DG-El8fApy",
        "outputId": "00602ae1-cd8d-4272-b551-4b99a59c332d"
      },
      "source": [
        "# We already have bob with {}\r\n",
        "alice = sy.VirtualWorker(hook, id='alice')\r\n",
        "x = torch.tensor([2,3,4,5,6])\r\n",
        "x_ptr = x.send(bob, alice)\r\n",
        "x_ptr"
      ],
      "execution_count": null,
      "outputs": [
        {
          "output_type": "execute_result",
          "data": {
            "text/plain": [
              "(Wrapper)>[MultiPointerTensor]\n",
              "\t-> [PointerTensor | me:49779696097 -> bob:74300958979]\n",
              "\t-> [PointerTensor | me:55541863964 -> alice:74300958979]"
            ]
          },
          "metadata": {
            "tags": []
          },
          "execution_count": 16
        }
      ]
    },
    {
      "cell_type": "markdown",
      "metadata": {
        "id": "98EZWsVhfj9D"
      },
      "source": [
        "A pointer that points to multiple machines is returned."
      ]
    },
    {
      "cell_type": "code",
      "metadata": {
        "colab": {
          "base_uri": "https://localhost:8080/"
        },
        "id": "CEYlFeXufuNd",
        "outputId": "ae3dbc8f-6f98-4989-8c41-175b1d4134e0"
      },
      "source": [
        "x_ptr.get()"
      ],
      "execution_count": null,
      "outputs": [
        {
          "output_type": "execute_result",
          "data": {
            "text/plain": [
              "[tensor([2, 3, 4, 5, 6]), tensor([2, 3, 4, 5, 6])]"
            ]
          },
          "metadata": {
            "tags": []
          },
          "execution_count": 17
        }
      ]
    },
    {
      "cell_type": "markdown",
      "metadata": {
        "id": "w8R8BdWffv4C"
      },
      "source": [
        "This returns two tensors."
      ]
    },
    {
      "cell_type": "code",
      "metadata": {
        "colab": {
          "base_uri": "https://localhost:8080/"
        },
        "id": "zGxY1uw-f3h5",
        "outputId": "ffa831a0-06e8-48e4-98fd-373a538d39d8"
      },
      "source": [
        "x = torch.tensor([1,2,3,4,5]).send(bob, alice)\r\n",
        "x.get(sum_results=True)"
      ],
      "execution_count": null,
      "outputs": [
        {
          "output_type": "execute_result",
          "data": {
            "text/plain": [
              "tensor([ 2,  4,  6,  8, 10])"
            ]
          },
          "metadata": {
            "tags": []
          },
          "execution_count": 18
        }
      ]
    },
    {
      "cell_type": "markdown",
      "metadata": {
        "id": "FiQnjG_fgB0L"
      },
      "source": [
        "## Remote Arithmetic"
      ]
    },
    {
      "cell_type": "code",
      "metadata": {
        "id": "YVB6XeA6gZu5"
      },
      "source": [
        "x = torch.tensor([1,2,3,4,5]).send(bob)\r\n",
        "y = torch.tensor([1,1,1,1,1]).send(bob)"
      ],
      "execution_count": null,
      "outputs": []
    },
    {
      "cell_type": "code",
      "metadata": {
        "colab": {
          "base_uri": "https://localhost:8080/"
        },
        "id": "bycPMp98gk5D",
        "outputId": "3c82bb5d-8568-44b7-c82c-afebf8cef397"
      },
      "source": [
        "x"
      ],
      "execution_count": null,
      "outputs": [
        {
          "output_type": "execute_result",
          "data": {
            "text/plain": [
              "(Wrapper)>[PointerTensor | me:83170498742 -> bob:89751322106]"
            ]
          },
          "metadata": {
            "tags": []
          },
          "execution_count": 20
        }
      ]
    },
    {
      "cell_type": "code",
      "metadata": {
        "colab": {
          "base_uri": "https://localhost:8080/"
        },
        "id": "oLS2RPYpglZP",
        "outputId": "632fa607-2959-4355-fd57-daf11e85893e"
      },
      "source": [
        "y"
      ],
      "execution_count": null,
      "outputs": [
        {
          "output_type": "execute_result",
          "data": {
            "text/plain": [
              "(Wrapper)>[PointerTensor | me:54981061737 -> bob:5489897619]"
            ]
          },
          "metadata": {
            "tags": []
          },
          "execution_count": 21
        }
      ]
    },
    {
      "cell_type": "markdown",
      "metadata": {
        "id": "EGI_byKcgnfn"
      },
      "source": [
        "The best thing about these pointer tensors is that we can pretend that they are just regular tensors. "
      ]
    },
    {
      "cell_type": "code",
      "metadata": {
        "colab": {
          "base_uri": "https://localhost:8080/"
        },
        "id": "XiUZ_cNZgwMs",
        "outputId": "f216eada-1321-4e60-c760-6fd54612f00f"
      },
      "source": [
        "z = x + y # this will be executed at bob's machine\r\n",
        "z"
      ],
      "execution_count": null,
      "outputs": [
        {
          "output_type": "execute_result",
          "data": {
            "text/plain": [
              "(Wrapper)>[PointerTensor | me:71162559070 -> bob:76707922489]"
            ]
          },
          "metadata": {
            "tags": []
          },
          "execution_count": 22
        }
      ]
    },
    {
      "cell_type": "code",
      "metadata": {
        "colab": {
          "base_uri": "https://localhost:8080/"
        },
        "id": "AvjDAeV3gzU3",
        "outputId": "72704fed-49a2-4d6d-b994-c7a395e289fd"
      },
      "source": [
        "z.location"
      ],
      "execution_count": null,
      "outputs": [
        {
          "output_type": "execute_result",
          "data": {
            "text/plain": [
              "<VirtualWorker id:bob #objects:3>"
            ]
          },
          "metadata": {
            "tags": []
          },
          "execution_count": 23
        }
      ]
    },
    {
      "cell_type": "code",
      "metadata": {
        "colab": {
          "base_uri": "https://localhost:8080/"
        },
        "id": "FNc2SSIrg1Yf",
        "outputId": "0fda0a4c-110d-4aa5-8e3f-f62e56623216"
      },
      "source": [
        "z = z.get(); z"
      ],
      "execution_count": null,
      "outputs": [
        {
          "output_type": "execute_result",
          "data": {
            "text/plain": [
              "tensor([2, 3, 4, 5, 6])"
            ]
          },
          "metadata": {
            "tags": []
          },
          "execution_count": 24
        }
      ]
    },
    {
      "cell_type": "code",
      "metadata": {
        "colab": {
          "base_uri": "https://localhost:8080/"
        },
        "id": "oZbNEcONg_Fm",
        "outputId": "de667af8-9b0f-4f06-b42f-52c139f56791"
      },
      "source": [
        "bob._objects"
      ],
      "execution_count": null,
      "outputs": [
        {
          "output_type": "execute_result",
          "data": {
            "text/plain": [
              "{5489897619: tensor([1, 1, 1, 1, 1]), 89751322106: tensor([1, 2, 3, 4, 5])}"
            ]
          },
          "metadata": {
            "tags": []
          },
          "execution_count": 26
        }
      ]
    },
    {
      "cell_type": "code",
      "metadata": {
        "colab": {
          "base_uri": "https://localhost:8080/"
        },
        "id": "26UqkzDnhEGN",
        "outputId": "3f90e767-e2dc-498a-d252-b3deef237068"
      },
      "source": [
        "z = torch.add(x, y); z # Again executed at bob's machine"
      ],
      "execution_count": null,
      "outputs": [
        {
          "output_type": "execute_result",
          "data": {
            "text/plain": [
              "(Wrapper)>[PointerTensor | me:78364046656 -> bob:71043509546]"
            ]
          },
          "metadata": {
            "tags": []
          },
          "execution_count": 27
        }
      ]
    },
    {
      "cell_type": "code",
      "metadata": {
        "colab": {
          "base_uri": "https://localhost:8080/"
        },
        "id": "okLhQKa9hQpu",
        "outputId": "b2116ac3-db97-4c67-d877-e757c9637edb"
      },
      "source": [
        "bob._objects"
      ],
      "execution_count": null,
      "outputs": [
        {
          "output_type": "execute_result",
          "data": {
            "text/plain": [
              "{5489897619: tensor([1, 1, 1, 1, 1]),\n",
              " 71043509546: tensor([2, 3, 4, 5, 6]),\n",
              " 89751322106: tensor([1, 2, 3, 4, 5])}"
            ]
          },
          "metadata": {
            "tags": []
          },
          "execution_count": 28
        }
      ]
    },
    {
      "cell_type": "code",
      "metadata": {
        "colab": {
          "base_uri": "https://localhost:8080/"
        },
        "id": "dOOJ47MNhSkA",
        "outputId": "81eff7ca-8f08-458e-e9b5-654271974467"
      },
      "source": [
        "z = z.get(); z"
      ],
      "execution_count": null,
      "outputs": [
        {
          "output_type": "execute_result",
          "data": {
            "text/plain": [
              "tensor([2, 3, 4, 5, 6])"
            ]
          },
          "metadata": {
            "tags": []
          },
          "execution_count": 29
        }
      ]
    },
    {
      "cell_type": "markdown",
      "metadata": {
        "id": "N2oivYclhcPw"
      },
      "source": [
        "### This simple arithmetic can be extended to the full pytorch functionality with LA and calculus for NN"
      ]
    },
    {
      "cell_type": "code",
      "metadata": {
        "colab": {
          "base_uri": "https://localhost:8080/"
        },
        "id": "o2K-5OVFhoNp",
        "outputId": "7248f915-0c7e-45ee-ace9-17ad7ce3742d"
      },
      "source": [
        "x = torch.tensor([1.,2,3,4,5], requires_grad=True).send(bob)\r\n",
        "y = torch.tensor([1,1,1.,1,1], requires_grad=True).send(bob)\r\n",
        "z = (x + y).sum()\r\n",
        "z.backward()\r\n",
        "x = x.get(); x"
      ],
      "execution_count": null,
      "outputs": [
        {
          "output_type": "execute_result",
          "data": {
            "text/plain": [
              "tensor([1., 2., 3., 4., 5.], requires_grad=True)"
            ]
          },
          "metadata": {
            "tags": []
          },
          "execution_count": 32
        }
      ]
    },
    {
      "cell_type": "code",
      "metadata": {
        "colab": {
          "base_uri": "https://localhost:8080/"
        },
        "id": "j6JQfTzxhzEN",
        "outputId": "2b13f669-cdb9-49ee-d631-4b4d3b2cb06f"
      },
      "source": [
        "x.grad"
      ],
      "execution_count": null,
      "outputs": [
        {
          "output_type": "execute_result",
          "data": {
            "text/plain": [
              "tensor([1., 1., 1., 1., 1.])"
            ]
          },
          "metadata": {
            "tags": []
          },
          "execution_count": 33
        }
      ]
    }
  ]
}
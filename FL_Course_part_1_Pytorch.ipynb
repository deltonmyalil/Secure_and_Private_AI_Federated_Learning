{
  "nbformat": 4,
  "nbformat_minor": 0,
  "metadata": {
    "colab": {
      "name": "FL_Course_part_1_Pytorch.ipynb",
      "provenance": [],
      "authorship_tag": "ABX9TyNiuOZL6sEVqDf16kxzzhPk"
    },
    "kernelspec": {
      "name": "python3",
      "display_name": "Python 3"
    }
  },
  "cells": [
    {
      "cell_type": "markdown",
      "metadata": {
        "id": "ACzgc56jN1pO"
      },
      "source": [
        "# Obligatory introduction to NN and Pytorch"
      ]
    },
    {
      "cell_type": "code",
      "metadata": {
        "id": "3IvNCCUSOTz5"
      },
      "source": [
        "import torch\r\n",
        "\r\n",
        "def activation(x):\r\n",
        "    return 1/(1+torch.exp(-x))\r\n",
        "\r\n",
        "torch.manual_seed(404)\r\n",
        "\r\n",
        "# Generate some data\r\n",
        "features = torch.randn((1, 5))\r\n",
        "weights = torch.randn_like(features) # Inherit shape of features\r\n",
        "bias = torch.randn((1, 1))"
      ],
      "execution_count": null,
      "outputs": []
    },
    {
      "cell_type": "code",
      "metadata": {
        "id": "rsSAiE8LQgut"
      },
      "source": [
        "# Calculating the output of the neuron\r\n",
        "# Method 1: mm method of torch\r\n",
        "# torch.mm(features, weights) # Error"
      ],
      "execution_count": null,
      "outputs": []
    },
    {
      "cell_type": "code",
      "metadata": {
        "colab": {
          "base_uri": "https://localhost:8080/"
        },
        "id": "-iE_H3sKRKKx",
        "outputId": "807ffc86-7f1b-4334-b88b-6c447c4f4075"
      },
      "source": [
        "activation(torch.mm(features, weights.view(5, 1)) + bias)"
      ],
      "execution_count": null,
      "outputs": [
        {
          "output_type": "execute_result",
          "data": {
            "text/plain": [
              "tensor([[0.0506]])"
            ]
          },
          "metadata": {
            "tags": []
          },
          "execution_count": 36
        }
      ]
    },
    {
      "cell_type": "markdown",
      "metadata": {
        "id": "uM8Wbsg_RSci"
      },
      "source": [
        "This is by using the tensor.view(shape_tuple) method to reshape"
      ]
    },
    {
      "cell_type": "code",
      "metadata": {
        "colab": {
          "base_uri": "https://localhost:8080/"
        },
        "id": "aPCS3KF9Raad",
        "outputId": "7d037831-b785-44e3-c0f0-c65777de5259"
      },
      "source": [
        "# or\r\n",
        "activation(torch.mm(features, weights.reshape(5, 1)) + bias)"
      ],
      "execution_count": null,
      "outputs": [
        {
          "output_type": "execute_result",
          "data": {
            "text/plain": [
              "tensor([[0.0506]])"
            ]
          },
          "metadata": {
            "tags": []
          },
          "execution_count": 37
        }
      ]
    },
    {
      "cell_type": "markdown",
      "metadata": {
        "id": "gr3QacVHRj4A"
      },
      "source": [
        "This is by using the reshape method. However, reshape clones it to new memory location. Use sparingly when spatial locality condition exists in code"
      ]
    },
    {
      "cell_type": "markdown",
      "metadata": {
        "id": "mqzp_ZsSR5UA"
      },
      "source": [
        "Note that torch.matmul supports broadcasting and is not that strict with respect to shapes and tensor sizes"
      ]
    },
    {
      "cell_type": "code",
      "metadata": {
        "colab": {
          "base_uri": "https://localhost:8080/"
        },
        "id": "O7ZcDlwHSLHk",
        "outputId": "52d2fd07-5477-45cb-ad03-c1920bcc6fec"
      },
      "source": [
        "activation(torch.matmul(weights, features.t()) + bias) # tensor.t() does transpose"
      ],
      "execution_count": null,
      "outputs": [
        {
          "output_type": "execute_result",
          "data": {
            "text/plain": [
              "tensor([[0.0506]])"
            ]
          },
          "metadata": {
            "tags": []
          },
          "execution_count": 38
        }
      ]
    },
    {
      "cell_type": "markdown",
      "metadata": {
        "id": "0zPVxGrZSk7_"
      },
      "source": [
        "## Stacking some layers"
      ]
    },
    {
      "cell_type": "code",
      "metadata": {
        "id": "iGndNuKrTCuq"
      },
      "source": [
        "features = torch.randn((1, 3))\r\n",
        "\r\n",
        "n_input = features.shape[1]\r\n",
        "n_hidden = 2\r\n",
        "n_output = 1\r\n",
        "\r\n",
        "W1 = torch.randn(n_input, n_hidden)\r\n",
        "W2 = torch.randn(n_hidden, n_output)\r\n",
        "\r\n",
        "b1 = torch.randn((1, n_hidden))\r\n",
        "b2 = torch.randn((1, n_output))"
      ],
      "execution_count": null,
      "outputs": []
    },
    {
      "cell_type": "code",
      "metadata": {
        "colab": {
          "base_uri": "https://localhost:8080/"
        },
        "id": "bvwsjfcvT0S1",
        "outputId": "7c91a72f-86f1-426b-b629-66637f70ade0"
      },
      "source": [
        "hidden_outputs = activation(torch.mm(features, W1) + b1)\r\n",
        "output = activation(torch.mm(hidden_outputs, W2) + b2)\r\n",
        "output"
      ],
      "execution_count": null,
      "outputs": [
        {
          "output_type": "execute_result",
          "data": {
            "text/plain": [
              "tensor([[0.9165]])"
            ]
          },
          "metadata": {
            "tags": []
          },
          "execution_count": 40
        }
      ]
    },
    {
      "cell_type": "markdown",
      "metadata": {
        "id": "kGOvqaK3UVtP"
      },
      "source": [
        "## Numpy and Torch interoperability"
      ]
    },
    {
      "cell_type": "code",
      "metadata": {
        "colab": {
          "base_uri": "https://localhost:8080/"
        },
        "id": "knKuaH2oUZcl",
        "outputId": "2f878c3f-ca74-411d-c50a-f9ecddb08c52"
      },
      "source": [
        "import numpy as np\r\n",
        "a = np.random.rand(4, 3) # This is from uniform dist, use randn for normal\r\n",
        "a"
      ],
      "execution_count": null,
      "outputs": [
        {
          "output_type": "execute_result",
          "data": {
            "text/plain": [
              "array([[0.45769935, 0.87766961, 0.49479135],\n",
              "       [0.53315174, 0.67289907, 0.79607852],\n",
              "       [0.38952338, 0.02940523, 0.52759923],\n",
              "       [0.8645661 , 0.12402806, 0.47848791]])"
            ]
          },
          "metadata": {
            "tags": []
          },
          "execution_count": 41
        }
      ]
    },
    {
      "cell_type": "code",
      "metadata": {
        "colab": {
          "base_uri": "https://localhost:8080/"
        },
        "id": "IIvCNm6vV4xB",
        "outputId": "e1e7c2ac-ebac-4110-c4d6-1ea2cc2ca388"
      },
      "source": [
        "b = torch.from_numpy(a)\r\n",
        "type(b)"
      ],
      "execution_count": null,
      "outputs": [
        {
          "output_type": "execute_result",
          "data": {
            "text/plain": [
              "torch.Tensor"
            ]
          },
          "metadata": {
            "tags": []
          },
          "execution_count": 42
        }
      ]
    },
    {
      "cell_type": "code",
      "metadata": {
        "colab": {
          "base_uri": "https://localhost:8080/"
        },
        "id": "Nw8CMGljV-Ea",
        "outputId": "36d7b3f2-93bc-4355-f32d-a11e98e8829c"
      },
      "source": [
        "b"
      ],
      "execution_count": null,
      "outputs": [
        {
          "output_type": "execute_result",
          "data": {
            "text/plain": [
              "tensor([[0.4577, 0.8777, 0.4948],\n",
              "        [0.5332, 0.6729, 0.7961],\n",
              "        [0.3895, 0.0294, 0.5276],\n",
              "        [0.8646, 0.1240, 0.4785]], dtype=torch.float64)"
            ]
          },
          "metadata": {
            "tags": []
          },
          "execution_count": 43
        }
      ]
    },
    {
      "cell_type": "code",
      "metadata": {
        "colab": {
          "base_uri": "https://localhost:8080/"
        },
        "id": "fPdpRfPKV_-4",
        "outputId": "bb394d70-ccec-4bf4-ccf8-fd1d23fc8a7f"
      },
      "source": [
        "type(b.numpy())"
      ],
      "execution_count": null,
      "outputs": [
        {
          "output_type": "execute_result",
          "data": {
            "text/plain": [
              "numpy.ndarray"
            ]
          },
          "metadata": {
            "tags": []
          },
          "execution_count": 44
        }
      ]
    },
    {
      "cell_type": "code",
      "metadata": {
        "colab": {
          "base_uri": "https://localhost:8080/"
        },
        "id": "_sd4ggzgWFeK",
        "outputId": "1510a64d-7e4f-4839-d7f2-c22d6f8247e5"
      },
      "source": [
        "# Scalar in-place mul of t.tensor\r\n",
        "b.mul_(2)"
      ],
      "execution_count": null,
      "outputs": [
        {
          "output_type": "execute_result",
          "data": {
            "text/plain": [
              "tensor([[0.9154, 1.7553, 0.9896],\n",
              "        [1.0663, 1.3458, 1.5922],\n",
              "        [0.7790, 0.0588, 1.0552],\n",
              "        [1.7291, 0.2481, 0.9570]], dtype=torch.float64)"
            ]
          },
          "metadata": {
            "tags": []
          },
          "execution_count": 45
        }
      ]
    },
    {
      "cell_type": "code",
      "metadata": {
        "colab": {
          "base_uri": "https://localhost:8080/"
        },
        "id": "FkXYd4j8WNVJ",
        "outputId": "ffd0b0f3-c4ab-4b1c-93e1-ab742e5c44d8"
      },
      "source": [
        "b # new values instead of old. ie In place operation"
      ],
      "execution_count": null,
      "outputs": [
        {
          "output_type": "execute_result",
          "data": {
            "text/plain": [
              "tensor([[0.9154, 1.7553, 0.9896],\n",
              "        [1.0663, 1.3458, 1.5922],\n",
              "        [0.7790, 0.0588, 1.0552],\n",
              "        [1.7291, 0.2481, 0.9570]], dtype=torch.float64)"
            ]
          },
          "metadata": {
            "tags": []
          },
          "execution_count": 46
        }
      ]
    },
    {
      "cell_type": "code",
      "metadata": {
        "colab": {
          "base_uri": "https://localhost:8080/"
        },
        "id": "calOsWzqWS4T",
        "outputId": "970ef486-7c36-425c-95b9-54c3e40f79c8"
      },
      "source": [
        "a # a was numpy array and it also changed!"
      ],
      "execution_count": null,
      "outputs": [
        {
          "output_type": "execute_result",
          "data": {
            "text/plain": [
              "array([[0.91539869, 1.75533921, 0.98958271],\n",
              "       [1.06630347, 1.34579814, 1.59215703],\n",
              "       [0.77904676, 0.05881047, 1.05519846],\n",
              "       [1.7291322 , 0.24805611, 0.95697582]])"
            ]
          },
          "metadata": {
            "tags": []
          },
          "execution_count": 47
        }
      ]
    },
    {
      "cell_type": "code",
      "metadata": {
        "colab": {
          "base_uri": "https://localhost:8080/"
        },
        "id": "Gzml2gFvWZ6U",
        "outputId": "4f333a32-f0a7-4ba8-9d03-045b5f843d10"
      },
      "source": [
        "type(a) # type still remains ndarray though"
      ],
      "execution_count": null,
      "outputs": [
        {
          "output_type": "execute_result",
          "data": {
            "text/plain": [
              "numpy.ndarray"
            ]
          },
          "metadata": {
            "tags": []
          },
          "execution_count": 48
        }
      ]
    },
    {
      "cell_type": "markdown",
      "metadata": {
        "id": "LyxIpY7KWgac"
      },
      "source": [
        "# NN in Pt"
      ]
    },
    {
      "cell_type": "code",
      "metadata": {
        "id": "4cipuFJhWoVU"
      },
      "source": [
        "# Import the holy trinity\r\n",
        "import numpy as np\r\n",
        "import pandas as pd\r\n",
        "import matplotlib.pyplot as plt\r\n",
        "\r\n",
        "import torch\r\n",
        "import helper"
      ],
      "execution_count": null,
      "outputs": []
    },
    {
      "cell_type": "code",
      "metadata": {
        "id": "N3zrNVr6XK7E"
      },
      "source": [
        "from torchvision import datasets, transforms\r\n",
        "\r\n",
        "# Transforms are functions used to preprocess, eg: Normalization\r\n",
        "# Compose() can combine multiple transforms together as list\r\n",
        "transform = transforms.Compose([transforms.ToTensor(),\r\n",
        "                                transforms.Normalize(mean=(0.5, ), std=(0.5, ))\r\n",
        "                                ])\r\n",
        "\r\n",
        "# Download training data and apply transforms\r\n",
        "trainset = datasets.MNIST('~/.pytorch/MNIST_data/', download=True, train=True, transform=transform)\r\n",
        "trainloader = torch.utils.data.DataLoader(trainset, batch_size=64, shuffle=True)"
      ],
      "execution_count": null,
      "outputs": []
    },
    {
      "cell_type": "code",
      "metadata": {
        "colab": {
          "base_uri": "https://localhost:8080/"
        },
        "id": "D6EmLq6EW3U4",
        "outputId": "fc4c2c6f-8b8e-4c47-8d22-c7f0bf745cb8"
      },
      "source": [
        "# Create iterator on loader\r\n",
        "dataiter = iter(trainloader)\r\n",
        "images, labels = dataiter.next()\r\n",
        "print(images.shape) # 64 images of 1 color channel, 28x28 pixels\r\n",
        "print(labels.shape) # 64 integer labels"
      ],
      "execution_count": null,
      "outputs": [
        {
          "output_type": "stream",
          "text": [
            "torch.Size([64, 1, 28, 28])\n",
            "torch.Size([64])\n"
          ],
          "name": "stdout"
        }
      ]
    },
    {
      "cell_type": "code",
      "metadata": {
        "colab": {
          "base_uri": "https://localhost:8080/",
          "height": 282
        },
        "id": "-UiC15nMevIr",
        "outputId": "6617ae45-9cfa-4fc7-8aa9-350dd1eb2e98"
      },
      "source": [
        "plt.imshow(images[0][0].numpy(), cmap='Greys')"
      ],
      "execution_count": null,
      "outputs": [
        {
          "output_type": "execute_result",
          "data": {
            "text/plain": [
              "<matplotlib.image.AxesImage at 0x7f568e83e4e0>"
            ]
          },
          "metadata": {
            "tags": []
          },
          "execution_count": 52
        },
        {
          "output_type": "display_data",
          "data": {
            "image/png": "[encoded data removed]",
            "text/plain": [
              "<Figure size 432x288 with 1 Axes>"
            ]
          },
          "metadata": {
            "tags": [],
            "needs_background": "light"
          }
        }
      ]
    },
    {
      "cell_type": "code",
      "metadata": {
        "colab": {
          "base_uri": "https://localhost:8080/"
        },
        "id": "hsjVL1YIfh9c",
        "outputId": "b80925bf-9d9f-4b90-db8f-31d871e6314c"
      },
      "source": [
        "# Reshaped view, preserving only the 64 indexes and flattening the rest with -1\r\n",
        "images.view(images.shape[0], -1).shape"
      ],
      "execution_count": null,
      "outputs": [
        {
          "output_type": "execute_result",
          "data": {
            "text/plain": [
              "torch.Size([64, 784])"
            ]
          },
          "metadata": {
            "tags": []
          },
          "execution_count": 53
        }
      ]
    },
    {
      "cell_type": "code",
      "metadata": {
        "colab": {
          "base_uri": "https://localhost:8080/"
        },
        "id": "MBiMloRWf7xW",
        "outputId": "16e9ca70-289e-47c7-d4f1-c880c510618c"
      },
      "source": [
        "len(images.view(images.shape[0], -1)[0]) # One of the images that is flattened into vector of len 784"
      ],
      "execution_count": null,
      "outputs": [
        {
          "output_type": "execute_result",
          "data": {
            "text/plain": [
              "784"
            ]
          },
          "metadata": {
            "tags": []
          },
          "execution_count": 54
        }
      ]
    },
    {
      "cell_type": "code",
      "metadata": {
        "colab": {
          "base_uri": "https://localhost:8080/"
        },
        "id": "7EKl1O5_hCXk",
        "outputId": "94dd110b-d584-48df-afc2-d6250f069dd2"
      },
      "source": [
        "# Simple solution to classification\r\n",
        "\r\n",
        "def activation(x):\r\n",
        "    return 1 / (1 + torch.exp(-x))\r\n",
        "\r\n",
        "# Flatten the images\r\n",
        "inputs = images.view(images.shape[0], -1)\r\n",
        "\r\n",
        "# Define weights and biases\r\n",
        "# layer 1: 786 inputs to 256 neurons\r\n",
        "W1 = torch.randn(len(inputs[0]), 256)\r\n",
        "b1 = torch.randn(256)\r\n",
        "\r\n",
        "# layer 2: 256 neurons to output of 10 softmax wrapped neurons\r\n",
        "W2 = torch.randn(256, 10)\r\n",
        "b2 = torch.randn(10)\r\n",
        "\r\n",
        "# first layer out:\r\n",
        "h = activation(torch.mm(inputs, W1) + b1)\r\n",
        "# output layer out:\r\n",
        "out = torch.mm(h, W2) + b2\r\n",
        "\r\n",
        "# This needs to be wrapped with softmax activation\r\n",
        "def softmax(x):\r\n",
        "    return torch.exp(x) / torch.sum(torch.exp(x), dim=1).view(-1, 1)\r\n",
        "\r\n",
        "probabilities = softmax(out)\r\n",
        "probabilities.shape # should be 10 probabilities each for 64 of the inputs in the batch\r\n"
      ],
      "execution_count": null,
      "outputs": [
        {
          "output_type": "execute_result",
          "data": {
            "text/plain": [
              "torch.Size([64, 10])"
            ]
          },
          "metadata": {
            "tags": []
          },
          "execution_count": 55
        }
      ]
    },
    {
      "cell_type": "markdown",
      "metadata": {
        "id": "f9o2mXFRjvKX"
      },
      "source": [
        "## Building Networks with Pytorch"
      ]
    },
    {
      "cell_type": "code",
      "metadata": {
        "colab": {
          "base_uri": "https://localhost:8080/"
        },
        "id": "t5Vx3CsmD3wc",
        "outputId": "a011aeed-b375-474e-f38c-53ac7bd7a644"
      },
      "source": [
        "from torch import nn\r\n",
        "\r\n",
        "class Network(nn.Module):\r\n",
        "    def __init__(self):\r\n",
        "        super().__init__()\r\n",
        "\r\n",
        "        # inputs(784) to hidden (256 neurons)\r\n",
        "        self.hidden = nn.Linear(in_features=784, out_features=256, bias=True)\r\n",
        "        # output (previous 256) to output neurons (10)\r\n",
        "        self.output = nn.Linear(in_features=256, out_features=10, bias=True)\r\n",
        "\r\n",
        "        # Define Activations\r\n",
        "        self.sigmoid = nn.Sigmoid()\r\n",
        "        self.softmax = nn.Softmax(dim=1)\r\n",
        "\r\n",
        "    def forward(self, x):\r\n",
        "        # Pass x through each layer and activations\r\n",
        "        # return self.softmax(self.output(self.sigmoid(self.hidden(x))))\r\n",
        "        x = self.hidden(x)\r\n",
        "        x = self.sigmoid(x)\r\n",
        "        x = self.output(x)\r\n",
        "        x = self.softmax(x)\r\n",
        "        return x\r\n",
        "\r\n",
        "model = Network()\r\n",
        "model"
      ],
      "execution_count": null,
      "outputs": [
        {
          "output_type": "execute_result",
          "data": {
            "text/plain": [
              "Network(\n",
              "  (hidden): Linear(in_features=784, out_features=256, bias=True)\n",
              "  (output): Linear(in_features=256, out_features=10, bias=True)\n",
              "  (sigmoid): Sigmoid()\n",
              "  (softmax): Softmax(dim=1)\n",
              ")"
            ]
          },
          "metadata": {
            "tags": []
          },
          "execution_count": 59
        }
      ]
    },
    {
      "cell_type": "markdown",
      "metadata": {
        "id": "FHc6i0MMF_Hw"
      },
      "source": [
        "Smarter, more concise way to do this"
      ]
    },
    {
      "cell_type": "code",
      "metadata": {
        "colab": {
          "base_uri": "https://localhost:8080/"
        },
        "id": "lUa5q8TBGB2M",
        "outputId": "7811f4d8-3d75-4c0d-94e9-b3240947a97d"
      },
      "source": [
        "import torch\r\n",
        "import torch.nn.functional as F\r\n",
        "\r\n",
        "class Network(nn.Module):\r\n",
        "    def __init__(self):\r\n",
        "        super().__init__()\r\n",
        "        # Define layers\r\n",
        "        self.hidden = nn.Linear(in_features=784, out_features=256, bias=True)\r\n",
        "        self.output = nn.Linear(in_features=256, out_features=10, bias=True)\r\n",
        "\r\n",
        "    def forward(self, x):\r\n",
        "        # Hidden with sigmoid\r\n",
        "        x = F.sigmoid(self.hidden(x))\r\n",
        "        # Output with softmax\r\n",
        "        x = F.softmax(self.output(x), dim=1)\r\n",
        "        return x\r\n",
        "\r\n",
        "model = Network(); model"
      ],
      "execution_count": null,
      "outputs": [
        {
          "output_type": "execute_result",
          "data": {
            "text/plain": [
              "Network(\n",
              "  (hidden): Linear(in_features=784, out_features=256, bias=True)\n",
              "  (output): Linear(in_features=256, out_features=10, bias=True)\n",
              ")"
            ]
          },
          "metadata": {
            "tags": []
          },
          "execution_count": 60
        }
      ]
    },
    {
      "cell_type": "code",
      "metadata": {
        "colab": {
          "base_uri": "https://localhost:8080/"
        },
        "id": "sNgP-hiEHNwa",
        "outputId": "5eec75b9-f6da-4ae5-9fe2-561759add0bb"
      },
      "source": [
        "import torch\r\n",
        "import torch.nn.functional as F\r\n",
        "\r\n",
        "class Network(nn.Module):\r\n",
        "    def __init__(self):\r\n",
        "        super().__init__()\r\n",
        "        # Define layers: (in:784) > 128 > 64> (out:10)\r\n",
        "        self.hidden1 = nn.Linear(in_features=784, out_features=128, bias=True)\r\n",
        "        self.hidden2 = nn.Linear(in_features=128, out_features=64, bias=True)\r\n",
        "        self.output = nn.Linear(in_features=64, out_features=10, bias=True)\r\n",
        "\r\n",
        "    def forward(self, x):\r\n",
        "        x = self.hidden1(x)\r\n",
        "        x = F.relu(x)\r\n",
        "        x = self.hidden2(x)\r\n",
        "        x = F.relu(x)\r\n",
        "        x = self.output(x)\r\n",
        "        x = F.softmax(x, dim=1)\r\n",
        "        return x\r\n",
        "\r\n",
        "model = Network(); model"
      ],
      "execution_count": null,
      "outputs": [
        {
          "output_type": "execute_result",
          "data": {
            "text/plain": [
              "Network(\n",
              "  (hidden1): Linear(in_features=784, out_features=128, bias=True)\n",
              "  (hidden2): Linear(in_features=128, out_features=64, bias=True)\n",
              "  (output): Linear(in_features=64, out_features=10, bias=True)\n",
              ")"
            ]
          },
          "metadata": {
            "tags": []
          },
          "execution_count": 62
        }
      ]
    },
    {
      "cell_type": "code",
      "metadata": {
        "colab": {
          "base_uri": "https://localhost:8080/"
        },
        "id": "39IaiqvJI06G",
        "outputId": "dd6564e9-75fc-496b-eca8-7e06a7d45197"
      },
      "source": [
        "print(model.hidden1.weight) # Of type parameter, by default requires_grad=True"
      ],
      "execution_count": null,
      "outputs": [
        {
          "output_type": "stream",
          "text": [
            "Parameter containing:\n",
            "tensor([[-0.0065, -0.0083,  0.0281,  ...,  0.0252,  0.0302, -0.0324],\n",
            "        [-0.0126, -0.0260, -0.0111,  ...,  0.0274, -0.0210,  0.0159],\n",
            "        [ 0.0229,  0.0182,  0.0091,  ...,  0.0057, -0.0357, -0.0224],\n",
            "        ...,\n",
            "        [ 0.0126, -0.0056,  0.0148,  ..., -0.0135,  0.0205,  0.0038],\n",
            "        [-0.0122, -0.0198,  0.0221,  ...,  0.0314,  0.0005,  0.0333],\n",
            "        [ 0.0017, -0.0181, -0.0135,  ...,  0.0043, -0.0235,  0.0107]],\n",
            "       requires_grad=True)\n"
          ],
          "name": "stdout"
        }
      ]
    },
    {
      "cell_type": "code",
      "metadata": {
        "colab": {
          "base_uri": "https://localhost:8080/"
        },
        "id": "R5euzzF_JFRc",
        "outputId": "5a5c03f9-1869-4b35-9080-2827ed20f013"
      },
      "source": [
        "model.hidden1.bias"
      ],
      "execution_count": null,
      "outputs": [
        {
          "output_type": "execute_result",
          "data": {
            "text/plain": [
              "Parameter containing:\n",
              "tensor([-0.0252, -0.0226,  0.0179,  0.0189,  0.0160,  0.0292, -0.0280, -0.0141,\n",
              "         0.0085, -0.0290,  0.0307,  0.0180, -0.0319, -0.0214,  0.0307, -0.0287,\n",
              "         0.0031, -0.0281,  0.0166, -0.0276, -0.0076, -0.0277, -0.0002, -0.0235,\n",
              "         0.0099,  0.0351, -0.0068,  0.0094,  0.0296, -0.0349,  0.0059, -0.0102,\n",
              "        -0.0098, -0.0061,  0.0075, -0.0347, -0.0151, -0.0332,  0.0045, -0.0015,\n",
              "        -0.0229,  0.0077,  0.0267, -0.0219, -0.0265, -0.0265,  0.0087, -0.0177,\n",
              "         0.0180, -0.0039,  0.0198,  0.0335, -0.0209,  0.0234,  0.0209, -0.0246,\n",
              "         0.0196, -0.0348, -0.0169, -0.0175,  0.0225,  0.0075,  0.0051,  0.0096,\n",
              "         0.0087,  0.0062, -0.0303, -0.0211,  0.0340,  0.0353,  0.0108,  0.0258,\n",
              "         0.0233,  0.0009,  0.0298,  0.0163, -0.0014,  0.0141,  0.0313, -0.0063,\n",
              "         0.0227,  0.0339, -0.0019, -0.0176,  0.0330, -0.0147, -0.0282, -0.0324,\n",
              "         0.0074, -0.0022,  0.0249,  0.0259,  0.0109,  0.0193,  0.0255,  0.0228,\n",
              "        -0.0021,  0.0232, -0.0014,  0.0065, -0.0118, -0.0158,  0.0033, -0.0035,\n",
              "         0.0356, -0.0006, -0.0149, -0.0234, -0.0182, -0.0143, -0.0310,  0.0213,\n",
              "         0.0107,  0.0315,  0.0164,  0.0099, -0.0354, -0.0229, -0.0079,  0.0058,\n",
              "        -0.0044, -0.0260, -0.0039, -0.0204, -0.0106,  0.0312, -0.0316, -0.0254],\n",
              "       requires_grad=True)"
            ]
          },
          "metadata": {
            "tags": []
          },
          "execution_count": 69
        }
      ]
    },
    {
      "cell_type": "code",
      "metadata": {
        "id": "4DA7LgsLJayO"
      },
      "source": [
        "# Weights Initialization\r\n",
        "# Initialize all weights to Random Normal with standard deviation = 0.01\r\n",
        "model.hidden1.weight.data.normal_(std=0.01)\r\n",
        "model.hidden2.weight.data.normal_(std=0.01)\r\n",
        "model.output.weight.data.normal_(std=0.01)\r\n",
        "# Initialize bias to zero\r\n",
        "model.hidden1.bias.data.fill_(0)\r\n",
        "model.hidden2.bias.data.fill_(0)\r\n",
        "model.output.bias.data.fill_(0);"
      ],
      "execution_count": null,
      "outputs": []
    },
    {
      "cell_type": "code",
      "metadata": {
        "id": "GdShzsSfK7Qv"
      },
      "source": [
        "### CAUTION CYCLIC ###\r\n",
        "# Make a data iterator\r\n",
        "dataiter = iter(trainloader)\r\n",
        "images, labels = dataiter.next()"
      ],
      "execution_count": null,
      "outputs": []
    },
    {
      "cell_type": "code",
      "metadata": {
        "colab": {
          "base_uri": "https://localhost:8080/"
        },
        "id": "vK_outF5L9H4",
        "outputId": "9e43b624-08b7-495a-acd5-9e522f6360c7"
      },
      "source": [
        "images.shape # 64 images of 1 channel, 28x28 pixels"
      ],
      "execution_count": null,
      "outputs": [
        {
          "output_type": "execute_result",
          "data": {
            "text/plain": [
              "torch.Size([64, 1, 28, 28])"
            ]
          },
          "metadata": {
            "tags": []
          },
          "execution_count": 76
        }
      ]
    },
    {
      "cell_type": "code",
      "metadata": {
        "colab": {
          "base_uri": "https://localhost:8080/",
          "height": 282
        },
        "id": "w8g_Hz9pMDt6",
        "outputId": "cab15d51-2b5c-4c4f-edf2-79a4ff4f3f10"
      },
      "source": [
        "plt.imshow(images[0][0], cmap='Greys_r')"
      ],
      "execution_count": null,
      "outputs": [
        {
          "output_type": "execute_result",
          "data": {
            "text/plain": [
              "<matplotlib.image.AxesImage at 0x7f568e55ad68>"
            ]
          },
          "metadata": {
            "tags": []
          },
          "execution_count": 82
        },
        {
          "output_type": "display_data",
          "data": {
            "image/png": "[encoded data removed]",
            "text/plain": [
              "<Figure size 432x288 with 1 Axes>"
            ]
          },
          "metadata": {
            "tags": [],
            "needs_background": "light"
          }
        }
      ]
    },
    {
      "cell_type": "code",
      "metadata": {
        "colab": {
          "base_uri": "https://localhost:8080/"
        },
        "id": "X8ea8hz7MlXt",
        "outputId": "cfed03b8-ba30-4b2f-af65-5d28b07fc22c"
      },
      "source": [
        "images.resize_(images.shape[0], 1, 28*28)"
      ],
      "execution_count": null,
      "outputs": [
        {
          "output_type": "execute_result",
          "data": {
            "text/plain": [
              "tensor([[[-1., -1., -1.,  ..., -1., -1., -1.]],\n",
              "\n",
              "        [[-1., -1., -1.,  ..., -1., -1., -1.]],\n",
              "\n",
              "        [[-1., -1., -1.,  ..., -1., -1., -1.]],\n",
              "\n",
              "        ...,\n",
              "\n",
              "        [[-1., -1., -1.,  ..., -1., -1., -1.]],\n",
              "\n",
              "        [[-1., -1., -1.,  ..., -1., -1., -1.]],\n",
              "\n",
              "        [[-1., -1., -1.,  ..., -1., -1., -1.]]])"
            ]
          },
          "metadata": {
            "tags": []
          },
          "execution_count": 87
        }
      ]
    },
    {
      "cell_type": "code",
      "metadata": {
        "colab": {
          "base_uri": "https://localhost:8080/"
        },
        "id": "LBNN6EP3S6ya",
        "outputId": "7fb9a2bb-5246-4a36-c95d-0441e9e6363f"
      },
      "source": [
        "images.shape # Note that resize_() is in-place"
      ],
      "execution_count": null,
      "outputs": [
        {
          "output_type": "execute_result",
          "data": {
            "text/plain": [
              "torch.Size([64, 1, 784])"
            ]
          },
          "metadata": {
            "tags": []
          },
          "execution_count": 88
        }
      ]
    },
    {
      "cell_type": "code",
      "metadata": {
        "colab": {
          "base_uri": "https://localhost:8080/",
          "height": 253
        },
        "id": "rvWDxppzTAVP",
        "outputId": "0c5cf40f-8c03-453f-8f19-18fa25c2ded8"
      },
      "source": [
        "# Credits to this function\r\n",
        "# https://github.com/udacity/deep-learning-v2-pytorch/blob/master/intro-to-pytorch/helper.py\r\n",
        "def view_classify(img, ps, version=\"MNIST\"):\r\n",
        "    ''' Function for viewing an image and it's predicted classes.\r\n",
        "    '''\r\n",
        "    ps = ps.data.numpy().squeeze()\r\n",
        "\r\n",
        "    fig, (ax1, ax2) = plt.subplots(figsize=(6,9), ncols=2)\r\n",
        "    ax1.imshow(img.resize_(1, 28, 28).numpy().squeeze())\r\n",
        "    ax1.axis('off')\r\n",
        "    ax2.barh(np.arange(10), ps)\r\n",
        "    ax2.set_aspect(0.1)\r\n",
        "    ax2.set_yticks(np.arange(10))\r\n",
        "    if version == \"MNIST\":\r\n",
        "        ax2.set_yticklabels(np.arange(10))\r\n",
        "    elif version == \"Fashion\":\r\n",
        "        ax2.set_yticklabels(['T-shirt/top',\r\n",
        "                            'Trouser',\r\n",
        "                            'Pullover',\r\n",
        "                            'Dress',\r\n",
        "                            'Coat',\r\n",
        "                            'Sandal',\r\n",
        "                            'Shirt',\r\n",
        "                            'Sneaker',\r\n",
        "                            'Bag',\r\n",
        "                            'Ankle Boot'], size='small');\r\n",
        "    ax2.set_title('Class Probability')\r\n",
        "    ax2.set_xlim(0, 1.1)\r\n",
        "\r\n",
        "    plt.tight_layout()\r\n",
        "\r\n",
        "\r\n",
        "img_idx = 0\r\n",
        "probabilities = model.forward(images[img_idx, :]) #0th row, all 784 columns\r\n",
        "img = images[img_idx]\r\n",
        "view_classify(img.view(1, 28, 28), probabilities)"
      ],
      "execution_count": null,
      "outputs": [
        {
          "output_type": "display_data",
          "data": {
            "image/png": "[encoded data removed]",
            "text/plain": [
              "<Figure size 432x648 with 2 Axes>"
            ]
          },
          "metadata": {
            "tags": [],
            "needs_background": "light"
          }
        }
      ]
    },
    {
      "cell_type": "markdown",
      "metadata": {
        "id": "k5XBedGdTVN8"
      },
      "source": [
        "It is showing equal(ish) probabilities because all weights are initialized randomly"
      ]
    },
    {
      "cell_type": "markdown",
      "metadata": {
        "id": "d-jHe-LjV5xA"
      },
      "source": [
        "# Using nn.Sequential()"
      ]
    },
    {
      "cell_type": "code",
      "metadata": {
        "colab": {
          "base_uri": "https://localhost:8080/"
        },
        "id": "2CpbIE-EV9h_",
        "outputId": "08224a0e-2625-4d5e-9860-e205f29e9978"
      },
      "source": [
        "# Defining HyperPs\r\n",
        "\r\n",
        "input_size = 784\r\n",
        "hidden_size = [128, 64]\r\n",
        "output_size = 10\r\n",
        "\r\n",
        "# Using nn.Sequential abstraction\r\n",
        "model = nn.Sequential(\r\n",
        "    nn.Linear(in_features=input_size, out_features=hidden_size[0], bias=True),\r\n",
        "    nn.ReLU(),\r\n",
        "    nn.Linear(in_features=hidden_size[0], out_features=hidden_size[1], bias=True),\r\n",
        "    nn.ReLU(),\r\n",
        "    nn.Linear(in_features=hidden_size[1], out_features=output_size, bias=True),\r\n",
        "    nn.Softmax(dim=1)\r\n",
        ")\r\n",
        "\r\n",
        "print(model)"
      ],
      "execution_count": null,
      "outputs": [
        {
          "output_type": "stream",
          "text": [
            "Sequential(\n",
            "  (0): Linear(in_features=784, out_features=128, bias=True)\n",
            "  (1): ReLU()\n",
            "  (2): Linear(in_features=128, out_features=64, bias=True)\n",
            "  (3): ReLU()\n",
            "  (4): Linear(in_features=64, out_features=10, bias=True)\n",
            "  (5): Softmax(dim=1)\n",
            ")\n"
          ],
          "name": "stdout"
        }
      ]
    },
    {
      "cell_type": "code",
      "metadata": {
        "colab": {
          "base_uri": "https://localhost:8080/",
          "height": 253
        },
        "id": "gbjj4J-Dd6wy",
        "outputId": "e51174b1-67ac-4243-baa2-db85a9101b6f"
      },
      "source": [
        "images, labels = next(iter(trainloader))\r\n",
        "images.resize_(images.shape[0], 1, 28*28)\r\n",
        "probs = model.forward(images[0, :])\r\n",
        "view_classify(images[0].view(1, 28, 28), probs)"
      ],
      "execution_count": null,
      "outputs": [
        {
          "output_type": "display_data",
          "data": {
            "image/png": "[encoded data removed]",
            "text/plain": [
              "<Figure size 432x648 with 2 Axes>"
            ]
          },
          "metadata": {
            "tags": [],
            "needs_background": "light"
          }
        }
      ]
    },
    {
      "cell_type": "code",
      "metadata": {
        "colab": {
          "base_uri": "https://localhost:8080/"
        },
        "id": "CsIExa63e0FI",
        "outputId": "a8bfd608-ba4d-4ce6-e721-6162827b401f"
      },
      "source": [
        "model[0]"
      ],
      "execution_count": null,
      "outputs": [
        {
          "output_type": "execute_result",
          "data": {
            "text/plain": [
              "Linear(in_features=784, out_features=128, bias=True)"
            ]
          },
          "metadata": {
            "tags": []
          },
          "execution_count": 101
        }
      ]
    },
    {
      "cell_type": "code",
      "metadata": {
        "colab": {
          "base_uri": "https://localhost:8080/"
        },
        "id": "Qkg7Hekue6MS",
        "outputId": "e84d49e7-67cd-439b-d8c9-211561629b76"
      },
      "source": [
        "model[0].weight"
      ],
      "execution_count": null,
      "outputs": [
        {
          "output_type": "execute_result",
          "data": {
            "text/plain": [
              "Parameter containing:\n",
              "tensor([[ 0.0100,  0.0212,  0.0353,  ..., -0.0315,  0.0009, -0.0136],\n",
              "        [-0.0005,  0.0070, -0.0336,  ..., -0.0158,  0.0146, -0.0031],\n",
              "        [ 0.0297,  0.0093, -0.0009,  ..., -0.0286,  0.0047, -0.0011],\n",
              "        ...,\n",
              "        [-0.0302, -0.0125,  0.0189,  ...,  0.0140, -0.0169, -0.0124],\n",
              "        [ 0.0266,  0.0293, -0.0338,  ...,  0.0157, -0.0105,  0.0284],\n",
              "        [ 0.0048,  0.0322,  0.0003,  ...,  0.0189, -0.0272, -0.0106]],\n",
              "       requires_grad=True)"
            ]
          },
          "metadata": {
            "tags": []
          },
          "execution_count": 102
        }
      ]
    },
    {
      "cell_type": "code",
      "metadata": {
        "colab": {
          "base_uri": "https://localhost:8080/"
        },
        "id": "7TaHUAkfe7sd",
        "outputId": "5970a360-f6ea-469d-9c9e-540f5de4f03f"
      },
      "source": [
        "model[0].bias"
      ],
      "execution_count": null,
      "outputs": [
        {
          "output_type": "execute_result",
          "data": {
            "text/plain": [
              "Parameter containing:\n",
              "tensor([-0.0055, -0.0222,  0.0088,  0.0090,  0.0324,  0.0200, -0.0074,  0.0209,\n",
              "         0.0172,  0.0221, -0.0131,  0.0095,  0.0230,  0.0110,  0.0334, -0.0311,\n",
              "        -0.0045, -0.0212, -0.0269,  0.0106, -0.0006, -0.0149, -0.0241,  0.0198,\n",
              "        -0.0224, -0.0349,  0.0262, -0.0091, -0.0287, -0.0267, -0.0344,  0.0356,\n",
              "        -0.0075, -0.0336, -0.0203, -0.0158, -0.0033,  0.0095,  0.0034,  0.0074,\n",
              "        -0.0185, -0.0343, -0.0132, -0.0069, -0.0061, -0.0043,  0.0180, -0.0083,\n",
              "        -0.0253, -0.0217, -0.0227, -0.0242,  0.0357, -0.0046, -0.0089,  0.0218,\n",
              "        -0.0260, -0.0254, -0.0221, -0.0176, -0.0088,  0.0343,  0.0081,  0.0058,\n",
              "        -0.0182, -0.0256, -0.0081,  0.0218,  0.0138, -0.0086,  0.0238,  0.0122,\n",
              "        -0.0009,  0.0250, -0.0105, -0.0321,  0.0088,  0.0245, -0.0317,  0.0261,\n",
              "        -0.0257, -0.0299,  0.0013, -0.0280,  0.0286,  0.0157, -0.0068,  0.0315,\n",
              "         0.0162, -0.0092,  0.0127,  0.0029, -0.0293,  0.0077,  0.0344, -0.0050,\n",
              "        -0.0137,  0.0280,  0.0097, -0.0264, -0.0105, -0.0062,  0.0003, -0.0078,\n",
              "        -0.0096,  0.0306,  0.0118,  0.0112, -0.0168, -0.0250,  0.0029,  0.0022,\n",
              "        -0.0351,  0.0113, -0.0249, -0.0159, -0.0233,  0.0339,  0.0159,  0.0215,\n",
              "         0.0088, -0.0349,  0.0065,  0.0305, -0.0338,  0.0242, -0.0089,  0.0031],\n",
              "       requires_grad=True)"
            ]
          },
          "metadata": {
            "tags": []
          },
          "execution_count": 103
        }
      ]
    },
    {
      "cell_type": "markdown",
      "metadata": {
        "id": "AkbEjXxze991"
      },
      "source": [
        "## Defining Network using Ordered Dict"
      ]
    },
    {
      "cell_type": "code",
      "metadata": {
        "colab": {
          "base_uri": "https://localhost:8080/"
        },
        "id": "lPtC2BMipGiF",
        "outputId": "eb8a3aaf-c826-4532-dbf4-dc908ced282c"
      },
      "source": [
        "from collections import OrderedDict\r\n",
        "model = nn.Sequential(OrderedDict([\r\n",
        "                                   ('hidden1', nn.Linear(input_size, hidden_size[0])),\r\n",
        "                                   ('relu1', nn.ReLU()),\r\n",
        "                                   ('hidden2', nn.Linear(hidden_size[0], hidden_size[1])),\r\n",
        "                                   ('relu2', nn.ReLU()),\r\n",
        "                                   ('output', nn.Linear(hidden_size[1], output_size)),\r\n",
        "                                   ('softmax', nn.Softmax(dim=1))\r\n",
        "]))\r\n",
        "model"
      ],
      "execution_count": null,
      "outputs": [
        {
          "output_type": "execute_result",
          "data": {
            "text/plain": [
              "Sequential(\n",
              "  (hidden1): Linear(in_features=784, out_features=128, bias=True)\n",
              "  (relu1): ReLU()\n",
              "  (hidden2): Linear(in_features=128, out_features=64, bias=True)\n",
              "  (relu2): ReLU()\n",
              "  (output): Linear(in_features=64, out_features=10, bias=True)\n",
              "  (softmax): Softmax(dim=1)\n",
              ")"
            ]
          },
          "metadata": {
            "tags": []
          },
          "execution_count": 105
        }
      ]
    },
    {
      "cell_type": "markdown",
      "metadata": {
        "id": "DNFhgZoQp2fo"
      },
      "source": [
        "# Training a Network"
      ]
    },
    {
      "cell_type": "code",
      "metadata": {
        "id": "aDXZCoW9p5As"
      },
      "source": [
        ""
      ],
      "execution_count": null,
      "outputs": []
    }
  ]
}
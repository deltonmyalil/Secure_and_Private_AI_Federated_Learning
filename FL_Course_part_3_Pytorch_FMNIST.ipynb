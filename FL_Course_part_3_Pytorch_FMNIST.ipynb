{
  "nbformat": 4,
  "nbformat_minor": 0,
  "metadata": {
    "colab": {
      "name": "FL_Course_part_3_Pytorch_FMNIST.ipynb",
      "provenance": [],
      "authorship_tag": "ABX9TyPsr7AMOOrV7ywYKLph+KiR"
    },
    "kernelspec": {
      "name": "python3",
      "display_name": "Python 3"
    }
  },
  "cells": [
    {
      "cell_type": "code",
      "metadata": {
        "colab": {
          "base_uri": "https://localhost:8080/",
          "height": 265
        },
        "id": "zTt4zIC11EeP",
        "outputId": "15af1a26-8bf9-416c-f1b5-39cff70b674e"
      },
      "source": [
        "import torch\r\n",
        "import torch.nn as nn\r\n",
        "import torch.nn.functional as F\r\n",
        "from torchvision import datasets, transforms\r\n",
        "\r\n",
        "import numpy as np\r\n",
        "import pandas as pd\r\n",
        "import matplotlib.pyplot as plt\r\n",
        "\r\n",
        "transform = transforms.Compose([\r\n",
        "                                transforms.ToTensor(),\r\n",
        "                                transforms.Normalize(mean=(.5), std=(.5), inplace=False)\r\n",
        "])\r\n",
        "\r\n",
        "# Trainset\r\n",
        "trainset = datasets.FashionMNIST('~/.pytorch/F_MNIST_data/', download=True, train=True, transform=transform)\r\n",
        "trainloader = torch.utils.data.DataLoader(trainset, batch_size=64, shuffle=True)\r\n",
        "\r\n",
        "# Testset\r\n",
        "testset = datasets.FashionMNIST('~/.pytorch/F_MNIST_data/', download=True, train=False, transform=transform)\r\n",
        "testloader = torch.utils.data.DataLoader(testset, batch_size=64, shuffle=True)\r\n",
        "\r\n",
        "# Helper function to view image\r\n",
        "# https://classroom.udacity.com/courses/ud185\r\n",
        "def imshow(image, ax=None, title=None, normalize=True):\r\n",
        "    \"\"\"Imshow for Tensor.\"\"\"\r\n",
        "    if ax is None:\r\n",
        "        fig, ax = plt.subplots()\r\n",
        "    image = image.numpy().transpose((1, 2, 0))\r\n",
        "\r\n",
        "    if normalize:\r\n",
        "        mean = np.array([0.485, 0.456, 0.406])\r\n",
        "        std = np.array([0.229, 0.224, 0.225])\r\n",
        "        image = std * image + mean\r\n",
        "        image = np.clip(image, 0, 1)\r\n",
        "\r\n",
        "    ax.imshow(image)\r\n",
        "    ax.spines['top'].set_visible(False)\r\n",
        "    ax.spines['right'].set_visible(False)\r\n",
        "    ax.spines['left'].set_visible(False)\r\n",
        "    ax.spines['bottom'].set_visible(False)\r\n",
        "    ax.tick_params(axis='both', length=0)\r\n",
        "    ax.set_xticklabels('')\r\n",
        "    ax.set_yticklabels('')\r\n",
        "\r\n",
        "    return ax\r\n",
        "\r\n",
        "# Viewing one image\r\n",
        "image, label = next(iter(trainloader))\r\n",
        "imshow(image[0, :])"
      ],
      "execution_count": null,
      "outputs": [
        {
          "output_type": "execute_result",
          "data": {
            "text/plain": [
              "<matplotlib.axes._subplots.AxesSubplot at 0x7f7ae0766e10>"
            ]
          },
          "metadata": {
            "tags": []
          },
          "execution_count": 4
        },
        {
          "output_type": "display_data",
          "data": {
            "image/png": "[encoded data removed]",
            "text/plain": [
              "<Figure size 432x288 with 1 Axes>"
            ]
          },
          "metadata": {
            "tags": [],
            "needs_background": "light"
          }
        }
      ]
    },
    {
      "cell_type": "code",
      "metadata": {
        "colab": {
          "base_uri": "https://localhost:8080/"
        },
        "id": "Z5-SVYRvMEI6",
        "outputId": "e074ee1c-d66b-46a7-b41f-739f07267a24"
      },
      "source": [
        "# Model Arch\r\n",
        "class Classifier(nn.Module):\r\n",
        "    def __init__(self):\r\n",
        "        super().__init__()\r\n",
        "        self.fc1 = nn.Linear(784, 256)\r\n",
        "        self.fc2 = nn.Linear(256, 128)\r\n",
        "        self.fc3 = nn.Linear(128, 64)\r\n",
        "        self.fc4 = nn.Linear(64, 10)\r\n",
        "\r\n",
        "    def forward(self, x):\r\n",
        "        # Flatten input\r\n",
        "        x = x.view(x.shape[0], -1)\r\n",
        "        x = F.relu(self.fc1(x))\r\n",
        "        x = F.relu(self.fc2(x))\r\n",
        "        x = F.relu(self.fc3(x))\r\n",
        "        x = F.log_softmax(self.fc4(x), dim=1)\r\n",
        "\r\n",
        "        return x\r\n",
        "\r\n",
        "model = Classifier()\r\n",
        "criterion = nn.NLLLoss()\r\n",
        "optimizer = torch.optim.Adam(model.parameters(), lr=0.001)\r\n",
        "epochs = 5\r\n",
        "\r\n",
        "for epoch in range(epochs):\r\n",
        "    running_loss = 0\r\n",
        "    for images, labels in trainloader:\r\n",
        "        log_ps = model(images)\r\n",
        "        loss = criterion(log_ps, labels)\r\n",
        "        optimizer.zero_grad()\r\n",
        "        loss.backward()\r\n",
        "        optimizer.step()\r\n",
        "        running_loss += loss.item()\r\n",
        "    else:\r\n",
        "        # An else at the end of a for will do the else block if the for completed without 'break'\r\n",
        "        print(f'Training loss: {running_loss}')"
      ],
      "execution_count": null,
      "outputs": [
        {
          "output_type": "stream",
          "text": [
            "Training loss: 484.6697008013725\n",
            "Training loss: 355.7139103114605\n",
            "Training loss: 316.3177978619933\n",
            "Training loss: 294.3430084362626\n",
            "Training loss: 275.62867756932974\n"
          ],
          "name": "stdout"
        }
      ]
    },
    {
      "cell_type": "code",
      "metadata": {
        "colab": {
          "base_uri": "https://localhost:8080/",
          "height": 234
        },
        "id": "sKYlzeqXQXKx",
        "outputId": "4aa1cfa1-8985-403f-ce47-a67b3387abb6"
      },
      "source": [
        "# https://github.com/udacity/deep-learning-v2-pytorch/blob/master/intro-to-pytorch/helper.py\r\n",
        "def view_classify(img, ps, version=\"MNIST\"):\r\n",
        "    ''' Function for viewing an image and it's predicted classes.\r\n",
        "    '''\r\n",
        "    ps = ps.data.numpy().squeeze()\r\n",
        "\r\n",
        "    fig, (ax1, ax2) = plt.subplots(figsize=(6,9), ncols=2)\r\n",
        "    ax1.imshow(img.resize_(1, 28, 28).numpy().squeeze())\r\n",
        "    ax1.axis('off')\r\n",
        "    ax2.barh(np.arange(10), ps)\r\n",
        "    ax2.set_aspect(0.1)\r\n",
        "    ax2.set_yticks(np.arange(10))\r\n",
        "    if version == \"MNIST\":\r\n",
        "        ax2.set_yticklabels(np.arange(10))\r\n",
        "    elif version == \"Fashion\":\r\n",
        "        ax2.set_yticklabels(['T-shirt/top',\r\n",
        "                            'Trouser',\r\n",
        "                            'Pullover',\r\n",
        "                            'Dress',\r\n",
        "                            'Coat',\r\n",
        "                            'Sandal',\r\n",
        "                            'Shirt',\r\n",
        "                            'Sneaker',\r\n",
        "                            'Bag',\r\n",
        "                            'Ankle Boot'], size='small');\r\n",
        "    ax2.set_title('Class Probability')\r\n",
        "    ax2.set_xlim(0, 1.1)\r\n",
        "\r\n",
        "    plt.tight_layout()\r\n",
        "\r\n",
        "dataiter = iter(testloader)\r\n",
        "images, labels = dataiter.next()\r\n",
        "img = images[0]\r\n",
        "\r\n",
        "ps = torch.exp(model(img))\r\n",
        "\r\n",
        "view_classify(img, ps, version='Fashion')"
      ],
      "execution_count": null,
      "outputs": [
        {
          "output_type": "display_data",
          "data": {
            "image/png": "[encoded data removed]",
            "text/plain": [
              "<Figure size 432x648 with 2 Axes>"
            ]
          },
          "metadata": {
            "tags": [],
            "needs_background": "light"
          }
        }
      ]
    },
    {
      "cell_type": "code",
      "metadata": {
        "id": "5ec2-Bs5Q4EK"
      },
      "source": [
        "# That's a ..."
      ],
      "execution_count": null,
      "outputs": []
    }
  ]
}
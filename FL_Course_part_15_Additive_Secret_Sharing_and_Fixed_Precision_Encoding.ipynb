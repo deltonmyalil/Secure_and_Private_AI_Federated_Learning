{
  "nbformat": 4,
  "nbformat_minor": 0,
  "metadata": {
    "colab": {
      "name": "FL_Course_part_15_Additive_Secret_Sharing_and_Fixed_Precision_Encoding.ipynb",
      "provenance": [],
      "authorship_tag": "ABX9TyNWhP8GD2BUNHP+oNVR4I7M"
    },
    "kernelspec": {
      "name": "python3",
      "display_name": "Python 3"
    }
  },
  "cells": [
    {
      "cell_type": "markdown",
      "metadata": {
        "id": "rwbeAK1NaA4g"
      },
      "source": [
        "## Additive Secret Sharing\r\n",
        "\r\n",
        "Allows multiple individuals to add numbers together without any person learning anyone else's inputs to the addition."
      ]
    },
    {
      "cell_type": "code",
      "metadata": {
        "colab": {
          "base_uri": "https://localhost:8080/"
        },
        "id": "2BXcUefwTIaD",
        "outputId": "cdc17f4b-4137-4065-9aa8-e196f5cacebb"
      },
      "source": [
        "import random\r\n",
        "\r\n",
        "x = 5 # number to split\r\n",
        "\r\n",
        "Q = 9872652987365 # Really large Q\r\n",
        "n_shares = 3 # split number into k shares\r\n",
        "shares = [] # To store the splits\r\n",
        "\r\n",
        "# First two shares in the list are random numbers\r\n",
        "for i in range(n_shares-1):\r\n",
        "    shares.append(random.randint(0, Q))\r\n",
        "# Third share such that it sums to x\r\n",
        "final_share = Q - sum(shares) % Q + x\r\n",
        "shares.append(final_share)\r\n",
        "\r\n",
        "sum(shares)%Q"
      ],
      "execution_count": null,
      "outputs": [
        {
          "output_type": "execute_result",
          "data": {
            "text/plain": [
              "5"
            ]
          },
          "metadata": {
            "tags": []
          },
          "execution_count": 2
        }
      ]
    },
    {
      "cell_type": "code",
      "metadata": {
        "id": "67PiXQgaS_7I"
      },
      "source": [
        "# Throwing it to a function\r\n",
        "def encrypt(x, n_shares=3, verbose=False):\r\n",
        "    shares = []\r\n",
        "    for i in range(n_shares-1):\r\n",
        "        shares.append(random.randint(0, Q))\r\n",
        "    final_share = Q - sum(shares)%Q + x\r\n",
        "    shares.append(final_share)\r\n",
        "    if verbose==True: print(sum(shares)%Q)\r\n",
        "    return tuple(shares)"
      ],
      "execution_count": null,
      "outputs": []
    },
    {
      "cell_type": "code",
      "metadata": {
        "colab": {
          "base_uri": "https://localhost:8080/"
        },
        "id": "4p4WXg_JW29m",
        "outputId": "9fdc71f3-e654-4ad4-d5d0-4b7464094d37"
      },
      "source": [
        "encrypt(10, n_shares=15, verbose=True)"
      ],
      "execution_count": null,
      "outputs": [
        {
          "output_type": "stream",
          "text": [
            "10\n"
          ],
          "name": "stdout"
        },
        {
          "output_type": "execute_result",
          "data": {
            "text/plain": [
              "(7997700394881,\n",
              " 3562513480914,\n",
              " 3655037836210,\n",
              " 7839785859899,\n",
              " 2424557670628,\n",
              " 6106404088390,\n",
              " 5783799953311,\n",
              " 1006785057742,\n",
              " 9223253635601,\n",
              " 6727270744571,\n",
              " 9832350217298,\n",
              " 1468717463042,\n",
              " 4165352678388,\n",
              " 5151254123512,\n",
              " 4036440694543)"
            ]
          },
          "metadata": {
            "tags": []
          },
          "execution_count": 10
        }
      ]
    },
    {
      "cell_type": "code",
      "metadata": {
        "id": "Lt6Eo_l6XJ2h"
      },
      "source": [
        "# Decryption for global Q\r\n",
        "def decrypt(shares):\r\n",
        "    return sum(shares)%Q"
      ],
      "execution_count": null,
      "outputs": []
    },
    {
      "cell_type": "code",
      "metadata": {
        "colab": {
          "base_uri": "https://localhost:8080/"
        },
        "id": "3JvfZih9Xdov",
        "outputId": "31b1edf5-f0c2-4069-e691-7c28ba33bd78"
      },
      "source": [
        "decrypt(encrypt(10))"
      ],
      "execution_count": null,
      "outputs": [
        {
          "output_type": "execute_result",
          "data": {
            "text/plain": [
              "10"
            ]
          },
          "metadata": {
            "tags": []
          },
          "execution_count": 12
        }
      ]
    },
    {
      "cell_type": "code",
      "metadata": {
        "id": "HN9-vc-dXh7s"
      },
      "source": [
        "def add(a, b):\r\n",
        "    c = []\r\n",
        "    assert len(a) == len(b)\r\n",
        "    for i in range(len(a)):\r\n",
        "        c.append((a[i] + b[i])%Q)\r\n",
        "    return tuple(c)"
      ],
      "execution_count": null,
      "outputs": []
    },
    {
      "cell_type": "code",
      "metadata": {
        "colab": {
          "base_uri": "https://localhost:8080/"
        },
        "id": "raLr_1poYCh3",
        "outputId": "d2d6140d-beca-4b99-e995-7c213c8a2090"
      },
      "source": [
        "decrypt(add(encrypt(10), encrypt(15)))"
      ],
      "execution_count": null,
      "outputs": [
        {
          "output_type": "execute_result",
          "data": {
            "text/plain": [
              "25"
            ]
          },
          "metadata": {
            "tags": []
          },
          "execution_count": 16
        }
      ]
    },
    {
      "cell_type": "code",
      "metadata": {
        "colab": {
          "base_uri": "https://localhost:8080/"
        },
        "id": "wi_yZ8vAfd5G",
        "outputId": "2f55cd2d-d361-4455-b1ee-9c7688325098"
      },
      "source": [
        "decrypt(add(encrypt(10), encrypt(-15)))"
      ],
      "execution_count": null,
      "outputs": [
        {
          "output_type": "execute_result",
          "data": {
            "text/plain": [
              "9872652987360"
            ]
          },
          "metadata": {
            "tags": []
          },
          "execution_count": 18
        }
      ]
    },
    {
      "cell_type": "markdown",
      "metadata": {
        "id": "Oii7WlV6fh15"
      },
      "source": [
        "#Yikes!"
      ]
    },
    {
      "cell_type": "markdown",
      "metadata": {
        "id": "ii_7zFJUYIwl"
      },
      "source": [
        "## Fixed Precision Encoding\r\n"
      ]
    },
    {
      "cell_type": "markdown",
      "metadata": {
        "id": "byU03i8UfZ1O"
      },
      "source": [
        "The protocol explored above only works for positive integers. But neural network weights are not integers, but floating points. FPE enables computation over decimal numbers using integers."
      ]
    },
    {
      "cell_type": "code",
      "metadata": {
        "id": "RcdWN3pbf-Z1"
      },
      "source": [
        "# Choose what precision you want to represent\r\n",
        "BASE = 10 # Base 10 encoding (decimal)\r\n",
        "PRECISION = 4 # 4 decimal places\r\n",
        "Q =14765871659873 # large Q value\r\n",
        "\r\n",
        "def encode(x_dec):\r\n",
        "    return int(x_dec * (BASE**PRECISION)) % Q"
      ],
      "execution_count": null,
      "outputs": []
    },
    {
      "cell_type": "code",
      "metadata": {
        "colab": {
          "base_uri": "https://localhost:8080/"
        },
        "id": "IAl7i_GijEG9",
        "outputId": "229ca8b1-3751-4953-dfa3-ebdb8300153d"
      },
      "source": [
        "encode(0.5)"
      ],
      "execution_count": null,
      "outputs": [
        {
          "output_type": "execute_result",
          "data": {
            "text/plain": [
              "5000"
            ]
          },
          "metadata": {
            "tags": []
          },
          "execution_count": 20
        }
      ]
    },
    {
      "cell_type": "code",
      "metadata": {
        "colab": {
          "base_uri": "https://localhost:8080/"
        },
        "id": "t2rlo3s8kIj4",
        "outputId": "86aaab3e-392f-4fa1-bc66-20f40e55d7bd"
      },
      "source": [
        "encode(-0.5) # This wraps around the other side of Q"
      ],
      "execution_count": null,
      "outputs": [
        {
          "output_type": "execute_result",
          "data": {
            "text/plain": [
              "14765871654873"
            ]
          },
          "metadata": {
            "tags": []
          },
          "execution_count": 26
        }
      ]
    },
    {
      "cell_type": "code",
      "metadata": {
        "id": "S-iAdd2rjScP"
      },
      "source": [
        "def decode(x_fxp):\r\n",
        "    return (x_fxp if x_fxp <= Q/2 else x_fxp-Q) / BASE**PRECISION"
      ],
      "execution_count": null,
      "outputs": []
    },
    {
      "cell_type": "code",
      "metadata": {
        "colab": {
          "base_uri": "https://localhost:8080/"
        },
        "id": "82tI4MdSj4kD",
        "outputId": "5be42d06-6baf-48c5-b1db-8e938b11a9d1"
      },
      "source": [
        "decode(encode(0.5))"
      ],
      "execution_count": null,
      "outputs": [
        {
          "output_type": "execute_result",
          "data": {
            "text/plain": [
              "0.5"
            ]
          },
          "metadata": {
            "tags": []
          },
          "execution_count": 22
        }
      ]
    },
    {
      "cell_type": "code",
      "metadata": {
        "colab": {
          "base_uri": "https://localhost:8080/"
        },
        "id": "oOEJKlUNj7vu",
        "outputId": "2e43eee0-776a-4c19-c3a6-b82ba8a7f9dd"
      },
      "source": [
        "decode(encode(-0.5))"
      ],
      "execution_count": null,
      "outputs": [
        {
          "output_type": "execute_result",
          "data": {
            "text/plain": [
              "-0.5"
            ]
          },
          "metadata": {
            "tags": []
          },
          "execution_count": 23
        }
      ]
    },
    {
      "cell_type": "code",
      "metadata": {
        "colab": {
          "base_uri": "https://localhost:8080/"
        },
        "id": "KTYlzs1sj-u3",
        "outputId": "557052cb-9e2a-4c45-c787-0ec0c2da3c88"
      },
      "source": [
        "decode(encode(500))"
      ],
      "execution_count": null,
      "outputs": [
        {
          "output_type": "execute_result",
          "data": {
            "text/plain": [
              "500.0"
            ]
          },
          "metadata": {
            "tags": []
          },
          "execution_count": 24
        }
      ]
    },
    {
      "cell_type": "code",
      "metadata": {
        "colab": {
          "base_uri": "https://localhost:8080/"
        },
        "id": "vXFvT9AnkA_t",
        "outputId": "5affa80e-9fde-4f70-af07-2917a3418486"
      },
      "source": [
        "decode(encode(-500))"
      ],
      "execution_count": null,
      "outputs": [
        {
          "output_type": "execute_result",
          "data": {
            "text/plain": [
              "-500.0"
            ]
          },
          "metadata": {
            "tags": []
          },
          "execution_count": 25
        }
      ]
    },
    {
      "cell_type": "markdown",
      "metadata": {
        "id": "W7VRVk5AkC-e"
      },
      "source": [
        "## Secret Sharing and Fixed Precision in PySyft"
      ]
    },
    {
      "cell_type": "code",
      "metadata": {
        "colab": {
          "base_uri": "https://localhost:8080/"
        },
        "id": "NuWDbQoekuDb",
        "outputId": "69233984-3221-4404-8ce6-ba16f4383845"
      },
      "source": [
        "!pip install syft==0.2.9 >/dev/null"
      ],
      "execution_count": null,
      "outputs": [
        {
          "output_type": "stream",
          "text": [
            "\u001b[31mERROR: tensorflow 2.4.1 has requirement numpy~=1.19.2, but you'll have numpy 1.18.5 which is incompatible.\u001b[0m\n",
            "\u001b[31mERROR: google-colab 1.0.0 has requirement notebook~=5.3.0; python_version >= \"3.0\", but you'll have notebook 5.7.8 which is incompatible.\u001b[0m\n",
            "\u001b[31mERROR: google-colab 1.0.0 has requirement requests~=2.23.0, but you'll have requests 2.22.0 which is incompatible.\u001b[0m\n",
            "\u001b[31mERROR: google-colab 1.0.0 has requirement tornado~=5.1.0; python_version >= \"3.0\", but you'll have tornado 4.5.3 which is incompatible.\u001b[0m\n",
            "\u001b[31mERROR: datascience 0.10.6 has requirement folium==0.2.1, but you'll have folium 0.8.3 which is incompatible.\u001b[0m\n",
            "\u001b[31mERROR: bokeh 2.1.1 has requirement tornado>=5.1, but you'll have tornado 4.5.3 which is incompatible.\u001b[0m\n",
            "\u001b[31mERROR: albumentations 0.1.12 has requirement imgaug<0.2.7,>=0.2.5, but you'll have imgaug 0.2.9 which is incompatible.\u001b[0m\n"
          ],
          "name": "stdout"
        }
      ]
    },
    {
      "cell_type": "code",
      "metadata": {
        "colab": {
          "base_uri": "https://localhost:8080/"
        },
        "id": "6gLEihpjkwBP",
        "outputId": "d2778b57-24eb-4b92-d5d2-ec3c80adba38"
      },
      "source": [
        "import numpy as np\r\n",
        "import torch\r\n",
        "import syft\r\n",
        "\r\n",
        "hook = syft.TorchHook(torch)\r\n",
        "\r\n",
        "bob = syft.VirtualWorker(hook, id='bob')\r\n",
        "alice = syft.VirtualWorker(hook, id='alice')\r\n",
        "\r\n",
        "secure_worker = syft.VirtualWorker(hook, id='secure_worker')"
      ],
      "execution_count": null,
      "outputs": [
        {
          "output_type": "stream",
          "text": [
            "WARNING:root:Torch was already hooked... skipping hooking process\n"
          ],
          "name": "stderr"
        }
      ]
    },
    {
      "cell_type": "code",
      "metadata": {
        "colab": {
          "base_uri": "https://localhost:8080/"
        },
        "id": "v_hoXBtElM9W",
        "outputId": "a9d9298a-28fc-4967-af95-58a5d0e277ad"
      },
      "source": [
        "x = torch.tensor([1,2,3,4,5]); x"
      ],
      "execution_count": null,
      "outputs": [
        {
          "output_type": "execute_result",
          "data": {
            "text/plain": [
              "tensor([1, 2, 3, 4, 5])"
            ]
          },
          "metadata": {
            "tags": []
          },
          "execution_count": 43
        }
      ]
    },
    {
      "cell_type": "code",
      "metadata": {
        "colab": {
          "base_uri": "https://localhost:8080/"
        },
        "id": "w3RvzTMSlVVj",
        "outputId": "e693fae7-12d5-4542-ed8d-f2b13f6b785f"
      },
      "source": [
        "x = x.share(bob, alice, secure_worker); x"
      ],
      "execution_count": null,
      "outputs": [
        {
          "output_type": "execute_result",
          "data": {
            "text/plain": [
              "(Wrapper)>[AdditiveSharingTensor]\n",
              "\t-> [PointerTensor | me:62478239223 -> bob:73040141759]\n",
              "\t-> [PointerTensor | me:80486766244 -> alice:94447164296]\n",
              "\t-> [PointerTensor | me:42747768110 -> secure_worker:96783813801]\n",
              "\t*crypto provider: me*"
            ]
          },
          "metadata": {
            "tags": []
          },
          "execution_count": 44
        }
      ]
    },
    {
      "cell_type": "markdown",
      "metadata": {
        "id": "yDsDcYvPnKxn"
      },
      "source": [
        "We generated 3 different pointers to three shares shared between the workers."
      ]
    },
    {
      "cell_type": "code",
      "metadata": {
        "colab": {
          "base_uri": "https://localhost:8080/"
        },
        "id": "ac6she9nnVRE",
        "outputId": "c3d080e5-4638-4aa6-9884-b43d05c4280e"
      },
      "source": [
        "def objects_print():\r\n",
        "    print('Bob: ', bob._objects)\r\n",
        "    print('Alice: ', alice._objects)\r\n",
        "    print('SecureWorker: ', secure_worker._objects)\r\n",
        "objects_print()"
      ],
      "execution_count": null,
      "outputs": [
        {
          "output_type": "stream",
          "text": [
            "Bob:  {20166380940: tensor([ 3587196180313237651, -6888873059417236999, -4360073461282305414,\n",
            "        -1515237327847543878,   -71044789171378235]), 73040141759: tensor([-6529811432613973911, -5138659850207610264,  2122285321412857269,\n",
            "        -4788406778992144048, -8173796205866553340])}\n",
            "Alice:  {63444315841: tensor([ 4738800853575144638,  3279278564924088860,  4827134320224883874,\n",
            "        -7108230005094848273, -7698097802329685509]), 94447164296: tensor([ 7122423247071752384, -1527703866933724111,  4282105396199056239,\n",
            "         2786973030881133389, -7439053338164002626])}\n",
            "SecureWorker:  {95520680817: tensor([-8325997033888382288,  3609594494493148141,  -467060858942578457,\n",
            "         8623467332942392155,  7769142591501063749]), 96783813801: tensor([ -592611814457778472,  6666363717141334377, -6404390717611913505,\n",
            "         2001433748111010663, -2833894529678995645])}\n"
          ],
          "name": "stdout"
        }
      ]
    },
    {
      "cell_type": "code",
      "metadata": {
        "id": "mAOdv2MCnWHV"
      },
      "source": [
        "y = x+x"
      ],
      "execution_count": null,
      "outputs": []
    },
    {
      "cell_type": "code",
      "metadata": {
        "colab": {
          "base_uri": "https://localhost:8080/"
        },
        "id": "3gZAG5vYnYuf",
        "outputId": "0791cef7-ce9e-44ca-b34d-22d2a02fa75a"
      },
      "source": [
        "objects_print()"
      ],
      "execution_count": null,
      "outputs": [
        {
          "output_type": "stream",
          "text": [
            "Bob:  {20166380940: tensor([ 3587196180313237651, -6888873059417236999, -4360073461282305414,\n",
            "        -1515237327847543878,   -71044789171378235]), 73040141759: tensor([-6529811432613973911, -5138659850207610264,  2122285321412857269,\n",
            "        -4788406778992144048, -8173796205866553340]), 29184213446: tensor([5387121208481603794, 8169424373294331088, 4244570642825714538,\n",
            "        8869930515725263520, 2099151661976444936])}\n",
            "Alice:  {63444315841: tensor([ 4738800853575144638,  3279278564924088860,  4827134320224883874,\n",
            "        -7108230005094848273, -7698097802329685509]), 94447164296: tensor([ 7122423247071752384, -1527703866933724111,  4282105396199056239,\n",
            "         2786973030881133389, -7439053338164002626]), 39845071831: tensor([-4201897579566046848, -3055407733867448222,  8564210792398112478,\n",
            "         5573946061762266778,  3568637397381546364])}\n",
            "SecureWorker:  {95520680817: tensor([-8325997033888382288,  3609594494493148141,  -467060858942578457,\n",
            "         8623467332942392155,  7769142591501063749]), 96783813801: tensor([ -592611814457778472,  6666363717141334377, -6404390717611913505,\n",
            "         2001433748111010663, -2833894529678995645]), 48304504959: tensor([-1185223628915556944, -5114016639426882862,  5637962638485724606,\n",
            "         4002867496222021326, -5667789059357991290])}\n"
          ],
          "name": "stdout"
        }
      ]
    },
    {
      "cell_type": "markdown",
      "metadata": {
        "id": "Jimt-dOToKEs"
      },
      "source": [
        "We got one more tensor of 5 elements that depicts the sum x+x, but shared between all three workers. The result is also another additively shared tensor.\r\n"
      ]
    },
    {
      "cell_type": "code",
      "metadata": {
        "colab": {
          "base_uri": "https://localhost:8080/"
        },
        "id": "EE4P8w_-obMa",
        "outputId": "405d5b06-5833-4808-bb76-46ac825555ca"
      },
      "source": [
        "y.get() # You can get the result y."
      ],
      "execution_count": null,
      "outputs": [
        {
          "output_type": "execute_result",
          "data": {
            "text/plain": [
              "tensor([ 2,  4,  6,  8, 10])"
            ]
          },
          "metadata": {
            "tags": []
          },
          "execution_count": 48
        }
      ]
    },
    {
      "cell_type": "code",
      "metadata": {
        "colab": {
          "base_uri": "https://localhost:8080/"
        },
        "id": "EM0OPNPYocE4",
        "outputId": "57f9fe93-343f-4174-9b02-c24ad6bac00f"
      },
      "source": [
        "objects_print() # it got removed"
      ],
      "execution_count": null,
      "outputs": [
        {
          "output_type": "stream",
          "text": [
            "Bob:  {20166380940: tensor([ 3587196180313237651, -6888873059417236999, -4360073461282305414,\n",
            "        -1515237327847543878,   -71044789171378235]), 73040141759: tensor([-6529811432613973911, -5138659850207610264,  2122285321412857269,\n",
            "        -4788406778992144048, -8173796205866553340])}\n",
            "Alice:  {63444315841: tensor([ 4738800853575144638,  3279278564924088860,  4827134320224883874,\n",
            "        -7108230005094848273, -7698097802329685509]), 94447164296: tensor([ 7122423247071752384, -1527703866933724111,  4282105396199056239,\n",
            "         2786973030881133389, -7439053338164002626])}\n",
            "SecureWorker:  {95520680817: tensor([-8325997033888382288,  3609594494493148141,  -467060858942578457,\n",
            "         8623467332942392155,  7769142591501063749]), 96783813801: tensor([ -592611814457778472,  6666363717141334377, -6404390717611913505,\n",
            "         2001433748111010663, -2833894529678995645])}\n"
          ],
          "name": "stdout"
        }
      ]
    },
    {
      "cell_type": "markdown",
      "metadata": {
        "id": "6J2mXl_VoeaY"
      },
      "source": [
        "### What about floats?"
      ]
    },
    {
      "cell_type": "code",
      "metadata": {
        "colab": {
          "base_uri": "https://localhost:8080/"
        },
        "id": "_j0STYe1o2-7",
        "outputId": "5abe641b-d4b2-4461-c0a2-06101eeafd25"
      },
      "source": [
        "x = torch.tensor([0.1, 0.2, 0.3, 0.4, 0.5]); x"
      ],
      "execution_count": null,
      "outputs": [
        {
          "output_type": "execute_result",
          "data": {
            "text/plain": [
              "tensor([0.1000, 0.2000, 0.3000, 0.4000, 0.5000])"
            ]
          },
          "metadata": {
            "tags": []
          },
          "execution_count": 50
        }
      ]
    },
    {
      "cell_type": "code",
      "metadata": {
        "colab": {
          "base_uri": "https://localhost:8080/"
        },
        "id": "wW7qY9gzpBtM",
        "outputId": "3010cc9e-cd79-4aee-a80d-18fad083c9c7"
      },
      "source": [
        "x = x.fix_prec(); x"
      ],
      "execution_count": null,
      "outputs": [
        {
          "output_type": "execute_result",
          "data": {
            "text/plain": [
              "(Wrapper)>FixedPrecisionTensor>tensor([100, 200, 300, 400, 500])"
            ]
          },
          "metadata": {
            "tags": []
          },
          "execution_count": 51
        }
      ]
    },
    {
      "cell_type": "markdown",
      "metadata": {
        "id": "tBoyJUNopH_X"
      },
      "source": [
        "This method tensor_object.fix_prec() converted the float tensor to fixed precision tensors under the hood. Although internally, it gets interpreted as floats."
      ]
    },
    {
      "cell_type": "code",
      "metadata": {
        "colab": {
          "base_uri": "https://localhost:8080/"
        },
        "id": "pXGUgVmYpSdP",
        "outputId": "e5a98b61-70da-4552-e492-5eb52a3ea0f4"
      },
      "source": [
        "x = x.float_prec(); x"
      ],
      "execution_count": null,
      "outputs": [
        {
          "output_type": "execute_result",
          "data": {
            "text/plain": [
              "tensor([0.1000, 0.2000, 0.3000, 0.4000, 0.5000])"
            ]
          },
          "metadata": {
            "tags": []
          },
          "execution_count": 53
        }
      ]
    },
    {
      "cell_type": "code",
      "metadata": {
        "colab": {
          "base_uri": "https://localhost:8080/"
        },
        "id": "f808_oOwrqM4",
        "outputId": "9ff186f0-2767-4879-ce14-99f1ea367630"
      },
      "source": [
        "x = x.fix_prec()\r\n",
        "type(x)"
      ],
      "execution_count": null,
      "outputs": [
        {
          "output_type": "execute_result",
          "data": {
            "text/plain": [
              "torch.Tensor"
            ]
          },
          "metadata": {
            "tags": []
          },
          "execution_count": 54
        }
      ]
    },
    {
      "cell_type": "code",
      "metadata": {
        "colab": {
          "base_uri": "https://localhost:8080/"
        },
        "id": "x-m7Oeatr1Is",
        "outputId": "e5ab8b2e-16cd-43e5-e3c4-2d72831d4a59"
      },
      "source": [
        "type(x.child)"
      ],
      "execution_count": null,
      "outputs": [
        {
          "output_type": "execute_result",
          "data": {
            "text/plain": [
              "syft.frameworks.torch.tensors.interpreters.precision.FixedPrecisionTensor"
            ]
          },
          "metadata": {
            "tags": []
          },
          "execution_count": 56
        }
      ]
    },
    {
      "cell_type": "code",
      "metadata": {
        "colab": {
          "base_uri": "https://localhost:8080/"
        },
        "id": "9R98greqr9ID",
        "outputId": "6088aec8-ef62-40be-968f-75c3b9590550"
      },
      "source": [
        "x.child"
      ],
      "execution_count": null,
      "outputs": [
        {
          "output_type": "execute_result",
          "data": {
            "text/plain": [
              "FixedPrecisionTensor>tensor([100, 200, 300, 400, 500])"
            ]
          },
          "metadata": {
            "tags": []
          },
          "execution_count": 57
        }
      ]
    },
    {
      "cell_type": "code",
      "metadata": {
        "colab": {
          "base_uri": "https://localhost:8080/"
        },
        "id": "6RR4OpiMsCpk",
        "outputId": "5634a96e-bb0c-4d46-b937-ab3738faa514"
      },
      "source": [
        "x.child.child"
      ],
      "execution_count": null,
      "outputs": [
        {
          "output_type": "execute_result",
          "data": {
            "text/plain": [
              "tensor([100, 200, 300, 400, 500])"
            ]
          },
          "metadata": {
            "tags": []
          },
          "execution_count": 58
        }
      ]
    },
    {
      "cell_type": "code",
      "metadata": {
        "colab": {
          "base_uri": "https://localhost:8080/"
        },
        "id": "we_z8mqCsEKe",
        "outputId": "4c965b55-b683-40d4-9fc5-91813bb10733"
      },
      "source": [
        "type(x.child.child)"
      ],
      "execution_count": null,
      "outputs": [
        {
          "output_type": "execute_result",
          "data": {
            "text/plain": [
              "torch.Tensor"
            ]
          },
          "metadata": {
            "tags": []
          },
          "execution_count": 59
        }
      ]
    },
    {
      "cell_type": "code",
      "metadata": {
        "colab": {
          "base_uri": "https://localhost:8080/"
        },
        "id": "Ia8Se0_CsHKW",
        "outputId": "d06d2362-bdbe-4280-fa14-28f887fd6d4e"
      },
      "source": [
        "x = torch.tensor([0.1,0.2, 0.3, 0.4, 0.5]).fix_prec().share(bob, alice, secure_worker); x"
      ],
      "execution_count": null,
      "outputs": [
        {
          "output_type": "execute_result",
          "data": {
            "text/plain": [
              "(Wrapper)>FixedPrecisionTensor>[AdditiveSharingTensor]\n",
              "\t-> [PointerTensor | me:1899445207 -> bob:57716517966]\n",
              "\t-> [PointerTensor | me:85024294619 -> alice:63610236609]\n",
              "\t-> [PointerTensor | me:15059018317 -> secure_worker:28205769224]\n",
              "\t*crypto provider: me*"
            ]
          },
          "metadata": {
            "tags": []
          },
          "execution_count": 60
        }
      ]
    },
    {
      "cell_type": "code",
      "metadata": {
        "colab": {
          "base_uri": "https://localhost:8080/"
        },
        "id": "Q6WGbaICsvs4",
        "outputId": "35edf35e-8ecb-4e8f-f75d-18264db39efa"
      },
      "source": [
        "y = x+x; y"
      ],
      "execution_count": null,
      "outputs": [
        {
          "output_type": "execute_result",
          "data": {
            "text/plain": [
              "(Wrapper)>FixedPrecisionTensor>[AdditiveSharingTensor]\n",
              "\t-> [PointerTensor | me:91435296072 -> bob:95654692142]\n",
              "\t-> [PointerTensor | me:59366224392 -> alice:68426512773]\n",
              "\t-> [PointerTensor | me:45653282888 -> secure_worker:62918500890]\n",
              "\t*crypto provider: me*"
            ]
          },
          "metadata": {
            "tags": []
          },
          "execution_count": 61
        }
      ]
    },
    {
      "cell_type": "code",
      "metadata": {
        "id": "yEi7ypfjs7Oc"
      },
      "source": [
        "y = y.get().float_prec(); y"
      ],
      "execution_count": null,
      "outputs": []
    },
    {
      "cell_type": "code",
      "metadata": {
        "colab": {
          "base_uri": "https://localhost:8080/"
        },
        "id": "Sj9ssPqPs_rH",
        "outputId": "b1ba06aa-5525-4c93-cad9-315bf7c18e8f"
      },
      "source": [
        "y"
      ],
      "execution_count": null,
      "outputs": [
        {
          "output_type": "execute_result",
          "data": {
            "text/plain": [
              "tensor([0.2000, 0.4000, 0.6000, 0.8000, 1.0000])"
            ]
          },
          "metadata": {
            "tags": []
          },
          "execution_count": 63
        }
      ]
    },
    {
      "cell_type": "markdown",
      "metadata": {
        "id": "Bgcd8tXItArr"
      },
      "source": [
        "This is the result of the computation"
      ]
    },
    {
      "cell_type": "code",
      "metadata": {
        "id": "KJBbKNdKtHIL"
      },
      "source": [
        ""
      ],
      "execution_count": null,
      "outputs": []
    }
  ]
}
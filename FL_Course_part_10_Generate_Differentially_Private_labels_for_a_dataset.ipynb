{
  "nbformat": 4,
  "nbformat_minor": 0,
  "metadata": {
    "colab": {
      "name": "FL_Course_part_10_Generate_Differentially_Private_labels_for_a_dataset.ipynb",
      "provenance": [],
      "authorship_tag": "ABX9TyNP7lGsE6Mi6EL+vLAR9xQi"
    },
    "kernelspec": {
      "name": "python3",
      "display_name": "Python 3"
    }
  },
  "cells": [
    {
      "cell_type": "markdown",
      "metadata": {
        "id": "r5rHQUUWh4kR"
      },
      "source": [
        "# Differential Privacy_in_Deep_Learning\r\n",
        "\r\n",
        "Previously, we defined perfect privacy as \"a query to a database returns the same value even if we remove any person from the database\", and used this intuition in the description of epsilon/delta. In the context of deep learning we have a similar standard.\r\n",
        "\r\n",
        "Training a model on a dataset should return the same model even if we remove any person from the dataset.\r\n",
        "\r\n",
        "## Hospital Dataset Example\r\n",
        "You are representing a hospital. You have an unlabelled dataset with you. You need to train a classification model on the data but data is not annotated.\r\n",
        "\r\n",
        "There are 10 hospitals that do have labelled data. You can reach out to them. But the other will not share their data with you. Hence, the procedure will become as follows\r\n",
        "\r\n",
        "1. All the 10 hospitals will train their own models\r\n",
        "2. You will use those 10 models to create 10 prediction labels for each of your data\r\n",
        "3. For each local data point, you will create a DP query (max_count function). Will add laplacian noise to make it DP\r\n",
        "4. Train a model on our local dataset with the result of the max DP query.\r\n",
        "\r\n",
        "let's say we have 10,000 training examples, and we've got 10 labels for each example (from our 10 \"teacher models\" which were trained directly on private data). Each label is chosen from a set of 10 possible labels (categories) for each image."
      ]
    },
    {
      "cell_type": "code",
      "metadata": {
        "id": "csvBkjBBim_x"
      },
      "source": [
        "import numpy as np"
      ],
      "execution_count": null,
      "outputs": []
    },
    {
      "cell_type": "code",
      "metadata": {
        "colab": {
          "base_uri": "https://localhost:8080/"
        },
        "id": "54nbD2LmqJcE",
        "outputId": "9fd6784b-9fa9-4a56-96c3-d5c90c7fb9ca"
      },
      "source": [
        "num_teachers = 10 # working with 10 partner hospitals\r\n",
        "num_examples = 10000 # len(our_dataset)\r\n",
        "num_labels = 10 # number of labels for our classifier\r\n",
        "\r\n",
        "# Creating a synthetic label vector for each hospital where each row in the \r\n",
        "# following represents the 10k labels that their models predicted\r\n",
        "preds = (np.random.rand(num_teachers, num_examples) * num_labels).astype(int)\r\n",
        "preds"
      ],
      "execution_count": null,
      "outputs": [
        {
          "output_type": "execute_result",
          "data": {
            "text/plain": [
              "array([[8, 6, 6, ..., 9, 6, 3],\n",
              "       [3, 9, 0, ..., 0, 5, 3],\n",
              "       [2, 3, 2, ..., 8, 0, 7],\n",
              "       ...,\n",
              "       [9, 6, 4, ..., 6, 1, 6],\n",
              "       [0, 9, 1, ..., 0, 1, 1],\n",
              "       [9, 8, 0, ..., 2, 6, 7]])"
            ]
          },
          "metadata": {
            "tags": []
          },
          "execution_count": 2
        }
      ]
    },
    {
      "cell_type": "code",
      "metadata": {
        "colab": {
          "base_uri": "https://localhost:8080/"
        },
        "id": "alJYWyXmrXbE",
        "outputId": "1bacdc53-7843-48c1-c83a-d42ab09f98d3"
      },
      "source": [
        "preds.shape # each row is the prediction of that hospital for the 10,000 examples"
      ],
      "execution_count": null,
      "outputs": [
        {
          "output_type": "execute_result",
          "data": {
            "text/plain": [
              "(10, 10000)"
            ]
          },
          "metadata": {
            "tags": []
          },
          "execution_count": 3
        }
      ]
    },
    {
      "cell_type": "code",
      "metadata": {
        "colab": {
          "base_uri": "https://localhost:8080/"
        },
        "id": "331poEc0rZRF",
        "outputId": "49cd9169-aa20-4a0d-b060-aaad85ef4513"
      },
      "source": [
        "preds[0] # all predictions of 0th hospital"
      ],
      "execution_count": null,
      "outputs": [
        {
          "output_type": "execute_result",
          "data": {
            "text/plain": [
              "array([8, 6, 6, ..., 9, 6, 3])"
            ]
          },
          "metadata": {
            "tags": []
          },
          "execution_count": 4
        }
      ]
    },
    {
      "cell_type": "code",
      "metadata": {
        "colab": {
          "base_uri": "https://localhost:8080/"
        },
        "id": "ek_bwVKrsPJ7",
        "outputId": "b655cc22-dc48-4373-dda2-cb6016bd0bd7"
      },
      "source": [
        "len(preds[0])"
      ],
      "execution_count": null,
      "outputs": [
        {
          "output_type": "execute_result",
          "data": {
            "text/plain": [
              "10000"
            ]
          },
          "metadata": {
            "tags": []
          },
          "execution_count": 6
        }
      ]
    },
    {
      "cell_type": "code",
      "metadata": {
        "colab": {
          "base_uri": "https://localhost:8080/"
        },
        "id": "2vMGYbQAsR5J",
        "outputId": "9d4952ed-44fb-42e7-8233-898a345200bd"
      },
      "source": [
        "preds[:, 0] # all 10 predictions for the 0th training example"
      ],
      "execution_count": null,
      "outputs": [
        {
          "output_type": "execute_result",
          "data": {
            "text/plain": [
              "array([8, 3, 2, 5, 5, 8, 5, 9, 0, 9])"
            ]
          },
          "metadata": {
            "tags": []
          },
          "execution_count": 7
        }
      ]
    },
    {
      "cell_type": "markdown",
      "metadata": {
        "id": "koNPaacqsemK"
      },
      "source": [
        "Here one patient will get 10 predictions. Convert each vector of predictions to a single prediction."
      ]
    },
    {
      "cell_type": "code",
      "metadata": {
        "colab": {
          "base_uri": "https://localhost:8080/"
        },
        "id": "WnxHCy96wTvY",
        "outputId": "4453814a-3246-4aba-93fc-742c568e9d09"
      },
      "source": [
        "an_image = preds[:, 0]\r\n",
        "np.bincount(an_image, minlength=num_labels) # counts the frequency of individual elements and returns a list of counts for the increasing order of elements"
      ],
      "execution_count": null,
      "outputs": [
        {
          "output_type": "execute_result",
          "data": {
            "text/plain": [
              "array([1, 0, 1, 1, 0, 3, 0, 0, 2, 2])"
            ]
          },
          "metadata": {
            "tags": []
          },
          "execution_count": 9
        }
      ]
    },
    {
      "cell_type": "code",
      "metadata": {
        "colab": {
          "base_uri": "https://localhost:8080/"
        },
        "id": "Qec2m5jT9lMc",
        "outputId": "ba985dc5-7076-42ab-c1a1-f6f4df2d443d"
      },
      "source": [
        "label_counts = np.bincount(an_image, minlength=num_labels)\r\n",
        "np.argmax(label_counts) # Index of the largest count will give the aggregated label"
      ],
      "execution_count": null,
      "outputs": [
        {
          "output_type": "execute_result",
          "data": {
            "text/plain": [
              "5"
            ]
          },
          "metadata": {
            "tags": []
          },
          "execution_count": 11
        }
      ]
    },
    {
      "cell_type": "code",
      "metadata": {
        "id": "WflHlQZA-S9E"
      },
      "source": [
        "# This is a straightforward prediction. We need to add laplacian to make it differentially private\r\n",
        "epsilon = 0.1\r\n",
        "beta = 1/epsilon\r\n",
        "\r\n",
        "for i in range(len(label_counts)):\r\n",
        "    label_counts[i] += np.random.laplace(0, beta, 1)"
      ],
      "execution_count": null,
      "outputs": []
    },
    {
      "cell_type": "code",
      "metadata": {
        "colab": {
          "base_uri": "https://localhost:8080/"
        },
        "id": "AJKr5WX2_Fb7",
        "outputId": "676d97ca-1c4d-4285-bc50-813469b40682"
      },
      "source": [
        "label_counts"
      ],
      "execution_count": null,
      "outputs": [
        {
          "output_type": "execute_result",
          "data": {
            "text/plain": [
              "array([ -3,   3, -17,   4,   0, -25,  12,  -1,  -7,  -9])"
            ]
          },
          "metadata": {
            "tags": []
          },
          "execution_count": 13
        }
      ]
    },
    {
      "cell_type": "code",
      "metadata": {
        "colab": {
          "base_uri": "https://localhost:8080/"
        },
        "id": "yOQwFAa__ITd",
        "outputId": "4699659f-4e04-461e-f9d9-049b24db869d"
      },
      "source": [
        "np.argmax(label_counts)"
      ],
      "execution_count": null,
      "outputs": [
        {
          "output_type": "execute_result",
          "data": {
            "text/plain": [
              "6"
            ]
          },
          "metadata": {
            "tags": []
          },
          "execution_count": 14
        }
      ]
    },
    {
      "cell_type": "markdown",
      "metadata": {
        "id": "kfjRQrKU_Lwi"
      },
      "source": [
        "Here the answer (label) changed. But this is a tradeoff. Assumption is that later on, as the DNN trains, it will filter through the noise and learn how to predict reasonabily accurately (federated learning integrates this into learning)."
      ]
    },
    {
      "cell_type": "code",
      "metadata": {
        "colab": {
          "base_uri": "https://localhost:8080/"
        },
        "id": "Lj4ef_Zk_eFp",
        "outputId": "c339c6c5-9a49-4bb3-cb7a-d5dcf73950b0"
      },
      "source": [
        "preds = (np.random.rand(num_teachers, num_examples) * num_labels).astype(int).transpose(1,0) # simulated predictions\r\n",
        "# For the whole 10000 points,\r\n",
        "\r\n",
        "new_labels = []\r\n",
        "for an_image in preds:\r\n",
        "    label_counts = np.bincount(an_image, minlength=num_labels)\r\n",
        "\r\n",
        "    epsilon = 0.1\r\n",
        "    beta = 1/epsilon\r\n",
        "\r\n",
        "    for i in range(len(label_counts)):\r\n",
        "        label_counts[i] += np.random.laplace(0, beta, 1)\r\n",
        "    \r\n",
        "    new_label = np.argmax(label_counts)\r\n",
        "\r\n",
        "    new_labels.append(new_label)\r\n",
        "\r\n",
        "len(new_labels)"
      ],
      "execution_count": null,
      "outputs": [
        {
          "output_type": "execute_result",
          "data": {
            "text/plain": [
              "10000"
            ]
          },
          "metadata": {
            "tags": []
          },
          "execution_count": 16
        }
      ]
    },
    {
      "cell_type": "code",
      "metadata": {
        "colab": {
          "base_uri": "https://localhost:8080/"
        },
        "id": "pJRnjG9lAIRj",
        "outputId": "02dcead4-e4d6-4dd0-8eb7-608a7fd81732"
      },
      "source": [
        "new_labels[0]"
      ],
      "execution_count": 18,
      "outputs": [
        {
          "output_type": "execute_result",
          "data": {
            "text/plain": [
              "2"
            ]
          },
          "metadata": {
            "tags": []
          },
          "execution_count": 18
        }
      ]
    },
    {
      "cell_type": "markdown",
      "metadata": {
        "id": "N9jcKhZ9L_TC"
      },
      "source": [
        "###Differential Privacy for the participating hospitals\r\n",
        "If I can remove any participating hospital's result (label) from the set of 10 labels, if the output of the query (argmax) does not change, we call it perfect privacy.\r\n",
        "\r\n",
        "But it is conditioned w.r.t. what the labels actually were. "
      ]
    },
    {
      "cell_type": "code",
      "metadata": {
        "colab": {
          "base_uri": "https://localhost:8080/"
        },
        "id": "kKCKy5ATUI3Y",
        "outputId": "7a19b7d6-eedd-4cab-cb39-62c798846c81"
      },
      "source": [
        "!pip install syft==0.2.9 >/dev/null"
      ],
      "execution_count": 20,
      "outputs": [
        {
          "output_type": "stream",
          "text": [
            "\u001b[31mERROR: tensorflow 2.4.1 has requirement numpy~=1.19.2, but you'll have numpy 1.18.5 which is incompatible.\u001b[0m\n",
            "\u001b[31mERROR: google-colab 1.0.0 has requirement notebook~=5.3.0; python_version >= \"3.0\", but you'll have notebook 5.7.8 which is incompatible.\u001b[0m\n",
            "\u001b[31mERROR: google-colab 1.0.0 has requirement requests~=2.23.0, but you'll have requests 2.22.0 which is incompatible.\u001b[0m\n",
            "\u001b[31mERROR: google-colab 1.0.0 has requirement tornado~=5.1.0; python_version >= \"3.0\", but you'll have tornado 4.5.3 which is incompatible.\u001b[0m\n",
            "\u001b[31mERROR: datascience 0.10.6 has requirement folium==0.2.1, but you'll have folium 0.8.3 which is incompatible.\u001b[0m\n",
            "\u001b[31mERROR: bokeh 2.1.1 has requirement tornado>=5.1, but you'll have tornado 4.5.3 which is incompatible.\u001b[0m\n",
            "\u001b[31mERROR: albumentations 0.1.12 has requirement imgaug<0.2.7,>=0.2.5, but you'll have imgaug 0.2.9 which is incompatible.\u001b[0m\n"
          ],
          "name": "stdout"
        }
      ]
    },
    {
      "cell_type": "markdown",
      "metadata": {
        "id": "Ru-BGPQOUPAP"
      },
      "source": [
        "## PATE Analysis"
      ]
    },
    {
      "cell_type": "code",
      "metadata": {
        "id": "VZm8sdIiUTgI"
      },
      "source": [
        "from syft.frameworks.torch.dp import pate # in syft 0.2.9, replaced differential_privacy as dp\r\n",
        "\r\n",
        "num_teachers, num_examples, num_labels = (100, 100, 10)\r\n",
        "preds = (np.random.rand(num_teachers, num_examples) * num_labels).astype(int) # simulated fake predictions\r\n",
        "indices = (np.random.rand(num_examples) * num_labels).astype(int) # say true answers"
      ],
      "execution_count": 23,
      "outputs": []
    },
    {
      "cell_type": "code",
      "metadata": {
        "colab": {
          "base_uri": "https://localhost:8080/"
        },
        "id": "22DyorWdVNq6",
        "outputId": "60afd58a-2826-4f4a-9c93-bc70f9ea3d0f"
      },
      "source": [
        "data_dep_epsilon, data_indep_epsilon = pate.perform_analysis(teacher_preds=preds, indices=indices, noise_eps=0.1, delta=1e-5)\r\n",
        "data_dep_epsilon, data_indep_epsilon"
      ],
      "execution_count": 24,
      "outputs": [
        {
          "output_type": "execute_result",
          "data": {
            "text/plain": [
              "(11.756462732485105, 11.756462732485115)"
            ]
          },
          "metadata": {
            "tags": []
          },
          "execution_count": 24
        }
      ]
    },
    {
      "cell_type": "markdown",
      "metadata": {
        "id": "D9CYgQzuVS01"
      },
      "source": [
        "To demo, let's force the teacher preds as 0 for the first 5 examples and see if there is a difference in the epsilons."
      ]
    },
    {
      "cell_type": "code",
      "metadata": {
        "colab": {
          "base_uri": "https://localhost:8080/"
        },
        "id": "DhB2bvOUXws_",
        "outputId": "cddc2bb8-9686-46c0-8dd0-3620c33e0c1c"
      },
      "source": [
        "# First 5 exampes, all 100 hospitals agreed that it was labelled as 0\r\n",
        "preds[:,  0:5] *= 0\r\n",
        "preds\r\n",
        "# data_dep_epsilon, data_indep_epsilon ="
      ],
      "execution_count": 25,
      "outputs": [
        {
          "output_type": "execute_result",
          "data": {
            "text/plain": [
              "array([[0, 0, 0, ..., 6, 1, 7],\n",
              "       [0, 0, 0, ..., 5, 7, 6],\n",
              "       [0, 0, 0, ..., 2, 6, 0],\n",
              "       ...,\n",
              "       [0, 0, 0, ..., 3, 2, 3],\n",
              "       [0, 0, 0, ..., 0, 5, 3],\n",
              "       [0, 0, 0, ..., 6, 5, 4]])"
            ]
          },
          "metadata": {
            "tags": []
          },
          "execution_count": 25
        }
      ]
    },
    {
      "cell_type": "code",
      "metadata": {
        "colab": {
          "base_uri": "https://localhost:8080/"
        },
        "id": "QkjOsF2gYAnc",
        "outputId": "e45fef0c-d91d-4c36-dead-a8523df7c0fc"
      },
      "source": [
        "data_dep_epsilon, data_indep_epsilon = pate.perform_analysis(teacher_preds=preds, indices=indices, noise_eps=0.1, delta=1e-5)\r\n",
        "data_dep_epsilon, data_indep_epsilon"
      ],
      "execution_count": 28,
      "outputs": [
        {
          "output_type": "execute_result",
          "data": {
            "text/plain": [
              "(8.503131916570494, 11.756462732485115)"
            ]
          },
          "metadata": {
            "tags": []
          },
          "execution_count": 28
        }
      ]
    },
    {
      "cell_type": "markdown",
      "metadata": {
        "id": "hytHTIhrYDVj"
      },
      "source": [
        "here the data dependent epsilon changed."
      ]
    },
    {
      "cell_type": "code",
      "metadata": {
        "colab": {
          "base_uri": "https://localhost:8080/"
        },
        "id": "aGPbL9LHa6RI",
        "outputId": "1e7f678f-ee57-477d-861f-49a24732f72a"
      },
      "source": [
        "# First 50 exampes, all 100 hospitals agreed that it was labelled as 0\r\n",
        "preds[:,  0:50] *= 0\r\n",
        "data_dep_epsilon, data_indep_epsilon = pate.perform_analysis(teacher_preds=preds, indices=indices, noise_eps=0.1, delta=1e-5)\r\n",
        "data_dep_epsilon, data_indep_epsilon"
      ],
      "execution_count": 30,
      "outputs": [
        {
          "output_type": "stream",
          "text": [
            "Warning: May not have used enough values of l. Increase 'moments' variable and run again.\n"
          ],
          "name": "stdout"
        },
        {
          "output_type": "execute_result",
          "data": {
            "text/plain": [
              "(1.52655213289881, 11.756462732485115)"
            ]
          },
          "metadata": {
            "tags": []
          },
          "execution_count": 30
        }
      ]
    },
    {
      "cell_type": "markdown",
      "metadata": {
        "id": "48xmr4E-a_Zx"
      },
      "source": [
        "We get significantly better privacy leakage"
      ]
    },
    {
      "cell_type": "markdown",
      "metadata": {
        "id": "GOx3NunWbMWX"
      },
      "source": [
        "The assumption here is that the more the prediction agree with each other, the tighter the epsilon value can get. Hence the better privacy leakage."
      ]
    },
    {
      "cell_type": "code",
      "metadata": {
        "id": "aNSkIw-0bnbQ"
      },
      "source": [
        ""
      ],
      "execution_count": null,
      "outputs": []
    }
  ]
}
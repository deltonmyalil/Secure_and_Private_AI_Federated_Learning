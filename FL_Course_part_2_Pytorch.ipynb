{
  "nbformat": 4,
  "nbformat_minor": 0,
  "metadata": {
    "colab": {
      "name": "FL_Course_part_2_Pytorch.ipynb",
      "provenance": [],
      "authorship_tag": "ABX9TyN0UVt5JqFXbJdK9CIVR3r7"
    },
    "kernelspec": {
      "name": "python3",
      "display_name": "Python 3"
    }
  },
  "cells": [
    {
      "cell_type": "markdown",
      "metadata": {
        "id": "nXeHXvqkfcQZ"
      },
      "source": [
        "## Training, Autograd"
      ]
    },
    {
      "cell_type": "code",
      "metadata": {
        "colab": {
          "base_uri": "https://localhost:8080/"
        },
        "id": "W8I-HzlwgUZx",
        "outputId": "b43e8bce-ae36-4ada-e69e-38107766450b"
      },
      "source": [
        "import torch\r\n",
        "import torch.nn as nn\r\n",
        "import torch.nn.functional as F\r\n",
        "from torchvision import datasets, transforms\r\n",
        "\r\n",
        "transform = transforms.Compose(\r\n",
        "    [\r\n",
        "     transforms.ToTensor(),\r\n",
        "     transforms.Normalize((.5), (.5))\r\n",
        "    ]\r\n",
        ")\r\n",
        "\r\n",
        "trainset = datasets.MNIST('~/.pytorch/MNIST_data/', download=True, train=True, transform=transform)\r\n",
        "trainloader = torch.utils.data.DataLoader(trainset, batch_size=64, shuffle=True)\r\n",
        "\r\n",
        "# Model for just the logits, no softmax\r\n",
        "model = nn.Sequential(\r\n",
        "    nn.Linear(784, 128),\r\n",
        "    nn.ReLU(),\r\n",
        "    nn.Linear(128, 64),\r\n",
        "    nn.ReLU(),\r\n",
        "    nn.Linear(64, 10)\r\n",
        ")\r\n",
        "\r\n",
        "# Loss\r\n",
        "criterion = nn.CrossEntropyLoss()\r\n",
        "\r\n",
        "# Fetch data\r\n",
        "images, labels = next(iter(trainloader))\r\n",
        "\r\n",
        "# Flatten\r\n",
        "images = images.view(images.shape[0], -1)\r\n",
        "\r\n",
        "# Forward pass to extract the logits\r\n",
        "logits = model(images)\r\n",
        "# Calculate the loss with logits and labels\r\n",
        "loss = criterion(logits, labels)\r\n",
        "print(loss)"
      ],
      "execution_count": null,
      "outputs": [
        {
          "output_type": "stream",
          "text": [
            "tensor(2.3164, grad_fn=<NllLossBackward>)\n"
          ],
          "name": "stdout"
        }
      ]
    },
    {
      "cell_type": "markdown",
      "metadata": {
        "id": "-olFaRvdl3WK"
      },
      "source": [
        "## Loss and Autograd"
      ]
    },
    {
      "cell_type": "code",
      "metadata": {
        "colab": {
          "base_uri": "https://localhost:8080/"
        },
        "id": "upE8am-yl7Fz",
        "outputId": "46e25b0d-a470-4f9d-b9ae-c1cd657b2c87"
      },
      "source": [
        "model = nn.Sequential(\r\n",
        "    nn.Linear(784, 128),\r\n",
        "    nn.ReLU(),\r\n",
        "    nn.Linear(128, 64),\r\n",
        "    nn.ReLU(),\r\n",
        "    nn.Linear(64, 10),\r\n",
        "    nn.LogSoftmax(dim=1)\r\n",
        ")\r\n",
        "\r\n",
        "criterion = nn.NLLLoss()\r\n",
        "images, labels = next(iter(trainloader))\r\n",
        "images = images.view(images.shape[0], -1)\r\n",
        "logps = model(images) # log probabilities\r\n",
        "loss = criterion(logps, labels)\r\n",
        "\r\n",
        "print('before a round', model[0].weight.grad)\r\n",
        "loss.backward()\r\n",
        "print('after a round', model[0].weight.grad)"
      ],
      "execution_count": null,
      "outputs": [
        {
          "output_type": "stream",
          "text": [
            "before a round None\n",
            "after a round tensor([[ 0.0007,  0.0007,  0.0007,  ...,  0.0007,  0.0007,  0.0007],\n",
            "        [ 0.0005,  0.0005,  0.0005,  ...,  0.0005,  0.0005,  0.0005],\n",
            "        [ 0.0028,  0.0028,  0.0028,  ...,  0.0028,  0.0028,  0.0028],\n",
            "        ...,\n",
            "        [-0.0014, -0.0014, -0.0014,  ..., -0.0014, -0.0014, -0.0014],\n",
            "        [ 0.0002,  0.0002,  0.0002,  ...,  0.0002,  0.0002,  0.0002],\n",
            "        [ 0.0008,  0.0008,  0.0008,  ...,  0.0008,  0.0008,  0.0008]])\n"
          ],
          "name": "stdout"
        }
      ]
    },
    {
      "cell_type": "markdown",
      "metadata": {
        "id": "vZ_cP7T1ocT1"
      },
      "source": [
        "## Optimizer to update the weights"
      ]
    },
    {
      "cell_type": "code",
      "metadata": {
        "colab": {
          "base_uri": "https://localhost:8080/"
        },
        "id": "SA86cWVDofPO",
        "outputId": "e0cdcebc-9e8f-46ec-e4c2-aea1c442046b"
      },
      "source": [
        "from torch import optim\r\n",
        "optimizer = optim.SGD(model.parameters(), lr=0.01)\r\n",
        "\r\n",
        "print('Initial Weights', model[0].weight)\r\n",
        "\r\n",
        "images, labels = next(iter(trainloader))\r\n",
        "images.resize_(64, 784) # It is resize_(), not resize()\r\n",
        "\r\n",
        "# Clear the gradients or else gradients from previous steps will accumulate\r\n",
        "optimizer.zero_grad()\r\n",
        "\r\n",
        "# Forward pass\r\n",
        "outputs = model.forward(images)\r\n",
        "loss = criterion(outputs, labels)\r\n",
        "# Backwards pass\r\n",
        "loss.backward()\r\n",
        "print('Gradient - ', model[0].weight.grad)\r\n",
        "# Update the model\r\n",
        "optimizer.step()\r\n",
        "print('Updated Weights - ', model[0].weight)"
      ],
      "execution_count": null,
      "outputs": [
        {
          "output_type": "stream",
          "text": [
            "Initial Weights Parameter containing:\n",
            "tensor([[-0.0229,  0.0031,  0.0286,  ..., -0.0038,  0.0183,  0.0106],\n",
            "        [ 0.0200,  0.0020,  0.0036,  ...,  0.0140,  0.0335, -0.0038],\n",
            "        [-0.0023, -0.0030,  0.0106,  ..., -0.0171,  0.0147,  0.0160],\n",
            "        ...,\n",
            "        [-0.0270,  0.0246,  0.0218,  ...,  0.0025, -0.0345,  0.0061],\n",
            "        [ 0.0084, -0.0081,  0.0132,  ..., -0.0091,  0.0287, -0.0109],\n",
            "        [-0.0077,  0.0304,  0.0047,  ...,  0.0343,  0.0254,  0.0303]],\n",
            "       requires_grad=True)\n",
            "Gradient -  tensor([[0.0003, 0.0003, 0.0003,  ..., 0.0003, 0.0003, 0.0003],\n",
            "        [0.0025, 0.0025, 0.0025,  ..., 0.0025, 0.0025, 0.0025],\n",
            "        [0.0003, 0.0003, 0.0003,  ..., 0.0003, 0.0003, 0.0003],\n",
            "        ...,\n",
            "        [0.0002, 0.0002, 0.0002,  ..., 0.0002, 0.0002, 0.0002],\n",
            "        [0.0007, 0.0007, 0.0007,  ..., 0.0007, 0.0007, 0.0007],\n",
            "        [0.0003, 0.0003, 0.0003,  ..., 0.0003, 0.0003, 0.0003]])\n",
            "Updated Weights -  Parameter containing:\n",
            "tensor([[-0.0229,  0.0031,  0.0286,  ..., -0.0038,  0.0183,  0.0106],\n",
            "        [ 0.0200,  0.0020,  0.0035,  ...,  0.0140,  0.0335, -0.0039],\n",
            "        [-0.0023, -0.0030,  0.0106,  ..., -0.0171,  0.0147,  0.0160],\n",
            "        ...,\n",
            "        [-0.0270,  0.0246,  0.0218,  ...,  0.0025, -0.0345,  0.0061],\n",
            "        [ 0.0084, -0.0081,  0.0132,  ..., -0.0091,  0.0287, -0.0109],\n",
            "        [-0.0077,  0.0304,  0.0047,  ...,  0.0343,  0.0254,  0.0303]],\n",
            "       requires_grad=True)\n"
          ],
          "name": "stdout"
        }
      ]
    },
    {
      "cell_type": "markdown",
      "metadata": {
        "id": "cxFGmrS3uEO_"
      },
      "source": [
        "## Training Process"
      ]
    },
    {
      "cell_type": "code",
      "metadata": {
        "colab": {
          "base_uri": "https://localhost:8080/"
        },
        "id": "C-aJEHKSuGdb",
        "outputId": "8d1a532e-6a82-4e02-e72d-15d610e87b2b"
      },
      "source": [
        "model = nn.Sequential(\r\n",
        "    nn.Linear(784, 128),\r\n",
        "    nn.ReLU(),\r\n",
        "    nn.Linear(128, 64),\r\n",
        "    nn.ReLU(),\r\n",
        "    nn.Linear(64, 10),\r\n",
        "    nn.LogSoftmax(dim=1)\r\n",
        ")\r\n",
        "\r\n",
        "criterion = nn.NLLLoss()\r\n",
        "optimizer = optim.SGD(model.parameters(), lr=0.003)\r\n",
        "\r\n",
        "epochs = 5\r\n",
        "\r\n",
        "for epoch in range(epochs):\r\n",
        "    running_loss = 0\r\n",
        "    for images, labels in trainloader:\r\n",
        "        # Flatten \r\n",
        "        images = images.view(images.shape[0], -1)\r\n",
        "        # Clearing gradients\r\n",
        "        optimizer.zero_grad()\r\n",
        "        # Forward\r\n",
        "        outputs = model.forward(images)\r\n",
        "        loss = criterion(outputs, labels)\r\n",
        "        # Backward\r\n",
        "        loss.backward()\r\n",
        "        # Update weights\r\n",
        "        optimizer.step()\r\n",
        "\r\n",
        "        running_loss += loss.item()\r\n",
        "    else:\r\n",
        "        print(f\"Training loss: {running_loss / len(trainloader)}\")"
      ],
      "execution_count": null,
      "outputs": [
        {
          "output_type": "stream",
          "text": [
            "Training loss: 1.8996283100612128\n",
            "Training loss: 0.8511095293549332\n",
            "Training loss: 0.5220248017992292\n",
            "Training loss: 0.42931237453018933\n",
            "Training loss: 0.3863604827952792\n"
          ],
          "name": "stdout"
        }
      ]
    },
    {
      "cell_type": "code",
      "metadata": {
        "colab": {
          "base_uri": "https://localhost:8080/",
          "height": 253
        },
        "id": "qAQQlU_bueef",
        "outputId": "4db2f97d-a86e-46a8-ad6a-489208845900"
      },
      "source": [
        "import numpy as np\r\n",
        "import matplotlib.pyplot as plt\r\n",
        "# Credits to this function\r\n",
        "# https://github.com/udacity/deep-learning-v2-pytorch/blob/master/intro-to-pytorch/helper.py\r\n",
        "def view_classify(img, ps, version=\"MNIST\"):\r\n",
        "    ''' Function for viewing an image and it's predicted classes.\r\n",
        "    '''\r\n",
        "    ps = ps.data.numpy().squeeze()\r\n",
        "\r\n",
        "    fig, (ax1, ax2) = plt.subplots(figsize=(6,9), ncols=2)\r\n",
        "    ax1.imshow(img.resize_(1, 28, 28).numpy().squeeze())\r\n",
        "    ax1.axis('off')\r\n",
        "    ax2.barh(np.arange(10), ps)\r\n",
        "    ax2.set_aspect(0.1)\r\n",
        "    ax2.set_yticks(np.arange(10))\r\n",
        "    if version == \"MNIST\":\r\n",
        "        ax2.set_yticklabels(np.arange(10))\r\n",
        "    elif version == \"Fashion\":\r\n",
        "        ax2.set_yticklabels(['T-shirt/top',\r\n",
        "                            'Trouser',\r\n",
        "                            'Pullover',\r\n",
        "                            'Dress',\r\n",
        "                            'Coat',\r\n",
        "                            'Sandal',\r\n",
        "                            'Shirt',\r\n",
        "                            'Sneaker',\r\n",
        "                            'Bag',\r\n",
        "                            'Ankle Boot'], size='small');\r\n",
        "    ax2.set_title('Class Probability')\r\n",
        "    ax2.set_xlim(0, 1.1)\r\n",
        "\r\n",
        "    plt.tight_layout()\r\n",
        "\r\n",
        "images, labels = next(iter(trainloader))\r\n",
        "image = images[0].view(1, 784)\r\n",
        "\r\n",
        "# Gradients are not needed. Turn off to speed up\r\n",
        "with torch.no_grad():\r\n",
        "    logps = model.forward(image)\r\n",
        "# We need exp(log probabilities) for getting softmax probabilities\r\n",
        "ps = torch.exp(logps)\r\n",
        "view_classify(image.view(1, 28, 28), ps)"
      ],
      "execution_count": null,
      "outputs": [
        {
          "output_type": "display_data",
          "data": {
            "image/png": "[encoded data removed]",
            "text/plain": [
              "<Figure size 432x648 with 2 Axes>"
            ]
          },
          "metadata": {
            "tags": [],
            "needs_background": "light"
          }
        }
      ]
    }
  ]
}
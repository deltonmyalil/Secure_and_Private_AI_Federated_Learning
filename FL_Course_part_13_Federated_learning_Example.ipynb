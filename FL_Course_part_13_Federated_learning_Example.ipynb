{
  "nbformat": 4,
  "nbformat_minor": 0,
  "metadata": {
    "colab": {
      "name": "FL_Course_part_13_Federated_learning_Example.ipynb",
      "provenance": [],
      "authorship_tag": "ABX9TyNHIePXvG01On0sQEcmYhyL"
    },
    "kernelspec": {
      "name": "python3",
      "display_name": "Python 3"
    }
  },
  "cells": [
    {
      "cell_type": "code",
      "metadata": {
        "colab": {
          "base_uri": "https://localhost:8080/"
        },
        "id": "p44UxoSME4tE",
        "outputId": "c7573a56-fda5-464a-bc06-4d3b39ecc59c"
      },
      "source": [
        "!pip install syft==0.2.9 >/dev/null"
      ],
      "execution_count": null,
      "outputs": [
        {
          "output_type": "stream",
          "text": [
            "\u001b[31mERROR: tensorflow 2.4.1 has requirement numpy~=1.19.2, but you'll have numpy 1.18.5 which is incompatible.\u001b[0m\n",
            "\u001b[31mERROR: google-colab 1.0.0 has requirement notebook~=5.3.0; python_version >= \"3.0\", but you'll have notebook 5.7.8 which is incompatible.\u001b[0m\n",
            "\u001b[31mERROR: google-colab 1.0.0 has requirement requests~=2.23.0, but you'll have requests 2.22.0 which is incompatible.\u001b[0m\n",
            "\u001b[31mERROR: google-colab 1.0.0 has requirement tornado~=5.1.0; python_version >= \"3.0\", but you'll have tornado 4.5.3 which is incompatible.\u001b[0m\n",
            "\u001b[31mERROR: datascience 0.10.6 has requirement folium==0.2.1, but you'll have folium 0.8.3 which is incompatible.\u001b[0m\n",
            "\u001b[31mERROR: bokeh 2.1.1 has requirement tornado>=5.1, but you'll have tornado 4.5.3 which is incompatible.\u001b[0m\n",
            "\u001b[31mERROR: albumentations 0.1.12 has requirement imgaug<0.2.7,>=0.2.5, but you'll have imgaug 0.2.9 which is incompatible.\u001b[0m\n"
          ],
          "name": "stdout"
        }
      ]
    },
    {
      "cell_type": "markdown",
      "metadata": {
        "id": "-dzkYkGLFshH"
      },
      "source": [
        "Using version 0.1.2a1 specifically resulted in AttributeError: 'str' object has no attribute 'decode' pytorch"
      ]
    },
    {
      "cell_type": "markdown",
      "metadata": {
        "id": "gCPmZHYPHiiX"
      },
      "source": [
        "## Centralized Example"
      ]
    },
    {
      "cell_type": "code",
      "metadata": {
        "colab": {
          "base_uri": "https://localhost:8080/"
        },
        "id": "vssi2MQ7FvtU",
        "outputId": "46d38a30-eb4a-490e-df01-25585f416c93"
      },
      "source": [
        "import torch\r\n",
        "from torch import nn, optim\r\n",
        "\r\n",
        "# A Toy Dataset\r\n",
        "data = torch.tensor([[1.,1],[0,1],[1,0],[0,0]], requires_grad=True)\r\n",
        "target = torch.tensor([[1.],[1], [0], [0]], requires_grad=True)\r\n",
        "\r\n",
        "# A toy model\r\n",
        "model = nn.Linear(2, 1)\r\n",
        "\r\n",
        "# Optimizer\r\n",
        "opt = optim.SGD(params=model.parameters(), lr=0.1)\r\n",
        "opt.zero_grad()\r\n",
        "\r\n",
        "# Prediction, loss and backprop\r\n",
        "pred = model(data)\r\n",
        "loss = ((pred - target)**2).sum()\r\n",
        "loss.backward()\r\n",
        "opt.step()\r\n",
        "print(loss.data)"
      ],
      "execution_count": null,
      "outputs": [
        {
          "output_type": "stream",
          "text": [
            "tensor(4.8502)\n"
          ],
          "name": "stdout"
        }
      ]
    },
    {
      "cell_type": "code",
      "metadata": {
        "colab": {
          "base_uri": "https://localhost:8080/"
        },
        "id": "BRt0Z1nNG79j",
        "outputId": "a26702f2-7cc3-4586-9e7a-d376b208375a"
      },
      "source": [
        "opt.zero_grad()\r\n",
        "\r\n",
        "# Prediction, loss and backprop\r\n",
        "pred = model(data)\r\n",
        "loss = ((pred - target)**2).sum()\r\n",
        "loss.backward()\r\n",
        "opt.step()\r\n",
        "print(loss.data)"
      ],
      "execution_count": null,
      "outputs": [
        {
          "output_type": "stream",
          "text": [
            "tensor(1.2803)\n"
          ],
          "name": "stdout"
        }
      ]
    },
    {
      "cell_type": "markdown",
      "metadata": {
        "id": "uKrSkGpiHAHx"
      },
      "source": [
        "Loss went down."
      ]
    },
    {
      "cell_type": "markdown",
      "metadata": {
        "id": "WYsro-vZHBys"
      },
      "source": [
        "This is for a regular centralized Deep Learning. Creating a training loop for it as follows:"
      ]
    },
    {
      "cell_type": "code",
      "metadata": {
        "colab": {
          "base_uri": "https://localhost:8080/"
        },
        "id": "TtRdg6dBHJcO",
        "outputId": "f1fbe773-2af1-444d-ddbf-cfb873620fe1"
      },
      "source": [
        "def train(iterations=20):\r\n",
        "    for iter in range(iterations):\r\n",
        "        opt.zero_grad()\r\n",
        "        pred = model(data)\r\n",
        "        loss = ((target - pred)**2).sum()\r\n",
        "        loss.backward()\r\n",
        "        opt.step()\r\n",
        "        print(loss.data)\r\n",
        "\r\n",
        "train(10)"
      ],
      "execution_count": null,
      "outputs": [
        {
          "output_type": "stream",
          "text": [
            "tensor(0.7584)\n",
            "tensor(0.5392)\n",
            "tensor(0.3938)\n",
            "tensor(0.2899)\n",
            "tensor(0.2145)\n",
            "tensor(0.1594)\n",
            "tensor(0.1190)\n",
            "tensor(0.0891)\n",
            "tensor(0.0669)\n",
            "tensor(0.0504)\n"
          ],
          "name": "stdout"
        }
      ]
    },
    {
      "cell_type": "markdown",
      "metadata": {
        "id": "9I-6zeGcHcxg"
      },
      "source": [
        "## Making this Federated"
      ]
    },
    {
      "cell_type": "markdown",
      "metadata": {
        "id": "_SWQaHd7HgOA"
      },
      "source": [
        "### First thing to do is to split the data and send them to two different workers"
      ]
    },
    {
      "cell_type": "code",
      "metadata": {
        "colab": {
          "base_uri": "https://localhost:8080/"
        },
        "id": "TdB_d63oHtXQ",
        "outputId": "9593f618-88f3-4f17-895d-cdf1c039d324"
      },
      "source": [
        "import syft\r\n",
        "\r\n",
        "# Overriding pytorch methods to syft methods that act on pointers to tensors instead\r\n",
        "hook = syft.TorchHook(torch)\r\n",
        "\r\n",
        "# Creating Virtual workers for bob and alice\r\n",
        "bob = syft.VirtualWorker(hook, id='bob')\r\n",
        "alice = syft.VirtualWorker(hook, id='alice')"
      ],
      "execution_count": null,
      "outputs": [
        {
          "output_type": "stream",
          "text": [
            "WARNING:root:Torch was already hooked... skipping hooking process\n"
          ],
          "name": "stderr"
        }
      ]
    },
    {
      "cell_type": "code",
      "metadata": {
        "id": "BB3WLcdAH3Z_"
      },
      "source": [
        "# Sending first two rows to bob\r\n",
        "data_bob = data[0:2].send(bob)\r\n",
        "target_bob = target[0:2].send(bob)\r\n",
        "\r\n",
        "# Sending the last two rows to alice\r\n",
        "data_alice = data[2:4].send(alice)\r\n",
        "target_alice = target[2:4].send(alice)\r\n",
        "\r\n",
        "# Initializing datasets - to be used later\r\n",
        "datasets = [(data_bob, target_bob), \r\n",
        "            (data_alice, target_alice)]\r\n",
        "\r\n",
        "# Model\r\n",
        "# model = nn.Linear(2, 1)\r\n",
        "# opt = optim.SGD(params=model.parameters(), lr=0.1)"
      ],
      "execution_count": null,
      "outputs": []
    },
    {
      "cell_type": "code",
      "metadata": {
        "id": "za399kHgJfY5"
      },
      "source": [
        "# datasets[0] # data with bob"
      ],
      "execution_count": null,
      "outputs": []
    },
    {
      "cell_type": "code",
      "metadata": {
        "id": "qi8A9vAMJ4qN"
      },
      "source": [
        "# datasets[1] # data with alice"
      ],
      "execution_count": null,
      "outputs": []
    },
    {
      "cell_type": "code",
      "metadata": {
        "id": "cNTOe584J67x"
      },
      "source": [
        "# _data, _target = datasets[0]"
      ],
      "execution_count": null,
      "outputs": []
    },
    {
      "cell_type": "code",
      "metadata": {
        "id": "FWK12b8_KGkq"
      },
      "source": [
        "# _data"
      ],
      "execution_count": null,
      "outputs": []
    },
    {
      "cell_type": "code",
      "metadata": {
        "id": "AIg3ZOUQKHPQ"
      },
      "source": [
        "# _data.location"
      ],
      "execution_count": null,
      "outputs": []
    },
    {
      "cell_type": "markdown",
      "metadata": {
        "id": "iLGLdD61KJal"
      },
      "source": [
        "We will use this location to send the model to their respective workers"
      ]
    },
    {
      "cell_type": "code",
      "metadata": {
        "id": "Lo2OOktUKORZ"
      },
      "source": [
        "# model = model.send(_data.location)"
      ],
      "execution_count": null,
      "outputs": []
    },
    {
      "cell_type": "code",
      "metadata": {
        "id": "OGRam_UMKVH_"
      },
      "source": [
        "# model"
      ],
      "execution_count": null,
      "outputs": []
    },
    {
      "cell_type": "code",
      "metadata": {
        "id": "eMoDggW6KV6O"
      },
      "source": [
        "# opt.zero_grad()"
      ],
      "execution_count": null,
      "outputs": []
    },
    {
      "cell_type": "code",
      "metadata": {
        "id": "BWvef9tzKd60"
      },
      "source": [
        "def train(iterations=20):\r\n",
        "\r\n",
        "    # Setting the optimizer and model\r\n",
        "    model = nn.Linear(2,1)\r\n",
        "    opt = optim.SGD(params=model.parameters(), lr=0.1)\r\n",
        "    \r\n",
        "    for iter in range(iterations):\r\n",
        "        # Loop to select different workers \r\n",
        "        # Note that here, workers are selected one after the other\r\n",
        "        # Once training completes on one worker, training begins on another\r\n",
        "        for _data, _target in datasets:\r\n",
        "\r\n",
        "            # send model to the worker pointed by _data.location\r\n",
        "            model = model.send(_data.location)\r\n",
        "\r\n",
        "            # do normal training\r\n",
        "            opt.zero_grad()\r\n",
        "            pred = model(_data)\r\n",
        "            loss = ((pred - _target)**2).sum()\r\n",
        "            loss.backward()\r\n",
        "            opt.step()\r\n",
        "\r\n",
        "            # get the model back from the worker\r\n",
        "            model = model.get()\r\n",
        "\r\n",
        "            print(loss.get())"
      ],
      "execution_count": null,
      "outputs": []
    },
    {
      "cell_type": "code",
      "metadata": {
        "colab": {
          "base_uri": "https://localhost:8080/"
        },
        "id": "TDXpM5oXLaSR",
        "outputId": "532c2e27-10e8-4dc0-b000-b94101a0a060"
      },
      "source": [
        "train()"
      ],
      "execution_count": null,
      "outputs": [
        {
          "output_type": "stream",
          "text": [
            "tensor(10.8281, requires_grad=True)\n",
            "tensor(0.1081, requires_grad=True)\n",
            "tensor(0.1975, requires_grad=True)\n",
            "tensor(0.1577, requires_grad=True)\n",
            "tensor(0.0577, requires_grad=True)\n",
            "tensor(0.1072, requires_grad=True)\n",
            "tensor(0.0355, requires_grad=True)\n",
            "tensor(0.0707, requires_grad=True)\n",
            "tensor(0.0236, requires_grad=True)\n",
            "tensor(0.0471, requires_grad=True)\n",
            "tensor(0.0161, requires_grad=True)\n",
            "tensor(0.0318, requires_grad=True)\n",
            "tensor(0.0111, requires_grad=True)\n",
            "tensor(0.0217, requires_grad=True)\n",
            "tensor(0.0078, requires_grad=True)\n",
            "tensor(0.0150, requires_grad=True)\n",
            "tensor(0.0056, requires_grad=True)\n",
            "tensor(0.0104, requires_grad=True)\n",
            "tensor(0.0040, requires_grad=True)\n",
            "tensor(0.0074, requires_grad=True)\n",
            "tensor(0.0030, requires_grad=True)\n",
            "tensor(0.0052, requires_grad=True)\n",
            "tensor(0.0022, requires_grad=True)\n",
            "tensor(0.0037, requires_grad=True)\n",
            "tensor(0.0016, requires_grad=True)\n",
            "tensor(0.0027, requires_grad=True)\n",
            "tensor(0.0012, requires_grad=True)\n",
            "tensor(0.0019, requires_grad=True)\n",
            "tensor(0.0009, requires_grad=True)\n",
            "tensor(0.0014, requires_grad=True)\n",
            "tensor(0.0007, requires_grad=True)\n",
            "tensor(0.0010, requires_grad=True)\n",
            "tensor(0.0005, requires_grad=True)\n",
            "tensor(0.0008, requires_grad=True)\n",
            "tensor(0.0004, requires_grad=True)\n",
            "tensor(0.0006, requires_grad=True)\n",
            "tensor(0.0003, requires_grad=True)\n",
            "tensor(0.0004, requires_grad=True)\n",
            "tensor(0.0002, requires_grad=True)\n",
            "tensor(0.0003, requires_grad=True)\n"
          ],
          "name": "stdout"
        }
      ]
    },
    {
      "cell_type": "markdown",
      "metadata": {
        "id": "SEIAPvHcLfQg"
      },
      "source": [
        "Shortcoming: Model can be used to reverse engineer the data\r\n",
        "\r\n",
        "Shortcoming: Model training on alice only happens after bob. This means alice have a model that is trained on bob and she can reverse engineer the model to explain bob's data characteristics.\r\n",
        "\r\n",
        "Shortcoming: Linear training - can be parallelized - first synchronously, then ansynchronously further down the line.\r\n",
        "\r\n",
        "The trusted third party 'me' which is created during hooking of pysyft to torch (LOL), will be able to see the private models passed around by alice and bob."
      ]
    },
    {
      "cell_type": "markdown",
      "metadata": {
        "id": "H7kOAcknU0qX"
      },
      "source": [
        "#### Note: Library is very unstable. Could throw error randomly. (get_msg_pack, pytorch has no attribute.. etc). Try restarting kernel and running. (Without factory resetting runtime.)"
      ]
    },
    {
      "cell_type": "markdown",
      "metadata": {
        "id": "UX-IUsTPgjq_"
      },
      "source": [
        "## How to average the gradients before calling get()?\r\n",
        "\r\n",
        "This is to make sure that we dont see anyone's gradient/model. This can be done by using pointers to pointers."
      ]
    },
    {
      "cell_type": "code",
      "metadata": {
        "colab": {
          "base_uri": "https://localhost:8080/"
        },
        "id": "4zovf2aNojbx",
        "outputId": "2611560d-780f-4f98-ec98-797120dda39d"
      },
      "source": [
        "bob.clear_objects()\r\n",
        "alice.clear_objects()\r\n",
        "\r\n",
        "x = torch.tensor([1,2,3,4,5]).send(bob)\r\n",
        "bob._objects"
      ],
      "execution_count": null,
      "outputs": [
        {
          "output_type": "execute_result",
          "data": {
            "text/plain": [
              "{86522025535: tensor([1, 2, 3, 4, 5])}"
            ]
          },
          "metadata": {
            "tags": []
          },
          "execution_count": 31
        }
      ]
    },
    {
      "cell_type": "code",
      "metadata": {
        "id": "Cbw7NHVHrsVq"
      },
      "source": [
        "x = x.send(alice)"
      ],
      "execution_count": null,
      "outputs": []
    },
    {
      "cell_type": "code",
      "metadata": {
        "colab": {
          "base_uri": "https://localhost:8080/"
        },
        "id": "48rdBUxprxQi",
        "outputId": "cd9c197c-45b7-4c0f-8ac8-9fd6a1dc7405"
      },
      "source": [
        "x"
      ],
      "execution_count": null,
      "outputs": [
        {
          "output_type": "execute_result",
          "data": {
            "text/plain": [
              "(Wrapper)>[PointerTensor | me:77807438018 -> alice:83172385140]"
            ]
          },
          "metadata": {
            "tags": []
          },
          "execution_count": 33
        }
      ]
    },
    {
      "cell_type": "code",
      "metadata": {
        "colab": {
          "base_uri": "https://localhost:8080/"
        },
        "id": "0DbBVS5Ary3c",
        "outputId": "0df93f5e-5747-419d-dffa-62203ec03cb8"
      },
      "source": [
        "alice._objects"
      ],
      "execution_count": null,
      "outputs": [
        {
          "output_type": "execute_result",
          "data": {
            "text/plain": [
              "{83172385140: (Wrapper)>[PointerTensor | alice:83172385140 -> bob:86522025535]}"
            ]
          },
          "metadata": {
            "tags": []
          },
          "execution_count": 34
        }
      ]
    },
    {
      "cell_type": "code",
      "metadata": {
        "colab": {
          "base_uri": "https://localhost:8080/"
        },
        "id": "-PbTDG7yr2UA",
        "outputId": "a523ccc7-cce8-47d7-8df4-4d32b3eda2f4"
      },
      "source": [
        "x.location"
      ],
      "execution_count": null,
      "outputs": [
        {
          "output_type": "execute_result",
          "data": {
            "text/plain": [
              "<VirtualWorker id:alice #objects:1>"
            ]
          },
          "metadata": {
            "tags": []
          },
          "execution_count": 35
        }
      ]
    },
    {
      "cell_type": "code",
      "metadata": {
        "colab": {
          "base_uri": "https://localhost:8080/"
        },
        "id": "6R8JYaIUr7gp",
        "outputId": "e7c2c5a5-db0e-4d9b-bc01-70e07f9a8de9"
      },
      "source": [
        "bob._objects"
      ],
      "execution_count": null,
      "outputs": [
        {
          "output_type": "execute_result",
          "data": {
            "text/plain": [
              "{86522025535: tensor([1, 2, 3, 4, 5])}"
            ]
          },
          "metadata": {
            "tags": []
          },
          "execution_count": 36
        }
      ]
    },
    {
      "cell_type": "code",
      "metadata": {
        "colab": {
          "base_uri": "https://localhost:8080/"
        },
        "id": "aJYOoFzvsVHd",
        "outputId": "433ff347-9f44-4a57-9d53-0455cc582d74"
      },
      "source": [
        "x"
      ],
      "execution_count": null,
      "outputs": [
        {
          "output_type": "execute_result",
          "data": {
            "text/plain": [
              "(Wrapper)>[PointerTensor | me:77807438018 -> alice:83172385140]"
            ]
          },
          "metadata": {
            "tags": []
          },
          "execution_count": 37
        }
      ]
    },
    {
      "cell_type": "markdown",
      "metadata": {
        "id": "0R6TwbvMsDuV"
      },
      "source": [
        "At alice, she got a pointer from alice to bob. Ie, x at alice points to bob.\r\n",
        "\r\n",
        "And our x pointer no longer points to bob, but at alice."
      ]
    },
    {
      "cell_type": "markdown",
      "metadata": {
        "id": "F-bp3lqXsY-F"
      },
      "source": [
        "So, now when we call x, it points to alice's machine first which then points to bob's machine and then execution happens over there."
      ]
    },
    {
      "cell_type": "code",
      "metadata": {
        "colab": {
          "base_uri": "https://localhost:8080/"
        },
        "id": "wlxjlJZmsn39",
        "outputId": "04184267-26e4-4244-cc70-0cf4ce0deadf"
      },
      "source": [
        "y = x + x; y"
      ],
      "execution_count": null,
      "outputs": [
        {
          "output_type": "execute_result",
          "data": {
            "text/plain": [
              "(Wrapper)>[PointerTensor | me:83415556672 -> alice:47654710747]"
            ]
          },
          "metadata": {
            "tags": []
          },
          "execution_count": 38
        }
      ]
    },
    {
      "cell_type": "code",
      "metadata": {
        "colab": {
          "base_uri": "https://localhost:8080/"
        },
        "id": "ldPeq9tDsyYA",
        "outputId": "b8a469ca-8ea7-43b1-a2a5-49ac44ce0add"
      },
      "source": [
        "y.location"
      ],
      "execution_count": null,
      "outputs": [
        {
          "output_type": "execute_result",
          "data": {
            "text/plain": [
              "<VirtualWorker id:alice #objects:2>"
            ]
          },
          "metadata": {
            "tags": []
          },
          "execution_count": 39
        }
      ]
    },
    {
      "cell_type": "code",
      "metadata": {
        "colab": {
          "base_uri": "https://localhost:8080/"
        },
        "id": "Wf6yK-b9s7xS",
        "outputId": "d44c1f40-1daa-45ac-8d1a-9766bc06ff93"
      },
      "source": [
        "alice._objects"
      ],
      "execution_count": null,
      "outputs": [
        {
          "output_type": "execute_result",
          "data": {
            "text/plain": [
              "{47654710747: (Wrapper)>[PointerTensor | alice:47654710747 -> bob:99760747990],\n",
              " 83172385140: (Wrapper)>[PointerTensor | alice:83172385140 -> bob:86522025535]}"
            ]
          },
          "metadata": {
            "tags": []
          },
          "execution_count": 41
        }
      ]
    },
    {
      "cell_type": "code",
      "metadata": {
        "colab": {
          "base_uri": "https://localhost:8080/"
        },
        "id": "p1BFoEpUs1zC",
        "outputId": "119b7fa1-5fd2-4afb-c2c4-d7dc97fce77e"
      },
      "source": [
        "bob._objects"
      ],
      "execution_count": null,
      "outputs": [
        {
          "output_type": "execute_result",
          "data": {
            "text/plain": [
              "{86522025535: tensor([1, 2, 3, 4, 5]),\n",
              " 99760747990: tensor([ 2,  4,  6,  8, 10])}"
            ]
          },
          "metadata": {
            "tags": []
          },
          "execution_count": 40
        }
      ]
    },
    {
      "cell_type": "markdown",
      "metadata": {
        "id": "Vo3ZBlUTsrCO"
      },
      "source": [
        "y still points to alice, but execution happened at bob.\r\n",
        "\r\n",
        "Alice have now got another pointer to bob.\r\n",
        "\r\n",
        "x = torch.tensor([1,1,1,1]).send(bob).send(alice) means that the owner of the tensor is bob and alice have got a pointer to that tensor that resides in bob."
      ]
    },
    {
      "cell_type": "code",
      "metadata": {
        "colab": {
          "base_uri": "https://localhost:8080/"
        },
        "id": "twUdh7qrtDlg",
        "outputId": "fc9322ac-1cb5-49d0-966c-1d7a96917566"
      },
      "source": [
        "x.location"
      ],
      "execution_count": null,
      "outputs": [
        {
          "output_type": "execute_result",
          "data": {
            "text/plain": [
              "<VirtualWorker id:alice #objects:2>"
            ]
          },
          "metadata": {
            "tags": []
          },
          "execution_count": 42
        }
      ]
    },
    {
      "cell_type": "markdown",
      "metadata": {
        "id": "_Km7rPght3Pu"
      },
      "source": [
        "### how do we get this data back?\r\n"
      ]
    },
    {
      "cell_type": "code",
      "metadata": {
        "colab": {
          "base_uri": "https://localhost:8080/"
        },
        "id": "TputWlyht6l3",
        "outputId": "945fb615-e87e-4e29-f20f-4a79264bd024"
      },
      "source": [
        "x.location # pointer to alice"
      ],
      "execution_count": null,
      "outputs": [
        {
          "output_type": "execute_result",
          "data": {
            "text/plain": [
              "<VirtualWorker id:alice #objects:2>"
            ]
          },
          "metadata": {
            "tags": []
          },
          "execution_count": 43
        }
      ]
    },
    {
      "cell_type": "code",
      "metadata": {
        "colab": {
          "base_uri": "https://localhost:8080/"
        },
        "id": "7QVPkC_vt9T6",
        "outputId": "5f4e65ee-285f-4452-a039-c535747402c6"
      },
      "source": [
        "x = x.get(); x"
      ],
      "execution_count": null,
      "outputs": [
        {
          "output_type": "execute_result",
          "data": {
            "text/plain": [
              "(Wrapper)>[PointerTensor | me:83172385140 -> bob:86522025535]"
            ]
          },
          "metadata": {
            "tags": []
          },
          "execution_count": 44
        }
      ]
    },
    {
      "cell_type": "code",
      "metadata": {
        "colab": {
          "base_uri": "https://localhost:8080/"
        },
        "id": "qT-WBOaEt_5X",
        "outputId": "5c9f0d4f-9cdd-466e-c061-66413642a513"
      },
      "source": [
        "x.location # Now it is a pointer to bob"
      ],
      "execution_count": null,
      "outputs": [
        {
          "output_type": "execute_result",
          "data": {
            "text/plain": [
              "<VirtualWorker id:bob #objects:2>"
            ]
          },
          "metadata": {
            "tags": []
          },
          "execution_count": 45
        }
      ]
    },
    {
      "cell_type": "code",
      "metadata": {
        "colab": {
          "base_uri": "https://localhost:8080/"
        },
        "id": "0lsFF0A9uA1b",
        "outputId": "6b994110-dda5-48e9-b303-1e7562b175f2"
      },
      "source": [
        "x = x.get(); x"
      ],
      "execution_count": null,
      "outputs": [
        {
          "output_type": "execute_result",
          "data": {
            "text/plain": [
              "tensor([1, 2, 3, 4, 5])"
            ]
          },
          "metadata": {
            "tags": []
          },
          "execution_count": 46
        }
      ]
    },
    {
      "cell_type": "code",
      "metadata": {
        "colab": {
          "base_uri": "https://localhost:8080/"
        },
        "id": "jkXljB0c1TlO",
        "outputId": "f5bee086-a0cc-4ac2-9505-0fc6deb72905"
      },
      "source": [
        "bob._objects"
      ],
      "execution_count": null,
      "outputs": [
        {
          "output_type": "execute_result",
          "data": {
            "text/plain": [
              "{99760747990: tensor([ 2,  4,  6,  8, 10])}"
            ]
          },
          "metadata": {
            "tags": []
          },
          "execution_count": 49
        }
      ]
    },
    {
      "cell_type": "markdown",
      "metadata": {
        "id": "EA1UY4nWuIHM"
      },
      "source": [
        "Note that if you delete the pointer like del x, it will delete (chained delete) all the objects (including further pointers in chain) pointed by that pointer"
      ]
    },
    {
      "cell_type": "markdown",
      "metadata": {
        "id": "3NezmHsj2RNZ"
      },
      "source": [
        "### Pointer Chain Operations"
      ]
    },
    {
      "cell_type": "code",
      "metadata": {
        "colab": {
          "base_uri": "https://localhost:8080/"
        },
        "id": "fGtOhPL52atV",
        "outputId": "274ececb-77b6-44f8-c6f0-70ad16fc75f6"
      },
      "source": [
        "bob.clear_objects()\r\n",
        "alice.clear_objects()\r\n",
        "\r\n",
        "x = torch.tensor([1,2,3,4,5]).send(bob).send(alice)\r\n",
        "bob._objects"
      ],
      "execution_count": null,
      "outputs": [
        {
          "output_type": "execute_result",
          "data": {
            "text/plain": [
              "{32923310645: tensor([1, 2, 3, 4, 5])}"
            ]
          },
          "metadata": {
            "tags": []
          },
          "execution_count": 50
        }
      ]
    },
    {
      "cell_type": "code",
      "metadata": {
        "colab": {
          "base_uri": "https://localhost:8080/"
        },
        "id": "z0YAc2oj2kO0",
        "outputId": "4a7bc4ae-a977-4e8f-869e-56ddcab38c29"
      },
      "source": [
        "alice._objects"
      ],
      "execution_count": null,
      "outputs": [
        {
          "output_type": "execute_result",
          "data": {
            "text/plain": [
              "{6412344893: (Wrapper)>[PointerTensor | alice:6412344893 -> bob:32923310645]}"
            ]
          },
          "metadata": {
            "tags": []
          },
          "execution_count": 51
        }
      ]
    },
    {
      "cell_type": "code",
      "metadata": {
        "colab": {
          "base_uri": "https://localhost:8080/"
        },
        "id": "zzxTOE9N2nfj",
        "outputId": "bbc6a18c-0e39-4e24-ad5a-ff99402eec27"
      },
      "source": [
        "x.location"
      ],
      "execution_count": null,
      "outputs": [
        {
          "output_type": "execute_result",
          "data": {
            "text/plain": [
              "<VirtualWorker id:alice #objects:1>"
            ]
          },
          "metadata": {
            "tags": []
          },
          "execution_count": 52
        }
      ]
    },
    {
      "cell_type": "code",
      "metadata": {
        "colab": {
          "base_uri": "https://localhost:8080/"
        },
        "id": "Y2DASY_p2r2Z",
        "outputId": "fffd4810-6cce-427c-d2ae-ab727b6fb6aa"
      },
      "source": [
        "x.remote_get()"
      ],
      "execution_count": null,
      "outputs": [
        {
          "output_type": "execute_result",
          "data": {
            "text/plain": [
              "(Wrapper)>[PointerTensor | me:65059115163 -> alice:6412344893]"
            ]
          },
          "metadata": {
            "tags": []
          },
          "execution_count": 53
        }
      ]
    },
    {
      "cell_type": "code",
      "metadata": {
        "colab": {
          "base_uri": "https://localhost:8080/"
        },
        "id": "9VZhiSFx209N",
        "outputId": "accefea7-4b05-48c4-8795-5804edfc0a7a"
      },
      "source": [
        "bob._objects"
      ],
      "execution_count": null,
      "outputs": [
        {
          "output_type": "execute_result",
          "data": {
            "text/plain": [
              "{}"
            ]
          },
          "metadata": {
            "tags": []
          },
          "execution_count": 54
        }
      ]
    },
    {
      "cell_type": "code",
      "metadata": {
        "colab": {
          "base_uri": "https://localhost:8080/"
        },
        "id": "fDYMg1cW24Z5",
        "outputId": "315fa1cb-b3b5-472b-dd8f-e3ec699eab3d"
      },
      "source": [
        "alice._objects"
      ],
      "execution_count": null,
      "outputs": [
        {
          "output_type": "execute_result",
          "data": {
            "text/plain": [
              "{6412344893: tensor([1, 2, 3, 4, 5])}"
            ]
          },
          "metadata": {
            "tags": []
          },
          "execution_count": 55
        }
      ]
    },
    {
      "cell_type": "markdown",
      "metadata": {
        "id": "IyH7yj9z28gP"
      },
      "source": [
        "Did you see that?"
      ]
    },
    {
      "cell_type": "markdown",
      "metadata": {
        "id": "o_19VeBZ2_ww"
      },
      "source": [
        "We were able to get bob's data to alice's machine without ever touching our machine 'me'. This forms the basis for better privacy. Honest but curious threat model is satisfied."
      ]
    },
    {
      "cell_type": "code",
      "metadata": {
        "colab": {
          "base_uri": "https://localhost:8080/"
        },
        "id": "LCGHJ_uO3RFX",
        "outputId": "22a34443-ae71-4a12-fe2b-6a2f7c0b53b2"
      },
      "source": [
        "x.location"
      ],
      "execution_count": null,
      "outputs": [
        {
          "output_type": "execute_result",
          "data": {
            "text/plain": [
              "<VirtualWorker id:alice #objects:1>"
            ]
          },
          "metadata": {
            "tags": []
          },
          "execution_count": 56
        }
      ]
    },
    {
      "cell_type": "code",
      "metadata": {
        "colab": {
          "base_uri": "https://localhost:8080/"
        },
        "id": "5l20nKdu3dF5",
        "outputId": "27cac7a2-1ad0-4995-e5a0-a515056e6248"
      },
      "source": [
        "x.move(bob); x"
      ],
      "execution_count": null,
      "outputs": [
        {
          "output_type": "execute_result",
          "data": {
            "text/plain": [
              "(Wrapper)>[PointerTensor | me:65059115163 -> bob:6412344893]"
            ]
          },
          "metadata": {
            "tags": []
          },
          "execution_count": 57
        }
      ]
    },
    {
      "cell_type": "code",
      "metadata": {
        "colab": {
          "base_uri": "https://localhost:8080/"
        },
        "id": "BT4u7ZzD3fxD",
        "outputId": "fdeac60d-cda1-4875-9d89-97b93707a56b"
      },
      "source": [
        "bob._objects"
      ],
      "execution_count": null,
      "outputs": [
        {
          "output_type": "execute_result",
          "data": {
            "text/plain": [
              "{6412344893: tensor([1, 2, 3, 4, 5])}"
            ]
          },
          "metadata": {
            "tags": []
          },
          "execution_count": 58
        }
      ]
    },
    {
      "cell_type": "code",
      "metadata": {
        "id": "vKfbvO6U3jAu",
        "colab": {
          "base_uri": "https://localhost:8080/"
        },
        "outputId": "82cf9ea1-c7f4-4729-e29a-029af04862b0"
      },
      "source": [
        "alice._objects"
      ],
      "execution_count": null,
      "outputs": [
        {
          "output_type": "execute_result",
          "data": {
            "text/plain": [
              "{}"
            ]
          },
          "metadata": {
            "tags": []
          },
          "execution_count": 59
        }
      ]
    },
    {
      "cell_type": "code",
      "metadata": {
        "id": "oAPJHOj63oQQ",
        "colab": {
          "base_uri": "https://localhost:8080/"
        },
        "outputId": "68e02363-eb3f-4baf-c9d0-a4798436f9c8"
      },
      "source": [
        "x.location"
      ],
      "execution_count": null,
      "outputs": [
        {
          "output_type": "execute_result",
          "data": {
            "text/plain": [
              "<VirtualWorker id:bob #objects:1>"
            ]
          },
          "metadata": {
            "tags": []
          },
          "execution_count": 60
        }
      ]
    },
    {
      "cell_type": "code",
      "metadata": {
        "id": "pPUvyAtH3r5v"
      },
      "source": [
        ""
      ],
      "execution_count": null,
      "outputs": []
    }
  ]
}